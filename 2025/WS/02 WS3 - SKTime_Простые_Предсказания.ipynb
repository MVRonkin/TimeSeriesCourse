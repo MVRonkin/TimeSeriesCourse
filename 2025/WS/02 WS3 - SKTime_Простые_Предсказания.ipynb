{
 "cells": [
  {
   "cell_type": "markdown",
   "metadata": {},
   "source": [
    "# Простые методы предсказания ВР"
   ]
  },
  {
   "cell_type": "markdown",
   "metadata": {},
   "source": [
    "## Библиотека  SKTIME"
   ]
  },
  {
   "cell_type": "markdown",
   "metadata": {},
   "source": [
    "Библиотеки [<b>aeon<b>](https://www.aeon-toolkit.org/) и [<b>Scikit-Time</b> (<b><code>Sktime</code></b> )](https://www.sktime.net/en/stable/) — это набор инструментов Python с [открытым исходным кодом](https://github.com/alan-turing-institute/sktime) для работы временными рядами. В основном библиотеки предполагает использование методов машинного обучения. \n",
    "Библиотеки расширяет `API scikit-learn` (а также некоторых [других библиотек](https://wandb.ai/site/articles/a-gentle-introduction-to-time-series-analysis-forecasting)) для задач временных рядов. Он предоставляет необходимые алгоритмы и инструменты преобразования для эффективного решения задач регрессии, прогнозирования и классификации. Библиотека включает специальные алгоритмы обучения временных рядов и методы преобразования. \n",
    "    \n",
    "Отметим, что оригинальная статья по данным фреймворкам может быть найден [тут](https://arxiv.org/pdf/2005.08067.pdf). Также ряд фреймровко предлагают сравнение их функционала с конкурентами. Другими словами некторый обзор фрейморков. Такой обзор может быть найден, например, [тут](https://github.com/salesforce/Merlion?tab=readme-ov-file#comparison-with-related-libraries)."
   ]
  },
  {
   "cell_type": "markdown",
   "metadata": {},
   "source": [
    "Если у вас не установленна данная библиотека, давайте установим ее при помощи следующего кода. Рекомендации по установке можно найти в официальной документации [тут](https://www.sktime.net/en/stable/installation.html). \n",
    "\n",
    "Отметим, что хоть мы и указываем тут код для установки компонент `sktime`, в общем случае рекомендуем установить полную версию пакета с использованием командной строки. Например, для этого можно использовать следующий скрипт\n",
    "```python\n",
    "pip install --upgrade sktime[all_extras]\n",
    "```"
   ]
  },
  {
   "cell_type": "code",
   "execution_count": 1,
   "metadata": {
    "scrolled": true
   },
   "outputs": [],
   "source": [
    "# try:\n",
    "#     import sktime\n",
    "# except:\n",
    "# #     !pip install sktime --user\n",
    "# #     !pip install pmdarima\n",
    "# #     !pip install statsmodels\n",
    "# #     !pip install prophet\n",
    "#     !pip install --upgrade sktime[all_extras]\n",
    "# import aeon"
   ]
  },
  {
   "cell_type": "code",
   "execution_count": 2,
   "metadata": {},
   "outputs": [],
   "source": [
    "import warnings\n",
    "from statsmodels.tools.sm_exceptions import ConvergenceWarning\n",
    "warnings.simplefilter('ignore', ConvergenceWarning)\n",
    "# warnings.filterwarnings(\"ignore\", category=FutureWarning)\n",
    "warnings.simplefilter(\"ignore\", FutureWarning)"
   ]
  },
  {
   "cell_type": "code",
   "execution_count": 3,
   "metadata": {},
   "outputs": [],
   "source": [
    "import sktime\n",
    "import pandas as pd\n",
    "import numpy as np\n",
    "import matplotlib.pyplot as plt\n",
    "%matplotlib inline"
   ]
  },
  {
   "cell_type": "code",
   "execution_count": 4,
   "metadata": {
    "scrolled": true
   },
   "outputs": [],
   "source": [
    "from sktime.forecasting.base import ForecastingHorizon\n",
    "from sktime.forecasting.model_evaluation import evaluate\n",
    "from sktime.forecasting.compose import  TransformedTargetForecaster, AutoEnsembleForecaster\n",
    "from sktime.forecasting.model_selection import temporal_train_test_split\n",
    "\n",
    "from sktime.forecasting.exp_smoothing import ExponentialSmoothing\n",
    "from sktime.forecasting.naive import NaiveForecaster\n",
    "from sktime.forecasting.theta import ThetaForecaster\n",
    "from sktime.forecasting.trend import PolynomialTrendForecaster, TrendForecaster, STLForecaster\n",
    "from sktime.forecasting.fbprophet import Prophet\n",
    "from sktime.forecasting.tbats import TBATS\n",
    "from sktime.forecasting.bats  import BATS\n",
    "from sktime.forecasting.ets   import AutoETS\n",
    "\n",
    "from sktime.forecasting.statsforecast import (StatsForecastAutoETS, \n",
    "                                              StatsForecastAutoTheta,\n",
    "                                              StatsForecastAutoCES,\n",
    "                                              StatsForecastMSTL)\n",
    "\n",
    "from sklearn.ensemble import RandomForestRegressor\n",
    "from sklearn.pipeline import make_pipeline\n",
    "from sklearn.metrics import r2_score\n",
    "from sklearn.ensemble import RandomForestClassifier\n",
    "\n",
    "from sktime.utils.plotting import plot_series\n",
    "from sktime.transformations.series.detrend import Deseasonalizer, Detrender\n",
    "from sktime.performance_metrics.forecasting import  MeanAbsolutePercentageError, MeanSquaredError\n",
    "smape = MeanAbsolutePercentageError(symmetric = True)\n",
    "rmse  = MeanSquaredError(square_root=True)"
   ]
  },
  {
   "cell_type": "markdown",
   "metadata": {},
   "source": [
    "В качестве набора данных давайте загрузим рассмотренный ранее набор данных о потреблении электричества в Германии. "
   ]
  },
  {
   "cell_type": "code",
   "execution_count": 6,
   "metadata": {
    "scrolled": true
   },
   "outputs": [
    {
     "data": {
      "text/html": [
       "<div>\n",
       "<style scoped>\n",
       "    .dataframe tbody tr th:only-of-type {\n",
       "        vertical-align: middle;\n",
       "    }\n",
       "\n",
       "    .dataframe tbody tr th {\n",
       "        vertical-align: top;\n",
       "    }\n",
       "\n",
       "    .dataframe thead th {\n",
       "        text-align: right;\n",
       "    }\n",
       "</style>\n",
       "<table border=\"1\" class=\"dataframe\">\n",
       "  <thead>\n",
       "    <tr style=\"text-align: right;\">\n",
       "      <th></th>\n",
       "      <th>Consumption</th>\n",
       "      <th>Wind</th>\n",
       "      <th>Solar</th>\n",
       "      <th>Wind+Solar</th>\n",
       "    </tr>\n",
       "    <tr>\n",
       "      <th>Date</th>\n",
       "      <th></th>\n",
       "      <th></th>\n",
       "      <th></th>\n",
       "      <th></th>\n",
       "    </tr>\n",
       "  </thead>\n",
       "  <tbody>\n",
       "    <tr>\n",
       "      <th>2015-01-01</th>\n",
       "      <td>1088.317</td>\n",
       "      <td>325.165</td>\n",
       "      <td>103.386051</td>\n",
       "      <td>371.25795</td>\n",
       "    </tr>\n",
       "    <tr>\n",
       "      <th>2015-01-02</th>\n",
       "      <td>1246.588</td>\n",
       "      <td>603.554</td>\n",
       "      <td>7.757000</td>\n",
       "      <td>611.31100</td>\n",
       "    </tr>\n",
       "    <tr>\n",
       "      <th>2015-01-03</th>\n",
       "      <td>1117.554</td>\n",
       "      <td>462.955</td>\n",
       "      <td>7.237000</td>\n",
       "      <td>470.19200</td>\n",
       "    </tr>\n",
       "    <tr>\n",
       "      <th>2015-01-04</th>\n",
       "      <td>1081.980</td>\n",
       "      <td>385.023</td>\n",
       "      <td>19.982000</td>\n",
       "      <td>405.00500</td>\n",
       "    </tr>\n",
       "    <tr>\n",
       "      <th>2015-01-05</th>\n",
       "      <td>1325.920</td>\n",
       "      <td>216.540</td>\n",
       "      <td>26.522000</td>\n",
       "      <td>243.06200</td>\n",
       "    </tr>\n",
       "  </tbody>\n",
       "</table>\n",
       "</div>"
      ],
      "text/plain": [
       "            Consumption     Wind       Solar  Wind+Solar\n",
       "Date                                                    \n",
       "2015-01-01     1088.317  325.165  103.386051   371.25795\n",
       "2015-01-02     1246.588  603.554    7.757000   611.31100\n",
       "2015-01-03     1117.554  462.955    7.237000   470.19200\n",
       "2015-01-04     1081.980  385.023   19.982000   405.00500\n",
       "2015-01-05     1325.920  216.540   26.522000   243.06200"
      ]
     },
     "execution_count": 6,
     "metadata": {},
     "output_type": "execute_result"
    }
   ],
   "source": [
    "path_ts = 'de_data.csv'\n",
    "df = pd.read_csv(path_ts, parse_dates=['Date'], index_col=\"Date\")\n",
    "df=df.fillna(df.mean())\n",
    "df.head()"
   ]
  },
  {
   "cell_type": "markdown",
   "metadata": {},
   "source": [
    "В первую очередь в данном уроке мы будем рассматривать однопеременные методы (`univariate time series`). Поэтому выберем один из столбцов данных в качестве отдельного временного ряда. \n",
    "\n",
    "Кроме того, в ходе предыдущего анализа было установлено, что ряд имеет как минимум 2 составляющие (быструю, с периодом неделя и медленную с периодом 1 год). Для упрощения анализа и без значительных потерь значимости удалим быструю составляющую при помощи перегруппировки данных."
   ]
  },
  {
   "cell_type": "code",
   "execution_count": 7,
   "metadata": {},
   "outputs": [
    {
     "data": {
      "text/plain": [
       "Date\n",
       "2015-01-01    1088.317\n",
       "2015-01-08    1474.375\n",
       "2015-01-15    1479.245\n",
       "2015-01-22    1496.905\n",
       "2015-01-29    1508.443\n",
       "Freq: 7D, Name: Consumption, dtype: float64"
      ]
     },
     "execution_count": 7,
     "metadata": {},
     "output_type": "execute_result"
    }
   ],
   "source": [
    "y = df.Consumption.asfreq('7d')\n",
    "# y.index = pd.PeriodIndex(y.index) # pd.to_datetime(y.index)\n",
    "y.head()"
   ]
  },
  {
   "cell_type": "code",
   "execution_count": 8,
   "metadata": {},
   "outputs": [],
   "source": [
    "# В качестве альтернативы можно бы было использовать resample('7d'), \n",
    "# но в этом случае пришлось бы дополнительно использовать следующую функцию.\n",
    "# def add_freq(idx, freq=None):\n",
    "#     \"\"\"Add a frequency attribute to idx, through inference or directly.\n",
    "#     Returns a copy.  If `freq` is None, it is inferred.\n",
    "#     \"\"\"\n",
    "#     idx = idx.copy()\n",
    "#     if freq is None:\n",
    "#         if idx.freq is None:\n",
    "#             freq = pd.infer_freq(idx)\n",
    "#         else:\n",
    "#             return idx\n",
    "#     idx.freq = pd.tseries.frequencies.to_offset(freq)\n",
    "#     if idx.freq is None:\n",
    "#         raise AttributeError('no discernible frequency found to `idx`.  Specify'\n",
    "#                              ' a frequency string with `freq`.')\n",
    "#     return idx\n",
    "# y = df.Consumption.resample('7d').sum()[1:-2]\n",
    "# y.index = add_freq(y.index)"
   ]
  },
  {
   "cell_type": "markdown",
   "metadata": {},
   "source": [
    "Проведем визуализацию полученных данных при помощи встроенных утилит."
   ]
  },
  {
   "cell_type": "code",
   "execution_count": 9,
   "metadata": {
    "scrolled": true
   },
   "outputs": [
    {
     "data": {
      "image/png": "[encoded data removed]",
      "text/plain": [
       "<Figure size 1600x400 with 1 Axes>"
      ]
     },
     "metadata": {},
     "output_type": "display_data"
    }
   ],
   "source": [
    "plot_series(y);"
   ]
  },
  {
   "cell_type": "markdown",
   "metadata": {},
   "source": [
    "Для разделения данных воспользуемся функцией `temporal_train_test_split`, которая позволяет адаптировать разделение данных не разрушая временные зависимости в данных. Отметим, что данная функция не единственный тип разделения данных. Более подробную информацию можно найти [тут](https://notebooks.githubusercontent.com/view/ipynb?browser=chrome&color_mode=auto&commit=24f6be86f95bfc1ec246dee7dcdd455e0a84a872&device=unknown&enc_url=68747470733a2f2f7261772e67697468756275736572636f6e74656e742e636f6d2f616c616e2d747572696e672d696e737469747574652f736b74696d652f323466366265383666393562666331656332343664656537646364643435356530613834613837322f6578616d706c65732f77696e646f775f73706c6974746572732e6970796e62&logged_in=false&nwo=alan-turing-institute%2Fsktime&path=examples%2Fwindow_splitters.ipynb&platform=android&repository_id=156401841&repository_type=Repository&version=98)."
   ]
  },
  {
   "cell_type": "code",
   "execution_count": null,
   "metadata": {
    "scrolled": true
   },
   "outputs": [],
   "source": [
    "TEST_SIZE = int(0.45*y.size)\n",
    "\n",
    "y_train, y_test = temporal_train_test_split(y, test_size=TEST_SIZE)\n",
    "\n",
    "print(f'Check splitted data size: Train: {y_train.shape[0]}, Test: {y_test.shape[0]}')\n",
    "\n",
    "plot_series(y_train, y_test, labels=[\"y_train\", \"y_test\"]);"
   ]
  },
  {
   "cell_type": "markdown",
   "metadata": {},
   "source": [
    "В целом задача предсказания значений ВР представляет собой [обширный перечень методов](https://neerc.ifmo.ru/wiki/index.php?title=Анализ_временных_рядов). Методы могут быть разделены на различные таксономии. В том числе по тому, какие задачи могут быть решены, или [наприммер](https://www.sas.com/content/dam/SAS/en_ca/User%20Group%20Presentations/Edmonton-User-Group/NateDerby-TimeSeriesForecastingNovember2009.pdf), по уровню соответствующего статистического подхода.\n",
    "\n",
    "<img src=\"https://i.pinimg.com/736x/4b/79/b7/4b79b73b6b7bef191a9e582d387a39f0.jpg\" width=\"900px\">\n",
    "\n",
    "или например\n",
    "\n",
    "<img src=\"https://www.researchgate.net/publication/358080275/figure/fig2/AS:1120768494698499@1644223440381/Classification-of-time-series-forecasting-methods-and-models.png\" width=\"900px\">"
   ]
  },
  {
   "cell_type": "markdown",
   "metadata": {},
   "source": [
    "В этом занятии мы рассмотрим только самые простые подходы к решению задачи предсказания. В том числе:\n",
    "* [наивные методы](https://otexts.com/fpp3/simple-methods.html) предсказания - когда следущие значения в каком виде повторояют одно из предыдущих.\n",
    "* методы на основе [скользящего/экспоненциального сглаживания](https://otexts.com/fpp3/expsmooth.html) - когда следующие значения являются результатам некоторой фильтрации набора предыдущих значений (обработки ВР окном или окнами с весовыми параметрами).\n",
    "* методы на основе [регрессии](https://otexts.com/fpp3/regression.html) - в которых предлагается некоторя модель детерминированного ВР на фоне шумов и некоторое решение для оценки параметров этой модели. Модели могут быть как линейные, так и [нелинейные](https://otexts.com/fpp3/advanced.html)."
   ]
  },
  {
   "cell_type": "markdown",
   "metadata": {},
   "source": [
    "## Наивные методы предсказания"
   ]
  },
  {
   "cell_type": "markdown",
   "metadata": {},
   "source": [
    "Помимо разделения данных на тренированные и тестовые предсказание в `sktime` может потребовать т.н. `forecasting horizon` - то есть непосредственного указания числа предсказываемых значений. Такой горизонт предсказания можно задавать по разному, при помощи массива или объекта класса `ForecastingHorizon`. Последний способ предоставляет более развитый инструментарий."
   ]
  },
  {
   "cell_type": "markdown",
   "metadata": {},
   "source": [
    "В рамках данного занятия мы рассмотрим наиболее [простые алгоритмы предсказания](https://forecasting-encyclopedia.com/theory.html#introduction_to_the_theory_of_forecasting), которые условно разделим на:\n",
    "* **Наивные методы предсказания** [(`NaiveForecasters`)](https://otexts.com/fpp3/simple-methods.html), позволяющие оценивть будущие значения как некоторые простые преобразования имеющихся значений ВР.\n",
    "* **Подход на основе моделей экспоненциального сглаживания** [Exponential smoothing](https://otexts.com/fpp3/taxonomy.html) и [модфикаций подхода](https://openforecast.org/adam/exponential-smoothing.html).\n",
    "* **Методы с использованием** [регрессионных подходов](https://otexts.com/fpp3/regression.html) как простых, так и [современных](https://otexts.com/fpp3/prophet.html)."
   ]
  },
  {
   "cell_type": "markdown",
   "metadata": {},
   "source": [
    "Для начала давайте попробуем выполнить наивное предсказание. То есть каждое следующее предсказанное значение будет лишь копией предыдущего, начиная с последнего значение тренировочной выборки.\n",
    "\n",
    "Мы полагаем, что проблемы данного предсказания очевидны, однако, давайте все же [проверим ошибку](https://otexts.com/fpp3/accuracy.html). Для этого воспользуемся [симметричной средней процентной ошибкой](https://mlpills.dev/time-series/error-metrics-for-time-series-forecasting/) (<b>symmetry Mean Average Percentage Error, [sMAPE](https://www.sktime.net/en/latest/api_reference/auto_generated/sktime.performance_metrics.forecasting.MeanAbsolutePercentageError.html)</b>) \n",
    "    $$ sMAPE =2\\frac{1}{H}\\sum_{i=1}^{H} \\frac{|y(h_i) − \\hat{y}(h_i)|}{|y(h_i)| + |\\hat{y}(h_i)|}\n",
    " $$\n",
    "    \n",
    "    \n"
   ]
  },
  {
   "cell_type": "code",
   "execution_count": null,
   "metadata": {
    "scrolled": true
   },
   "outputs": [],
   "source": [
    "# ГОРИЗОНТ\n",
    "#fh = np.arange(y_test.size) + 1\n",
    "fh = ForecastingHorizon(y_test.index, is_relative=False)\n",
    "\n",
    "# ПРЕДСКАЗАТЕЛЬ\n",
    "forecaster = NaiveForecaster(strategy=\"last\")\n",
    "forecaster.fit(y_train)\n",
    "\n",
    "# ПРЕДСКАЗАНИЕ\n",
    "y_pred = forecaster.predict(fh)\n",
    "plot_series(y_train, y_test, y_pred, labels=[\"y_train\", \"y_test\", \"y_pred\"])\n",
    "\n",
    "# ОШИБКА\n",
    "print(f'sMAPE = {smape(y_pred.values, y_test.values):.3f}')"
   ]
  },
  {
   "cell_type": "markdown",
   "metadata": {},
   "source": [
    "Также давайте попробуем оценить точность наивного сезонного предсказания. В данном случае указана статегия `strategy=\"mean\"` это означает что значения будут выбраны как средние. Это могут быть средние значения по всей тренировочной выборке или по заданному окну размера `window_length`. В данном случае окно не указано, поэтому в качестве его длины выбрана вся длина ВР."
   ]
  },
  {
   "cell_type": "code",
   "execution_count": null,
   "metadata": {},
   "outputs": [],
   "source": [
    "SEASON = 52\n",
    "\n",
    "forecaster = NaiveForecaster(strategy=\"mean\", sp=SEASON)\n",
    "forecaster.fit(y_train)\n",
    "\n",
    "y_pred = forecaster.predict(fh)\n",
    "\n",
    "plot_series(y_train, y_test, y_pred, labels=[\"y_train\", \"y_test\", \"y_pred\"])\n",
    "\n",
    "print(f'sMAPE = {smape(y_pred.values, y_test.values):.3f}')"
   ]
  },
  {
   "cell_type": "markdown",
   "metadata": {},
   "source": [
    "Отметим, что список всех доступных методов оценки может быть найден в следующем виде"
   ]
  },
  {
   "cell_type": "code",
   "execution_count": null,
   "metadata": {},
   "outputs": [],
   "source": [
    "# all_estimators(\"forecaster\", as_dataframe=True)"
   ]
  },
  {
   "cell_type": "markdown",
   "metadata": {},
   "source": [
    "## Методы экспоненциального сглаживания"
   ]
  },
  {
   "cell_type": "markdown",
   "metadata": {},
   "source": [
    "Одними из наиболее простых методов являются семейство методов на основе экспоненциального сглаживания   (`Exponential Smoothing`, `Holt-Winter` и другие). Давайте посмотрим на их работу. Для начала оценим точность наиболее простого варианта `Simple Exponential Smoothing`."
   ]
  },
  {
   "cell_type": "markdown",
   "metadata": {},
   "source": [
    "Напомним, что простое экспоненциальное сглажевание выполняет тот же расчет взвешенного скользящего среднего (метод pandas <tt>.ewm()</tt>):<br>\n",
    "$\\begin{align}y_0 &= x_0 \\\\\n",
    "y_t &= (1 - \\alpha) y_{t-1} + \\alpha x_t,\\end{align}$\n",
    "\n",
    "<!-- <div class=\"alert alert-info\"><h4>Связанные функции:</h4>\n",
    "<tt><strong><a href='https://www.statsmodels.org/stable/generated/statsmodels.tsa.holtwinters.SimpleExpSmoothing.html'>statsmodels.tsa.holtwinters.SimpleExpSmoothing</a></strong ><font color=green>(конец)</font>&nbsp;&nbsp;&nbsp;&nbsp; -->"
   ]
  },
  {
   "cell_type": "code",
   "execution_count": null,
   "metadata": {},
   "outputs": [],
   "source": [
    "forecaster = ExponentialSmoothing()\n",
    "forecaster.fit(y_train)\n",
    "y_pred = forecaster.predict(fh)\n",
    "plot_series(y_train, y_test, y_pred, labels=[\"y_train\", \"y_test\", \"y_pred\"])\n",
    "\n",
    "print(f'sMAPE = {smape(y_pred.values, y_test.values):.3f}')"
   ]
  },
  {
   "cell_type": "markdown",
   "metadata": {},
   "source": [
    "Попробуем теперь другие варианты"
   ]
  },
  {
   "cell_type": "code",
   "execution_count": null,
   "metadata": {},
   "outputs": [],
   "source": [
    "SEASON = 52\n",
    "\n",
    "# МЕТОДЫ\n",
    "ses         = ExponentialSmoothing(sp=SEASON)\n",
    "holt        = ExponentialSmoothing(trend=\"add\", damped_trend=False,  sp=SEASON)\n",
    "damped_holt = ExponentialSmoothing(trend=\"add\", damped_trend=True,   sp=SEASON)\n",
    "holt_winter = ExponentialSmoothing(trend=\"add\", seasonal=\"additive\", sp=SEASON)\n",
    "holt_winter_add_boxcox  = ExponentialSmoothing(trend=\"add\", seasonal=\"additive\", use_boxcox =True, sp=SEASON)\n",
    "holt_winter_mul_boxcox  = ExponentialSmoothing(trend=\"mul\", seasonal=\"additive\", use_boxcox =True, sp=SEASON)\n",
    "holt_winter_sadd_boxcox = ExponentialSmoothing(trend=\"add\", seasonal=\"mul\", use_boxcox =True, sp=SEASON)\n",
    "holt_winter_smul_boxcox = ExponentialSmoothing(trend=\"mul\", seasonal=\"mul\", use_boxcox =True, sp=SEASON)\n",
    "\n",
    "\n",
    "\n",
    "forecaster = holt_winter\n",
    "\n",
    "forecaster.fit(y_train)\n",
    "y_pred = forecaster.predict(fh)\n",
    "plot_series(y_train, y_test, y_pred, labels=[\"y_train\", \"y_test\", \"y_pred\"])\n",
    "\n",
    "print(f'sMAPE = {smape(y_pred.values, y_test.values):.3f}')\n"
   ]
  },
  {
   "cell_type": "markdown",
   "metadata": {},
   "source": [
    "Точность в предыдущих случаях оставляла желать лучшего. Однако, теперь давайте посмотрим на возможность ансамблирования таких методов"
   ]
  },
  {
   "cell_type": "code",
   "execution_count": null,
   "metadata": {
    "scrolled": true
   },
   "outputs": [],
   "source": [
    "SEASON = 52\n",
    "\n",
    "# МЕТОДЫ\n",
    "ses         = ExponentialSmoothing(sp=SEASON)\n",
    "holt        = ExponentialSmoothing(trend=\"add\", damped_trend=False,  sp=SEASON)\n",
    "damped_holt = ExponentialSmoothing(trend=\"add\", damped_trend=True,   sp=SEASON)\n",
    "holt_winter = ExponentialSmoothing(trend=\"add\", seasonal=\"additive\", sp=SEASON)\n",
    "holt_winter_add_boxcox  = ExponentialSmoothing(trend=\"add\", seasonal=\"additive\", use_boxcox =True, sp=SEASON)\n",
    "holt_winter_mul_boxcox  = ExponentialSmoothing(trend=\"mul\", seasonal=\"additive\", use_boxcox =True, sp=SEASON)\n",
    "holt_winter_sadd_boxcox = ExponentialSmoothing(trend=\"add\", seasonal=\"mul\", use_boxcox =True, sp=SEASON)\n",
    "holt_winter_smul_boxcox = ExponentialSmoothing(trend=\"mul\", seasonal=\"mul\", use_boxcox =True, sp=SEASON)\n",
    "\n",
    "# ПРЕДСКАЗАТЕЛЬ\n",
    "forecaster = AutoEnsembleForecaster(\n",
    "    [\n",
    "#         (\"ses\", ses),\n",
    "#         (\"holt\", holt),\n",
    "#         (\"damped\", damped_holt),\n",
    "        (\"holt-winter\",holt_winter),\n",
    "#         (\"holt-winter, additive trend, box-cox\", holt_winter_add_boxcox),\n",
    "        (\"holt-winter, multiplicative trend, box-cox\", holt_winter_mul_boxcox),\n",
    "#         (\"holt-winter, multiplicative season, box-cox\", holt_winter_sadd_boxcox),\n",
    "#         (\"holt-winter, multiplicative both,   box-cox\", holt_winter_smul_boxcox)        \n",
    "    ]\n",
    ")\n",
    "forecaster.fit(y_train)\n",
    "\n",
    "# ПРЕДСКАЗАНИЕ\n",
    "y_pred = forecaster.predict(fh)\n",
    "# РЕЗУЛЬТАТ\n",
    "print(f'sMAPE = {smape(y_pred.values, y_test.values):.3f}')\n",
    "\n",
    "plot_series(y_train, y_test, y_pred, labels=[\"y_train\", \"y_test\", \"y_pred\"]); \n",
    "\n"
   ]
  },
  {
   "cell_type": "markdown",
   "metadata": {},
   "source": [
    "В общем случае пакет `sktime` позволяет использовать автоматизированный подбор параметров модели экспоненциального сглаживания. Для этого может быть использован пакет `AutoETS`. Модель, реализуемая данным пакетом также называется `Error-Trend-Season (ETS)`. В случае необходимости исследователь может вручную задать параметры модели, в формате `ETS(X,X,X)s`</b>, где `X` может быть <tt>N-None, A-additive, M-multiplicative, Ad-additive dumped</tt>, `s`-период сезона или `None`. \n",
    "\n",
    "Частными примерами модели `ETS` являются:\n",
    "* Simple Exponential smoothing `ETS(A,N,N)`.  \n",
    "* Triple Exponential smoothing `ETS(A,A,A)`. \n",
    "* и многие другие.\n",
    "> Отметим, что <tt>Exponential smoothing</tt> использует эвристические значения для начальных состояний, а затем оценивает параметры сглаживания, оптимизируя функцию потерь `MSE`. В тоже время `ETS()` оценивает и начальные состояния, и параметры сглаживания, оптимизируя функцию максимального правдоподобия (`NNL`) (что эквивалентно оптимизации MSE только для линейных аддитивных моделей). \\\n",
    "> В ряде случаев можно также рассматривать и другие модели на основе экспоненциального сглаживания, например [с регрессией](https://orbit-ml.readthedocs.io/en/stable/tutorials/dlt.html) или с разделением [глобального и т.н. локального тренда](https://num.pyro.ai/en/stable/tutorials/time_series_forecasting.html)."
   ]
  },
  {
   "cell_type": "code",
   "execution_count": null,
   "metadata": {},
   "outputs": [],
   "source": [
    "forecaster = AutoETS(auto=True, sp=SEASON, n_jobs=-1)\n",
    "\n",
    "fh = ForecastingHorizon(y_test.index, is_relative=False)\n",
    "forecaster.fit(y_train)\n",
    "\n",
    "y_pred = forecaster.predict(fh)\n",
    "\n",
    "plot_series(y_train, y_test, y_pred, labels=[\"y_train\", \"y_test\", \"y_pred\"])\n",
    "\n",
    "print(f'sMAPE = {smape(y_pred.values, y_test.values):.3f}')"
   ]
  },
  {
   "cell_type": "markdown",
   "metadata": {},
   "source": [
    "Отметим, что аналогично может быть использован подход [`StatsForecastAutoETS`](https://nixtlaverse.nixtla.io/statsforecast/docs/models/autoets.html). Особенностью данного подхода является автовыбор не только коэффициентов моделей, но и их конфигураций. Для этого искомые конфигурации помечаются индексом `Z`."
   ]
  },
  {
   "cell_type": "code",
   "execution_count": null,
   "metadata": {
    "scrolled": true
   },
   "outputs": [],
   "source": [
    "forecaster = StatsForecastAutoETS(season_length = 52,\n",
    "                                  model = 'ZZA',\n",
    "                                  damped = True,)\n",
    "\n",
    "forecaster.fit(y_train, fh=fh)\n",
    "y_pred = forecaster.predict(fh)\n",
    "\n",
    "plot_series(y_train, y_test, y_pred, labels=[\"y_train\", \"y_test\", \"y_pred\"])\n",
    "print(f'sMAPE = {smape(y_pred.values, y_test.values):.3f}')"
   ]
  },
  {
   "cell_type": "markdown",
   "metadata": {},
   "source": [
    "Другим методом оценки данных с вилянием сезонности и тренда является использование предварительной декомпозиции  временного ряда. Одним из наиболее простых методов декомпозиции является разделение на тренд, сезонность и остаток.  Давайте посмотрим на то, как будут выглядеть результаты такого разложения."
   ]
  },
  {
   "cell_type": "code",
   "execution_count": null,
   "metadata": {
    "scrolled": true
   },
   "outputs": [],
   "source": [
    "from statsmodels.tsa.seasonal import seasonal_decompose\n",
    "result = seasonal_decompose(y_train, model='additive', period = 52)\n",
    "result.plot();"
   ]
  },
  {
   "cell_type": "markdown",
   "metadata": {},
   "source": [
    "В рамках пакета `SKTime` разложение можно выполнить при помощи объектов класса `Deseasonalizer` и `Detrender`. Давай для начала посмотрим отдельно на их работу"
   ]
  },
  {
   "cell_type": "code",
   "execution_count": null,
   "metadata": {},
   "outputs": [],
   "source": [
    "deseason = Deseasonalizer(model=\"additive\", sp=52) #Remove seasonal components from a time series.\n",
    "detrend  = Detrender(forecaster=TrendForecaster())\n",
    "\n",
    "season   = y_train.values.squeeze() - deseason.fit_transform(y_train.values).squeeze()\n",
    "trend    = y_train.values.squeeze() - detrend.fit_transform(y_train.values).squeeze()\n",
    "residual = y_train.values.squeeze() - trend - season\n",
    "\n",
    "plt.plot(season, c='k', label='season')\n",
    "plt.plot(trend, c='g', label='trend')\n",
    "plt.plot(residual, c='r', label='residual')\n",
    "plt.plot(y_train.values, c='b', label='original data')\n",
    "plt.legend()\n",
    "plt.show()"
   ]
  },
  {
   "cell_type": "markdown",
   "metadata": {},
   "source": [
    "Для каждой из указанных частей  (трнед и сезонность) можно бы было построить по отдельному прогнозу, которые затем бы были просуммированы (аддитивная модель). Более того сезонных составляющих может быть несколько.\n",
    "На практике для такого разложения проще использовать контейнер `TransformedTargetForecaster` - который является некоторым аналогом пайплайна."
   ]
  },
  {
   "cell_type": "markdown",
   "metadata": {},
   "source": [
    "## Методы с использованием регрессии"
   ]
  },
  {
   "cell_type": "code",
   "execution_count": null,
   "metadata": {
    "scrolled": true
   },
   "outputs": [],
   "source": [
    "SEASON = 52\n",
    "\n",
    "fh = ForecastingHorizon(y_test.index, is_relative=False)\n",
    "\n",
    "# объек предсказатель\n",
    "ses         = ExponentialSmoothing()\n",
    "\n",
    "# пайплайн\n",
    "forecaster = TransformedTargetForecaster(\n",
    "                steps=[\n",
    "                (\"deseasonalize\", Deseasonalizer(model=\"additive\", sp=SEASON)),\n",
    "                (\"detrend\", Detrender(forecaster=TrendForecaster())),\n",
    "                (\"forecaster\", ses)\n",
    "                ])\n",
    "forecaster.fit(y_train)\n",
    "\n",
    "# Предсказание\n",
    "y_pred = forecaster.predict(fh)\n",
    "\n",
    "# Результаты\n",
    "plot_series(y_train, y_test, y_pred, labels=[\"y_train\", \"y_test\", \"y_pred\"])\n",
    "\n",
    "print(f'sMAPE = {smape(y_pred.values, y_test.values):.3f}')"
   ]
  },
  {
   "cell_type": "markdown",
   "metadata": {},
   "source": [
    ">Отметим, что в наиболее простом случае разложить ВР $y(t)$ на составляющие можно бы было следующим алгоритмом \n",
    ">* Вычислить тренда $T(t)$, например методом скользящего среднего с длинным окном.\n",
    ">* Вычислить функционала вида  $y(t)-T(t)$ (`Detrend`).\n",
    ">* Вычислить основную сезонную составляющую $S(t)$ путем усреднение знечений с шагом сезонности `s`. Например, для месячных данных сезонный компонент для марта представляет собой среднее значение всех мартовских значений в данных без тренда. Этот шаг можно бы было проделать для каждого значения сезонности.  \n",
    ">* Создать ряд сезонностей $S(t)$ заданной длительности.\n",
    ">* Вычислить остаток разложения $R(t) =y(t)-T(t)-S(t)$\n",
    ">\n",
    ">Однако, такое разложение было бы не стабильным к нестационарностям,  редким событиям (в т.ч. аномалиям и регулярным событиям) и сложному виду тренда.\n",
    "<!-- https://medium.com/analytics-vidhya/time-series-forecasting-using-tbats-model-ce8c429442a9\n",
    "https://otexts.com/fpp2/classical-decomposition.html\n",
    "https://www.openforecast.org/adam/classical-seasonal-decomposition.html\n",
    "http://www.gardner.fyi/blog/STL-Part-II/ -->\n",
    "\n",
    "\n"
   ]
  },
  {
   "cell_type": "markdown",
   "metadata": {},
   "source": [
    "В общем случае пакет [`sktime`](https://www.sktime.net/en/latest/api_reference/auto_generated/sktime.forecasting.trend.STLForecaster.html) включает ряд методов, использующих разлжение ВР в целях предсказания. Одним из наиболее популярных среди таковых является использование `STL` (<tt>Seasonal-Trend decomposition using LOESS </tt>) предсказания. Метод позволяет разложить ВР устойчиво к типичным выбросам и редким событиям. \n",
    "Метод заключается в использовании двух циклов:\n",
    "* внутренний цикл:\n",
    "    * вычисляется приблизительный тренд, например как линейная аппроксимация данных.\n",
    "    * вычисляются сезонные составляющие путем усреднения с заданынм сезоном.\n",
    "    * Далее вычисляется оконечный вид тренд из данных без сезонной части. Вычисление производится путем локальной взвешенной регрессии <tt>LOESS</tt>.\n",
    "    * вычисляется остаток разолжения.\n",
    "* внешний цикл минимизирует влияние выбросов в остатке разложения. \n",
    "\n",
    "Метод может быть напрямую использован для предсказаний. Метод реализован в `sktime` в двух вариантах, один из которых относится к классической библиотеке [statsmodels](https://www.statsmodels.org/dev/examples/notebooks/generated/stl_decomposition.html), а второй к новой и перспективной библиотеке [nixtla](https://nixtlaverse.nixtla.io/statsforecast/docs/models/multipleseasonaltrend.html). Мы используем только второй вариант.  Отметим, что в данном варианте также заложена возможность для аппроксимации нескольких сезонных компонент.\n",
    "\n",
    "Также отметим, что после аппроксимации разложения предсказатель для тренда [может быть заменен на другой](https://www.statsmodels.org/dev/examples/notebooks/generated/stl_decomposition.html).\n",
    "\n",
    "<!-- https://machinelearningmastery.ru/stl-decomposition-how-to-do-it-from-scratch-b686711986ec/\n",
    " https://github.com/bdemeshev/ts_pset/raw/master/ts_pset_main.pdf\n",
    "http://statmod.ru/wiki/_media/study:spring2020:ts:notes20200406.pdf\n",
    "https://ru.wikibrief.org/wiki/Local_regression -->\n"
   ]
  },
  {
   "cell_type": "code",
   "execution_count": null,
   "metadata": {},
   "outputs": [],
   "source": [
    "forecaster = StatsForecastMSTL(season_length=52,)  \n",
    "forecaster.fit(y_train)\n",
    "y_pred = forecaster.predict(fh)\n",
    "\n",
    "plot_series(y_train, y_test, y_pred, labels=[\"y_train\", \"y_test\", \"y_pred\"])\n",
    "print(f'sMAPE = {smape(y_pred.values, y_test.values):.3f}')"
   ]
  },
  {
   "cell_type": "markdown",
   "metadata": {},
   "source": [
    "`ThetaForecaster` - метод предсказания временных рядов на основе экспоненциального сглаживания для модели с дрейфом тренда (случайный тренд). Модель дополнительно включает парамерт сезонности. Другими словами модель игнорирует  эффект сезонности при построении модели прогноза.  Более подробон можно ознакомится с модель в пакете [statsmodels](https://www.statsmodels.org/dev/examples/notebooks/generated/theta-model.html). Модель включает следующие шаги:\n",
    "1. Устранение сезонности (`Deseasonalize`) если та определена. \n",
    "2. Построение двух линейных моделей прогноза - модель линейной регресии и модель простого скользящего среднего.\n",
    "3. Объеденение двух моделей. Отметим, что в оригинальной идеи моделей может быть и больше двух.\n",
    "4. Восстоновление сезонной составляющей."
   ]
  },
  {
   "cell_type": "code",
   "execution_count": null,
   "metadata": {
    "scrolled": true
   },
   "outputs": [],
   "source": [
    "forecaster = ThetaForecaster(sp=SEASON)\n",
    "forecaster.fit(y_train, fh=fh)\n",
    "y_pred = forecaster.predict(fh)\n",
    "\n",
    "plot_series(y_train, y_test, y_pred, labels=[\"y_train\", \"y_test\", \"y_pred\"])\n",
    "print(f'sMAPE = {smape(y_pred.values, y_test.values):.3f}')"
   ]
  },
  {
   "cell_type": "markdown",
   "metadata": {},
   "source": [
    "В последних версиях пакета `sktime` также предлагается и альтернативная реализация метода [`StatsForecastAutoTheta`](https://nixtla.github.io/statsforecast/models.html#autotheta) эта версия реализована в новом и очень перспективном пакете [`statsforecast`](https://github.com/Nixtla/statsforecast) от компании [nixtla](https://www.nixtla.io/). [Особенностью данной реализации](https://nixtlaverse.nixtla.io/statsforecast/docs/models/autotheta.html) является поиск среди нескольких вариантов моделей данного семейства, в том числе:  <tt>Standard Theta Model (`STM`), Optimized Theta Model (`OTM`), Dynamic Standard Theta Model (`DSTM`), Dynamic Optimized Theta Model (`DOTM`) </tt>. При необходимости тип модели может быть задан параметром `model`.\n",
    "\n",
    ">Данная компания в том числе предлагает модель TimeGPT. Орагнизация подобного рода доступа к подобным рессурсам является главной особенностью фреймворка sktime."
   ]
  },
  {
   "cell_type": "code",
   "execution_count": null,
   "metadata": {},
   "outputs": [],
   "source": [
    "forecaster = StatsForecastAutoTheta(season_length = 52,\n",
    "                                    decomposition_type = 'additive',\n",
    "                                    model = None,)\n",
    "\n",
    "forecaster.fit(y_train, fh=fh)\n",
    "y_pred = forecaster.predict(fh)\n",
    "\n",
    "plot_series(y_train, y_test, y_pred, labels=[\"y_train\", \"y_test\", \"y_pred\"])\n",
    "print(f'sMAPE = {smape(y_pred.values, y_test.values):.3f}')"
   ]
  },
  {
   "cell_type": "markdown",
   "metadata": {},
   "source": [
    "Другим примером [экспоненциальных моделей](https://openforecast.org/adam/exponential-smoothing.html) является комплексная экспоненциальная модель [CES](https://nixtlaverse.nixtla.io/statsforecast/docs/models/autoces.html). Этот подход позволяет рассмотреть модель как сумму линейного трнеда и сложного комплексного тренда (цикличности), которая бы включала в себя и сезонную составляющу. Для модели такого рода строится экспонециальное сглаживание. Модель реализуется также в пакете `Nixtla`. В [sktime](https://www.sktime.net/en/latest/api_reference/auto_generated/sktime.forecasting.statsforecast.StatsForecastAutoCES.html) это `StatsForecastAutoCES`.\n"
   ]
  },
  {
   "cell_type": "code",
   "execution_count": null,
   "metadata": {},
   "outputs": [],
   "source": [
    "forecaster =  StatsForecastAutoCES(season_length = 52)\n",
    "\n",
    "forecaster.fit(y_train, fh=fh)\n",
    "y_pred = forecaster.predict(fh)\n",
    "\n",
    "plot_series(y_train, y_test, y_pred, labels=[\"y_train\", \"y_test\", \"y_pred\"])\n",
    "print(f'sMAPE = {smape(y_pred.values, y_test.values):.3f}')"
   ]
  },
  {
   "cell_type": "markdown",
   "metadata": {},
   "source": [
    "Другим методом расширяющим семейство экпонециальных моделей является модели `BATS` и `TBATS`. Это методы, включающи в едином фреймровке несколько последовательных операций. Более того модели расширяют семейство экспоненциальных моделей, позволяя выделять в них несколько сезонных составляющих отдельно. Такие операции как:\n",
    "* Преобразование [<tt>Box-Cox</tt>](https://otexts.com/fpp3/transformations.html)\n",
    "* [Аппроксимация тренда](https://otexts.com/fpp3/regression.html),\n",
    "* Выделение сезонных частей,\n",
    "* описание остатков разложения в виде т.н. [<tt>ARMA</tt>](https://otexts.com/fpp3/arima.html) модели (она будет изучаться в следующих юнитах).\n",
    "Описанная последовательность составляет модель [`BATS`](https://www.sktime.net/en/latest/api_reference/auto_generated/sktime.forecasting.bats.BATS.html). В модели [`TBATS`](https://www.sktime.net/en/latest/api_reference/auto_generated/sktime.forecasting.tbats.TBATS.html) к последовательности добавляется операция разложения сезонноых составляющих в ряд фурье и оценка коэффициентов для компонент ряда. Такая операция позволяет описать не стационарную сезонность.\n",
    "В оригинале модели `BATS` и `TBATS` описаны [в отдельном фреймворке](https://github.com/intive-DataScience/tbats), который включен в [sktime](https://www.sktime.net/en/latest/api_reference/auto_generated/sktime.forecasting.tbats.TBATS.html).\n",
    "\n",
    ">**BATS model** означает (Exponential smoothing state space model with Box-Cox transformation, ARMA errors, Trend and Seasonal components) \\\n",
    "> **TBATS model** означает (Exponential smoothing state space model with Box-Cox transformation, ARMA errors, Trend and Seasonal components)"
   ]
  },
  {
   "cell_type": "code",
   "execution_count": null,
   "metadata": {},
   "outputs": [],
   "source": [
    "forecaster = TBATS(\n",
    "    use_box_cox=True,\n",
    "    use_trend=True,\n",
    "    use_damped_trend=True,\n",
    "    sp=[SEASON],\n",
    "    use_arma_errors=True,\n",
    "    n_jobs=-1)\n",
    "\n",
    "forecaster.fit(y_train)\n",
    "\n",
    "fh = ForecastingHorizon(y_test.index, is_relative=False)\n",
    "y_pred = forecaster.predict(fh)\n",
    "\n",
    "plot_series(y_train, y_test, y_pred, labels=[\"y_train\", \"y_test\", \"y_pred\"])\n",
    "print(f'sMAPE = {smape(y_pred.values, y_test.values):.3f}')"
   ]
  },
  {
   "cell_type": "markdown",
   "metadata": {},
   "source": [
    "В конце также рассмотрим пример метода обобщенной регрессии: `Prophet`. Напомним, что это метод предсказания временных рядов на основе т.н. обобщенной регрессии для модели бизнес процессов, которая включает тренд с точками перегиба и насыщением, несколько компонент сезонности и редкие, но регулярные события (типа выходных дней). \n",
    "> Отметим что модель является не единственной в своем классе, однако одной из наиболее популярных. В том числе модель может быть расширена для преодоления своих недостатков при помощи модели [`neural prophet`](https://github.com/ourownstory/neural_prophet). А также могут быть пострены свои [<tt>prophet</tt>-подобные](https://www.pymc.io/projects/examples/en/latest/time_series/Air_passengers-Prophet_with_Bayesian_workflow.html) модели.\n",
    "\n",
    "<!-- https://habr.com/ru/companies/otus/articles/555700/ -->"
   ]
  },
  {
   "cell_type": "code",
   "execution_count": null,
   "metadata": {},
   "outputs": [],
   "source": [
    "forecaster = Prophet(seasonality_mode='additive',\n",
    "                     n_changepoints=int(len(y_train) / 4),\n",
    "                     add_country_holidays={'country_name': 'Germany'},\n",
    "                     yearly_seasonality=True)\n",
    "\n",
    "forecaster.fit(y_train)\n",
    "fh = ForecastingHorizon(y_test.index, is_relative=False)\n",
    "y_pred = forecaster.predict(fh)\n",
    "plot_series(y_train, y_test, y_pred, labels=[\"y_train\", \"y_test\", \"y_pred\"])\n",
    "print(f'sMAPE = {smape(y_pred.values, y_test.values):.3f}')"
   ]
  }
 ],
 "metadata": {
  "kernelspec": {
   "display_name": "Python 3 (ipykernel)",
   "language": "python",
   "name": "python3"
  },
  "language_info": {
   "codemirror_mode": {
    "name": "ipython",
    "version": 3
   },
   "file_extension": ".py",
   "mimetype": "text/x-python",
   "name": "python",
   "nbconvert_exporter": "python",
   "pygments_lexer": "ipython3",
   "version": "3.12.2"
  },
  "toc": {
   "base_numbering": 1,
   "nav_menu": {},
   "number_sections": true,
   "sideBar": true,
   "skip_h1_title": false,
   "title_cell": "Table of Contents",
   "title_sidebar": "Contents",
   "toc_cell": false,
   "toc_position": {
    "height": "calc(100% - 180px)",
    "left": "10px",
    "top": "150px",
    "width": "177.475px"
   },
   "toc_section_display": true,
   "toc_window_display": false
  }
 },
 "nbformat": 4,
 "nbformat_minor": 4
}
