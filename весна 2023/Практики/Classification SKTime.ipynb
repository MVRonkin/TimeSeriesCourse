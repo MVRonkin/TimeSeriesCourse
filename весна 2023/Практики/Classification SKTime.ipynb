{
 "cells": [
  {
   "cell_type": "markdown",
   "metadata": {},
   "source": [
    "# Classification in SKTime\n"
   ]
  },
  {
   "cell_type": "markdown",
   "metadata": {},
   "source": [
    "## Import\n"
   ]
  },
  {
   "cell_type": "code",
   "execution_count": 74,
   "metadata": {
    "scrolled": true
   },
   "outputs": [],
   "source": [
    "import pandas as pd\n",
    "import numpy as np\n",
    "import matplotlib.pyplot as plt"
   ]
  },
  {
   "cell_type": "code",
   "execution_count": 75,
   "metadata": {},
   "outputs": [],
   "source": [
    "try:\n",
    "    import sktime\n",
    "except:\n",
    "    !pip install sktime --user\n",
    "    !pip install tsfresh \n",
    "    !pip install numba\n",
    "    !pip install llvmlite\n",
    "import sktime"
   ]
  },
  {
   "cell_type": "code",
   "execution_count": 76,
   "metadata": {},
   "outputs": [],
   "source": [
    "from sktime.transformations.panel.rocket import MiniRocket"
   ]
  },
  {
   "cell_type": "code",
   "execution_count": 77,
   "metadata": {},
   "outputs": [],
   "source": [
    "from sktime.datasets import load_from_tsfile\n",
    "from sklearn.preprocessing import MinMaxScaler\n",
    "from sklearn.model_selection import train_test_split"
   ]
  },
  {
   "cell_type": "markdown",
   "metadata": {},
   "source": [
    "## Database"
   ]
  },
  {
   "cell_type": "markdown",
   "metadata": {},
   "source": [
    "We will take database of Time Series from [open-power-system-data](https://open-power-system-data.org/). From all of them we will use only one as example"
   ]
  },
  {
   "cell_type": "code",
   "execution_count": 78,
   "metadata": {},
   "outputs": [],
   "source": [
    "url = 'https://data.open-power-system-data.org/time_series/2020-10-06/'\n",
    "datafile = url + 'time_series_60min_singleindex.csv'\n",
    "df_all = pd.read_csv(datafile, index_col='utc_timestamp', parse_dates=True, low_memory=False)"
   ]
  },
  {
   "cell_type": "markdown",
   "metadata": {},
   "source": [
    "We will select Germany, all consumption"
   ]
  },
  {
   "cell_type": "code",
   "execution_count": 79,
   "metadata": {},
   "outputs": [],
   "source": [
    "def extract_country(df_all, country_code, year_min=None, year_max=None):\n",
    "    \"\"\"Extract data for a single country\"\"\"\n",
    "    \n",
    "    # List of columns to extract\n",
    "    columns = [col for col in df_all.columns if col.startswith(country_code)]\n",
    "    \n",
    "    # Extract columns and remove country codes from column labels\n",
    "    columns_map = {col : col[3:] for col in columns}\n",
    "    df_out = df_all[columns].rename(columns=columns_map)\n",
    "    \n",
    "    # Exclude years outside of specified range, if any\n",
    "    if year_min is not None:\n",
    "        df_out = df_out[df_out.index.year >= year_min]\n",
    "    if year_max is not None:\n",
    "        df_out = df_out[df_out.index.year <= year_max]\n",
    "        \n",
    "    return df_out\n",
    "\n",
    "def transform_dataframe(df, cols_map):\n",
    "    # Rename columns for convenience\n",
    "    df = df[list(cols_map.keys())].rename(columns=cols_map)\n",
    "    # Convert from MW to GW\n",
    "    df = df / 1000\n",
    "#     df = df.groupby(df.index.hour).mean()\n",
    "    df = df.rename_axis('Date')\n",
    "#     df.index = df.index.strftime('%Y-%m-%d-%h')\n",
    "    return df"
   ]
  },
  {
   "cell_type": "code",
   "execution_count": 80,
   "metadata": {
    "scrolled": true
   },
   "outputs": [
    {
     "data": {
      "text/html": [
       "<div>\n",
       "<style scoped>\n",
       "    .dataframe tbody tr th:only-of-type {\n",
       "        vertical-align: middle;\n",
       "    }\n",
       "\n",
       "    .dataframe tbody tr th {\n",
       "        vertical-align: top;\n",
       "    }\n",
       "\n",
       "    .dataframe thead th {\n",
       "        text-align: right;\n",
       "    }\n",
       "</style>\n",
       "<table border=\"1\" class=\"dataframe\">\n",
       "  <thead>\n",
       "    <tr style=\"text-align: right;\">\n",
       "      <th></th>\n",
       "      <th>Consumption</th>\n",
       "      <th>Wind</th>\n",
       "      <th>Solar</th>\n",
       "      <th>Wind+Solar</th>\n",
       "    </tr>\n",
       "    <tr>\n",
       "      <th>Date</th>\n",
       "      <th></th>\n",
       "      <th></th>\n",
       "      <th></th>\n",
       "      <th></th>\n",
       "    </tr>\n",
       "  </thead>\n",
       "  <tbody>\n",
       "    <tr>\n",
       "      <th>2015-01-01 07:00:00+00:00</th>\n",
       "      <td>41.133</td>\n",
       "      <td>10.208</td>\n",
       "      <td>0.071</td>\n",
       "      <td>10.279</td>\n",
       "    </tr>\n",
       "    <tr>\n",
       "      <th>2015-01-01 08:00:00+00:00</th>\n",
       "      <td>42.963</td>\n",
       "      <td>10.029</td>\n",
       "      <td>0.773</td>\n",
       "      <td>10.802</td>\n",
       "    </tr>\n",
       "    <tr>\n",
       "      <th>2015-01-01 09:00:00+00:00</th>\n",
       "      <td>45.088</td>\n",
       "      <td>10.550</td>\n",
       "      <td>2.117</td>\n",
       "      <td>12.667</td>\n",
       "    </tr>\n",
       "    <tr>\n",
       "      <th>2015-01-01 10:00:00+00:00</th>\n",
       "      <td>47.013</td>\n",
       "      <td>11.390</td>\n",
       "      <td>3.364</td>\n",
       "      <td>14.754</td>\n",
       "    </tr>\n",
       "    <tr>\n",
       "      <th>2015-01-01 11:00:00+00:00</th>\n",
       "      <td>48.159</td>\n",
       "      <td>12.103</td>\n",
       "      <td>4.198</td>\n",
       "      <td>16.301</td>\n",
       "    </tr>\n",
       "  </tbody>\n",
       "</table>\n",
       "</div>"
      ],
      "text/plain": [
       "                           Consumption    Wind  Solar  Wind+Solar\n",
       "Date                                                             \n",
       "2015-01-01 07:00:00+00:00       41.133  10.208  0.071      10.279\n",
       "2015-01-01 08:00:00+00:00       42.963  10.029  0.773      10.802\n",
       "2015-01-01 09:00:00+00:00       45.088  10.550  2.117      12.667\n",
       "2015-01-01 10:00:00+00:00       47.013  11.390  3.364      14.754\n",
       "2015-01-01 11:00:00+00:00       48.159  12.103  4.198      16.301"
      ]
     },
     "execution_count": 80,
     "metadata": {},
     "output_type": "execute_result"
    }
   ],
   "source": [
    "df_hrly = extract_country(df_all, country_code='DE', year_min=2015, year_max=2019)\n",
    "df_hrly.sample(3)\n",
    "\n",
    "cols_map = {'load_actual_entsoe_transparency' : 'Consumption',\n",
    "            'wind_generation_actual' : 'Wind',\n",
    "            'solar_generation_actual' : 'Solar'}\n",
    "df = transform_dataframe(df_hrly, cols_map).dropna()\n",
    "\n",
    "# df wind + solar generation\n",
    "df['Wind+Solar'] = df[['Wind', 'Solar']].sum(axis=1, skipna=False)\n",
    "df.to_csv('de_clf_data.csv')\n",
    "df.head()"
   ]
  },
  {
   "cell_type": "markdown",
   "metadata": {},
   "source": [
    "We make a dataset with classes. To do this, it is proposed to set the task of determining the daily consumption of the season (winter, spring, autumn, summer):\n",
    "* Divide all data into 4 seasons (winter, spring, autumn, summer)\n",
    "* take data in increments of 1 hour.\n",
    "* create segments of 24 hours (1 day).\n",
    "\n",
    "This task is completely artificial, but generally corresponds to some of the tasks of standard time series classification tests, for example, see [here] (http://www.timeseriesclassification.com/description.php?Dataset=PowerCons).\n",
    "\n",
    "For classification, data should be divided into segments. \n",
    "In our case, the segment length will be 24 points.\n",
    "\n",
    "For the purpose of creating a dataset, let's create 2 functions, the first `split_by_month` will split our dataset into months. \n",
    "The second `to_segments` function will create segments 24 hours a day."
   ]
  },
  {
   "cell_type": "code",
   "execution_count": 81,
   "metadata": {},
   "outputs": [],
   "source": [
    "def split_by_month(df, months):\n",
    "    df_ = pd.DataFrame()\n",
    "    for month in np.atleast_1d(months):\n",
    "        df_ = df_.append(df.loc[df.index.month == month])\n",
    "    return df_\n",
    "\n",
    "def to_segments(df, column, size = 24):  \n",
    "    df.index.hour[0]\n",
    "    start_idx = 24-df.index.hour[0]\n",
    "    df = df.iloc[start_idx:]\n",
    "    val = df[[column]].values\n",
    "    return val[:size*(val.size//size)].reshape(-1,size)"
   ]
  },
  {
   "cell_type": "code",
   "execution_count": 82,
   "metadata": {},
   "outputs": [
    {
     "name": "stdout",
     "output_type": "stream",
     "text": [
      "(448, 24) (458, 24) (452, 24) (458, 24)\n"
     ]
    }
   ],
   "source": [
    "winter = to_segments(split_by_month(df, [1,2, 12]), 'Consumption', size = 24)\n",
    "summer = to_segments(split_by_month(df, [6, 7, 8]), 'Consumption', size = 24)\n",
    "autumn = to_segments(split_by_month(df, [9,10,11]), 'Consumption', size = 24)\n",
    "spring = to_segments(split_by_month(df, [3, 4, 5]), 'Consumption', size = 24)\n",
    "print(winter.shape, summer.shape, autumn.shape, spring.shape)"
   ]
  },
  {
   "cell_type": "markdown",
   "metadata": {},
   "source": [
    "\n",
    "Now we have 4 classes"
   ]
  },
  {
   "cell_type": "code",
   "execution_count": 83,
   "metadata": {
    "scrolled": true
   },
   "outputs": [
    {
     "data": {
      "image/png": "[encoded data removed]",
      "text/plain": [
       "<Figure size 432x288 with 1 Axes>"
      ]
     },
     "metadata": {
      "needs_background": "light"
     },
     "output_type": "display_data"
    }
   ],
   "source": [
    "plt.figure()\n",
    "day = 10\n",
    "for i,(c,d) in enumerate(zip([winter,summer,autumn,spring],['winter','summer','autumn','spring'])):\n",
    "    plt.plot(c[day], label=\"class \" + str(d))\n",
    "plt.legend(loc=\"best\")\n",
    "plt.show()\n",
    "plt.close()"
   ]
  },
  {
   "cell_type": "markdown",
   "metadata": {},
   "source": [
    "Segments seems to be almost similar, but we will try to classify them"
   ]
  },
  {
   "cell_type": "code",
   "execution_count": 84,
   "metadata": {
    "scrolled": true
   },
   "outputs": [
    {
     "name": "stdout",
     "output_type": "stream",
     "text": [
      "(1271, 24) (1271,) (545, 24) (545,)\n"
     ]
    }
   ],
   "source": [
    "X = np.concatenate((\n",
    "                    winter, \n",
    "                    summer, \n",
    "                    autumn, \n",
    "                    spring))\n",
    "y = np.concatenate((\n",
    "                    0*np.ones(winter.shape[0]),\n",
    "                    1*np.ones(summer.shape[0]),\n",
    "                    2*np.ones(autumn.shape[0]),\n",
    "                    3*np.ones(spring.shape[0])\n",
    "                   ))\n",
    "X_train, X_test, y_train, y_test = train_test_split(X, y, test_size=0.3, random_state=42)\n",
    "print(X_train.shape, y_train.shape, X_test.shape, y_test.shape)"
   ]
  },
  {
   "cell_type": "markdown",
   "metadata": {},
   "source": [
    "The modern version of `SKTime` allows the format of arrays in the form of `2d ndarray (numpy)` for univariable time series. \n",
    "\n",
    "For multivariable time series, the array can be specified as a `3d ndarray`.\n",
    "\n",
    "In the general case, a one-variable series can also be specified as a multi-variable series with the array dimension $\\text{samples} \\times \\text{variable} \\times \\text{segment}$.\n",
    "\n",
    "Also, other formats are provided in the `SKTime` package. including specialized ones. \n",
    "\n",
    "To convert between formats, `convert` and `convert_to` from the `sktime.datatypes` module are used. For example, to convert a two-dimensional array to the built-in one-variable format, you can use the following script\n",
    "```python\n",
    "     df = convert_to(np.atleast_3d(X).transpose(0,2,1), to_type=\"nested_univ\")\n",
    "```\n",
    "However, not all `SKTime` functions support `2d ndarray`, so let's create `nested_univ` copies of the data."
   ]
  },
  {
   "cell_type": "code",
   "execution_count": 85,
   "metadata": {},
   "outputs": [],
   "source": [
    "from sktime.datatypes import convert_to\n",
    "df_train = convert_to(np.atleast_3d(X_train).transpose(0,2,1), to_type=\"nested_univ\") \n",
    "df_test  = convert_to(np.atleast_3d(X_test ).transpose(0,2,1), to_type=\"nested_univ\") "
   ]
  },
  {
   "cell_type": "markdown",
   "metadata": {},
   "source": [
    "## Classification sklearn"
   ]
  },
  {
   "cell_type": "markdown",
   "metadata": {},
   "source": [
    "Before testing specialized methods from the `SKTime` package, let's look at the results of the standard approaches from `sklearn`. In time series analysis, among such standard approaches, the `random forest` is the most common. Also let's try the `k-neighbors` algorithm with Euclidean distance as some preliminary baseline estimate."
   ]
  },
  {
   "cell_type": "code",
   "execution_count": 86,
   "metadata": {},
   "outputs": [
    {
     "name": "stdout",
     "output_type": "stream",
     "text": [
      " test score 0.881\n"
     ]
    }
   ],
   "source": [
    "from sklearn.ensemble import RandomForestClassifier\n",
    "from sklearn.neighbors import KNeighborsClassifier\n",
    "\n",
    "clf = RandomForestClassifier(n_estimators=100)\n",
    "clf.fit(X_train, y_train)\n",
    "print(f' test score {clf.score(X_test, y_test):.3f}')\n"
   ]
  },
  {
   "cell_type": "code",
   "execution_count": 87,
   "metadata": {
    "scrolled": true
   },
   "outputs": [
    {
     "name": "stdout",
     "output_type": "stream",
     "text": [
      " test score 0.879\n"
     ]
    }
   ],
   "source": [
    "clf = KNeighborsClassifier(n_neighbors=1)\n",
    "clf.fit(X_train, y_train)\n",
    "print(f' test score {clf.score(X_test, y_test):.3f}') "
   ]
  },
  {
   "cell_type": "markdown",
   "metadata": {},
   "source": [
    "## Raw-Data-based classifiers"
   ]
  },
  {
   "cell_type": "markdown",
   "metadata": {},
   "source": [
    "We discussed that the `1-NN DTW` classifier can be used as some base score. Recall that this approach compares time series \"as a whole\". Distance `DTW` refers to elastic measures that are resistant to distortions of various segments of the series.\n",
    "\n",
    "In the `SKTime` package, this type of algorithms is located in the `distance_based` module."
   ]
  },
  {
   "cell_type": "code",
   "execution_count": 88,
   "metadata": {},
   "outputs": [
    {
     "name": "stdout",
     "output_type": "stream",
     "text": [
      " test score 0.839\n"
     ]
    }
   ],
   "source": [
    "from sktime.classification.distance_based import KNeighborsTimeSeriesClassifier\n",
    "clf = KNeighborsTimeSeriesClassifier(n_neighbors=1, distance=\"dtw\")\n",
    "clf.fit(X_train, y_train)\n",
    "print(f' test score {clf.score(X_test, y_test):.3f}')"
   ]
  },
  {
   "cell_type": "markdown",
   "metadata": {},
   "source": [
    "The result obtained did not exceed the result with the Euclidean distance. This is probably due to the similarity of the segment shapes. However, `1-NN DTW` can also be implemented in more advanced forms. One such form is the difference distance `ddtw`."
   ]
  },
  {
   "cell_type": "code",
   "execution_count": 89,
   "metadata": {},
   "outputs": [
    {
     "name": "stdout",
     "output_type": "stream",
     "text": [
      " test score 0.917\n"
     ]
    }
   ],
   "source": [
    "from sktime.classification.distance_based import KNeighborsTimeSeriesClassifier\n",
    "\n",
    "clf = KNeighborsTimeSeriesClassifier(n_neighbors=1, distance=\"ddtw\")\n",
    "clf.fit(X_train, y_train)\n",
    "print(f' test score {clf.score(X_test, y_test):.3f}')"
   ]
  },
  {
   "cell_type": "markdown",
   "metadata": {},
   "source": [
    "Another option for a data-based classifier is the classifier shapelet.\n",
    "A shapelet is a segment of the time series that has the highest discriminatory ability for the problem. \n",
    "In other words, for shapelet regions, the differences between classes are most significant and similarity inside the classes high enougth.\n",
    "\n",
    "In the `SKTime` shapelets can be found in the `sktime.classification.shapelet_based` module."
   ]
  },
  {
   "cell_type": "code",
   "execution_count": 90,
   "metadata": {
    "scrolled": true
   },
   "outputs": [
    {
     "name": "stdout",
     "output_type": "stream",
     "text": [
      " test score 0.916\n"
     ]
    }
   ],
   "source": [
    "from sktime.classification.shapelet_based import ShapeletTransformClassifier\n",
    "\n",
    "clf = ShapeletTransformClassifier(estimator=RandomForestClassifier(n_estimators=100),\n",
    "                                  n_shapelet_samples=100,\n",
    "                                  max_shapelets=100,\n",
    "                                  batch_size=20)\n",
    "\n",
    "clf.fit(X_train, y_train)\n",
    "print(f' test score {clf.score(X_test, y_test):.3f}')"
   ]
  },
  {
   "cell_type": "markdown",
   "metadata": {},
   "source": [
    "Shapelet-based classifiers allow you to find the most distinct patterns in the data. As discussed in the theoretical part, in some cases it is more useful to repeat such patterns. In such and similar problems, to describe time series (to represent them), approaches based on the so-called dictionary (Dictionary-based or Bag-of-Symbols, BOS) can be applied.\n",
    "\n",
    "The `SKTime` package uses the `sktime.classification.dictionary_based` module to work with dictionaries."
   ]
  },
  {
   "cell_type": "code",
   "execution_count": 91,
   "metadata": {},
   "outputs": [],
   "source": [
    "from sktime.classification.dictionary_based import (ContractableBOSS, \n",
    "                                                    IndividualBOSS, \n",
    "                                                    IndividualTDE, \n",
    "                                                    MUSE, WEASEL)"
   ]
  },
  {
   "cell_type": "code",
   "execution_count": 92,
   "metadata": {},
   "outputs": [
    {
     "data": {
      "text/plain": [
       "0.8110091743119267"
      ]
     },
     "execution_count": 92,
     "metadata": {},
     "output_type": "execute_result"
    }
   ],
   "source": [
    "clf = IndividualBOSS(random_state=47)\n",
    "clf.fit(X_train, y_train)\n",
    "clf.score(X_test, y_test)"
   ]
  },
  {
   "cell_type": "code",
   "execution_count": 93,
   "metadata": {},
   "outputs": [
    {
     "data": {
      "text/plain": [
       "0.8403669724770643"
      ]
     },
     "execution_count": 93,
     "metadata": {},
     "output_type": "execute_result"
    }
   ],
   "source": [
    "clf = IndividualTDE(random_state=47)\n",
    "clf.fit(X_train, y_train)\n",
    "clf.score(X_test, y_test)"
   ]
  },
  {
   "cell_type": "code",
   "execution_count": 94,
   "metadata": {},
   "outputs": [
    {
     "data": {
      "text/plain": [
       "0.9504587155963303"
      ]
     },
     "execution_count": 94,
     "metadata": {},
     "output_type": "execute_result"
    }
   ],
   "source": [
    "clf = MUSE(random_state=47)\n",
    "clf.fit(X_train, y_train)\n",
    "clf.score(X_test, y_test)"
   ]
  },
  {
   "cell_type": "markdown",
   "metadata": {},
   "source": [
    "## Features-Based-Classifiers"
   ]
  },
  {
   "cell_type": "markdown",
   "metadata": {},
   "source": [
    "The classifiers discussed above could be attributed to the so-called raw-data-based classifiers. A feature-based classifiers can often be preferred. One of the most popular approaches among such classifiers are interval approaches. The essence of these approaches is\n",
    "* search or random selection of intervals within time series;\n",
    "* extraction of a certain set of features for such an interval;\n",
    "* building some classifier, for example, a tree for each interval;\n",
    "* combining results for all intervals, for example, using a forest of trees.\n",
    "\n",
    "In the `SKTime` package, such methods can be found in the `sktime.classification.interval_based` module."
   ]
  },
  {
   "cell_type": "code",
   "execution_count": 95,
   "metadata": {},
   "outputs": [],
   "source": [
    "from sktime.classification.interval_based import (TimeSeriesForestClassifier, \n",
    "                                                  RandomIntervalSpectralEnsemble, \n",
    "                                                  SupervisedTimeSeriesForest)"
   ]
  },
  {
   "cell_type": "code",
   "execution_count": 96,
   "metadata": {},
   "outputs": [
    {
     "name": "stdout",
     "output_type": "stream",
     "text": [
      " test score 0.947\n"
     ]
    }
   ],
   "source": [
    "clf = TimeSeriesForestClassifier(n_estimators=100,random_state=47)\n",
    "clf.fit(X_train, y_train)\n",
    "print(f' test score {clf.score(X_test, y_test):.3f}')"
   ]
  },
  {
   "cell_type": "code",
   "execution_count": 97,
   "metadata": {
    "scrolled": true
   },
   "outputs": [
    {
     "name": "stdout",
     "output_type": "stream",
     "text": [
      " test score 0.934\n"
     ]
    }
   ],
   "source": [
    "clf = RandomIntervalSpectralEnsemble(n_estimators=100, random_state=47)\n",
    "clf.fit(X_train, y_train)\n",
    "print(f' test score {clf.score(X_test, y_test):.3f}')"
   ]
  },
  {
   "cell_type": "code",
   "execution_count": 98,
   "metadata": {
    "scrolled": true
   },
   "outputs": [
    {
     "name": "stdout",
     "output_type": "stream",
     "text": [
      " test score 0.947\n"
     ]
    }
   ],
   "source": [
    "clf = SupervisedTimeSeriesForest(n_estimators=100, random_state=47)\n",
    "clf.fit(X_train, y_train)\n",
    "print(f' test score {clf.score(X_test, y_test):.3f}')"
   ]
  },
  {
   "cell_type": "markdown",
   "metadata": {},
   "source": [
    "In addition to tree-based algorithms, methods based on kernel transformations are currently popular. One of the most successful algorithms in this direction is the `Rocket` algorithm. The essence of this algorithm is reduced to data transformation using a set of convolutional kernels with randomly selected parameters. The authors then recommend using `RidgeClassifierCV`, which is a Logistic Regression with `L2` regularization, the regularization parameter being chosen by cross-validation.\n",
    "\n",
    "We will look at an accelerated version of the `MiniRocket` transformation."
   ]
  },
  {
   "cell_type": "code",
   "execution_count": 99,
   "metadata": {},
   "outputs": [
    {
     "name": "stdout",
     "output_type": "stream",
     "text": [
      " test score 0.912\n"
     ]
    }
   ],
   "source": [
    "from sklearn.linear_model import RidgeClassifierCV\n",
    "\n",
    "transform = MiniRocket(num_kernels=10000, n_jobs = -1)\n",
    "Xt_train = transform.fit_transform(X_train)\n",
    "Xt_test  = transform.transform(X_test)\n",
    "\n",
    "clf = RidgeClassifierCV()\n",
    "clf.fit(X_train, y_train)\n",
    "print(f' test score {clf.score(X_test, y_test):.3f}')"
   ]
  },
  {
   "cell_type": "markdown",
   "metadata": {},
   "source": [
    "Another important feature-based approach is the feature space selection approach. Such a space can only be the use of a few summary statistics (mean, median, variance, etc.), which should somehow describe the time series.\n",
    "\n",
    "In some cases, summary statistics may not be enough. \n",
    "In the general case, in addition to the summary statistics, there can be\n",
    "Temporal or frequency (pseudo-frequency) signs. \n",
    "Let's list examples of such signs in the form of a list:\n",
    "* summary statistics: mean, median, variance, entropy, etc.;\n",
    "* temporal signs: slope, trend nature, points of intersection of some threshold values, peak values and their positions, autocorrelation coefficients, etc.\n",
    "* frequency features: spectrum peak values, autoregression coefficients, coefficients, for example, wavelet decompositions, etc.\n",
    "* other signs.\n",
    "In the general case, feature spaces can be quite large. However, as a rule, not all features are important, so feature selection should be carried out for such spaces.\n",
    "\n",
    "There are existing a lot of ready-made solutions, where some of the most significant subspaces have already been selected from volumetric spaces. Among such approaches, `Catch22` is popular. In this approach, among the order of `4500` features, `22` are selected, which are of great importance for standard tests.\n",
    "\n",
    "In the `SKTime` package, the described approaches can be found in the `sktime.classification.feature_based` module. Let's test 2 classifiers from this package `SummaryClassifier`, representing the description of time series by summary statistics and `Catch22Classifier`, representing the description of the time series by the feature space indicated above."
   ]
  },
  {
   "cell_type": "code",
   "execution_count": 100,
   "metadata": {},
   "outputs": [],
   "source": [
    "from sktime.classification.feature_based import SummaryClassifier, Catch22Classifier\n",
    "from sklearn.ensemble import RandomForestClassifier"
   ]
  },
  {
   "cell_type": "code",
   "execution_count": 101,
   "metadata": {},
   "outputs": [
    {
     "name": "stdout",
     "output_type": "stream",
     "text": [
      " test score 0.631\n"
     ]
    }
   ],
   "source": [
    "clf = SummaryClassifier(estimator=RandomForestClassifier(n_estimators=100))\n",
    "clf.fit(X_train, y_train)\n",
    "print(f' test score {clf.score(df_test, y_test):.3f}')"
   ]
  },
  {
   "cell_type": "code",
   "execution_count": 102,
   "metadata": {},
   "outputs": [
    {
     "name": "stdout",
     "output_type": "stream",
     "text": [
      " test score 0.839\n"
     ]
    }
   ],
   "source": [
    "clf = Catch22Classifier(estimator=RandomForestClassifier(n_estimators=100))\n",
    "clf.fit(X_train, y_train)\n",
    "print(f' test score {clf.score(df_test, y_test):.3f}')"
   ]
  },
  {
   "cell_type": "markdown",
   "metadata": {},
   "source": [
    "Additionally, we note that the `SKTime` package also allows you to create pipelines for feature extraction and classification in manual mode. For example, as shown below. The example shown represents the `TimeSeriesForestClassifier` algorithm, however, not completely."
   ]
  },
  {
   "cell_type": "code",
   "execution_count": 103,
   "metadata": {
    "scrolled": true
   },
   "outputs": [
    {
     "name": "stdout",
     "output_type": "stream",
     "text": [
      " test score 0.910\n"
     ]
    }
   ],
   "source": [
    "from sktime.transformations.panel.summarize import RandomIntervalFeatureExtractor\n",
    "from sktime.utils.slope_and_trend import _slope\n",
    "from sklearn.pipeline import Pipeline\n",
    "\n",
    "steps = [(\n",
    "        \"extract\",  RandomIntervalFeatureExtractor(\n",
    "            n_intervals=\"sqrt\", features=[np.mean, np.std, _slope]\n",
    "        )),\n",
    "    (\"clf\", RandomForestClassifier()),]\n",
    "\n",
    "clf = Pipeline(steps)\n",
    "clf.fit(df_train, y_train)\n",
    "print(f' test score {clf.score(df_test, y_test):.3f}')"
   ]
  },
  {
   "cell_type": "markdown",
   "metadata": {},
   "source": [
    "It is also important to note the possibility of working with some other libraries for working with features. So, one of the most popular libraries is [`tsfresh`](https://tsfresh.readthedocs.io/en/latest/text/introduction.html). This library is quite popular, although not the most modern. At the moment, `tsfresh` functionality is being integrated into `SKTime`. Therefore, we will show the possibility of working with `tsfresh` as a separate tool.\n",
    "\n",
    "At its simplest, `tsfresh` requires a DataFrame format in which all data segments are presented in a single column (for single-variable data). To convert formats, we will use the built-in function `sktime` `from_nested_to_long`.\n",
    "\n",
    "The `extract_features` method is used to extract the `tsfresh` features."
   ]
  },
  {
   "cell_type": "code",
   "execution_count": 104,
   "metadata": {
    "scrolled": true
   },
   "outputs": [],
   "source": [
    "from tsfresh import extract_features\n",
    "from sklearn.preprocessing import MinMaxScaler\n",
    "from sktime.datatypes._panel._convert import from_nested_to_long"
   ]
  },
  {
   "cell_type": "code",
   "execution_count": 111,
   "metadata": {},
   "outputs": [
    {
     "name": "stderr",
     "output_type": "stream",
     "text": [
      "Feature Extraction: 100%|██████████████████████████████████████████████████████████████| 10/10 [00:42<00:00,  4.24s/it]\n"
     ]
    },
    {
     "data": {
      "text/html": [
       "<div>\n",
       "<style scoped>\n",
       "    .dataframe tbody tr th:only-of-type {\n",
       "        vertical-align: middle;\n",
       "    }\n",
       "\n",
       "    .dataframe tbody tr th {\n",
       "        vertical-align: top;\n",
       "    }\n",
       "\n",
       "    .dataframe thead th {\n",
       "        text-align: right;\n",
       "    }\n",
       "</style>\n",
       "<table border=\"1\" class=\"dataframe\">\n",
       "  <thead>\n",
       "    <tr style=\"text-align: right;\">\n",
       "      <th></th>\n",
       "      <th>var_0__variance_larger_than_standard_deviation</th>\n",
       "      <th>var_0__has_duplicate_max</th>\n",
       "      <th>var_0__has_duplicate_min</th>\n",
       "      <th>var_0__has_duplicate</th>\n",
       "      <th>var_0__sum_values</th>\n",
       "      <th>var_0__abs_energy</th>\n",
       "      <th>var_0__mean_abs_change</th>\n",
       "      <th>var_0__mean_change</th>\n",
       "      <th>var_0__mean_second_derivative_central</th>\n",
       "      <th>var_0__median</th>\n",
       "      <th>...</th>\n",
       "      <th>var_0__permutation_entropy__dimension_6__tau_1</th>\n",
       "      <th>var_0__permutation_entropy__dimension_7__tau_1</th>\n",
       "      <th>var_0__query_similarity_count__query_None__threshold_0.0</th>\n",
       "      <th>var_0__matrix_profile__feature_\"min\"__threshold_0.98</th>\n",
       "      <th>var_0__matrix_profile__feature_\"max\"__threshold_0.98</th>\n",
       "      <th>var_0__matrix_profile__feature_\"mean\"__threshold_0.98</th>\n",
       "      <th>var_0__matrix_profile__feature_\"median\"__threshold_0.98</th>\n",
       "      <th>var_0__matrix_profile__feature_\"25\"__threshold_0.98</th>\n",
       "      <th>var_0__matrix_profile__feature_\"75\"__threshold_0.98</th>\n",
       "      <th>var_0__mean_n_absolute_max__number_of_maxima_7</th>\n",
       "    </tr>\n",
       "  </thead>\n",
       "  <tbody>\n",
       "    <tr>\n",
       "      <th>0</th>\n",
       "      <td>1.0</td>\n",
       "      <td>0.0</td>\n",
       "      <td>0.0</td>\n",
       "      <td>0.0</td>\n",
       "      <td>1147.970</td>\n",
       "      <td>55546.291492</td>\n",
       "      <td>1.706478</td>\n",
       "      <td>0.143348</td>\n",
       "      <td>-0.034932</td>\n",
       "      <td>49.0810</td>\n",
       "      <td>...</td>\n",
       "      <td>2.798513</td>\n",
       "      <td>2.890372</td>\n",
       "      <td>NaN</td>\n",
       "      <td>NaN</td>\n",
       "      <td>NaN</td>\n",
       "      <td>NaN</td>\n",
       "      <td>NaN</td>\n",
       "      <td>NaN</td>\n",
       "      <td>NaN</td>\n",
       "      <td>53.385857</td>\n",
       "    </tr>\n",
       "    <tr>\n",
       "      <th>1</th>\n",
       "      <td>1.0</td>\n",
       "      <td>0.0</td>\n",
       "      <td>0.0</td>\n",
       "      <td>0.0</td>\n",
       "      <td>1196.845</td>\n",
       "      <td>60363.754601</td>\n",
       "      <td>1.768826</td>\n",
       "      <td>-0.150478</td>\n",
       "      <td>-0.048023</td>\n",
       "      <td>51.6575</td>\n",
       "      <td>...</td>\n",
       "      <td>2.360736</td>\n",
       "      <td>2.630253</td>\n",
       "      <td>NaN</td>\n",
       "      <td>NaN</td>\n",
       "      <td>NaN</td>\n",
       "      <td>NaN</td>\n",
       "      <td>NaN</td>\n",
       "      <td>NaN</td>\n",
       "      <td>NaN</td>\n",
       "      <td>55.839714</td>\n",
       "    </tr>\n",
       "  </tbody>\n",
       "</table>\n",
       "<p>2 rows × 789 columns</p>\n",
       "</div>"
      ],
      "text/plain": [
       "   var_0__variance_larger_than_standard_deviation  var_0__has_duplicate_max  \\\n",
       "0                                             1.0                       0.0   \n",
       "1                                             1.0                       0.0   \n",
       "\n",
       "   var_0__has_duplicate_min  var_0__has_duplicate  var_0__sum_values  \\\n",
       "0                       0.0                   0.0           1147.970   \n",
       "1                       0.0                   0.0           1196.845   \n",
       "\n",
       "   var_0__abs_energy  var_0__mean_abs_change  var_0__mean_change  \\\n",
       "0       55546.291492                1.706478            0.143348   \n",
       "1       60363.754601                1.768826           -0.150478   \n",
       "\n",
       "   var_0__mean_second_derivative_central  var_0__median  ...  \\\n",
       "0                              -0.034932        49.0810  ...   \n",
       "1                              -0.048023        51.6575  ...   \n",
       "\n",
       "   var_0__permutation_entropy__dimension_6__tau_1  \\\n",
       "0                                        2.798513   \n",
       "1                                        2.360736   \n",
       "\n",
       "   var_0__permutation_entropy__dimension_7__tau_1  \\\n",
       "0                                        2.890372   \n",
       "1                                        2.630253   \n",
       "\n",
       "   var_0__query_similarity_count__query_None__threshold_0.0  \\\n",
       "0                                                NaN          \n",
       "1                                                NaN          \n",
       "\n",
       "   var_0__matrix_profile__feature_\"min\"__threshold_0.98  \\\n",
       "0                                                NaN      \n",
       "1                                                NaN      \n",
       "\n",
       "   var_0__matrix_profile__feature_\"max\"__threshold_0.98  \\\n",
       "0                                                NaN      \n",
       "1                                                NaN      \n",
       "\n",
       "   var_0__matrix_profile__feature_\"mean\"__threshold_0.98  \\\n",
       "0                                                NaN       \n",
       "1                                                NaN       \n",
       "\n",
       "   var_0__matrix_profile__feature_\"median\"__threshold_0.98  \\\n",
       "0                                                NaN         \n",
       "1                                                NaN         \n",
       "\n",
       "   var_0__matrix_profile__feature_\"25\"__threshold_0.98  \\\n",
       "0                                                NaN     \n",
       "1                                                NaN     \n",
       "\n",
       "   var_0__matrix_profile__feature_\"75\"__threshold_0.98  \\\n",
       "0                                                NaN     \n",
       "1                                                NaN     \n",
       "\n",
       "   var_0__mean_n_absolute_max__number_of_maxima_7  \n",
       "0                                       53.385857  \n",
       "1                                       55.839714  \n",
       "\n",
       "[2 rows x 789 columns]"
      ]
     },
     "execution_count": 111,
     "metadata": {},
     "output_type": "execute_result"
    }
   ],
   "source": [
    "Xt_train = extract_features(\n",
    "            from_nested_to_long(df_train),\n",
    "            column_id=\"index\",\n",
    "            column_value=\"value\",\n",
    "            column_kind=\"column\",\n",
    "            column_sort=\"time_index\", )\n",
    "Xt_train.head(2)"
   ]
  },
  {
   "cell_type": "code",
   "execution_count": 112,
   "metadata": {
    "scrolled": true
   },
   "outputs": [
    {
     "name": "stderr",
     "output_type": "stream",
     "text": [
      "Feature Extraction: 100%|██████████████████████████████████████████████████████████████| 10/10 [00:23<00:00,  2.38s/it]\n"
     ]
    },
    {
     "data": {
      "text/html": [
       "<div>\n",
       "<style scoped>\n",
       "    .dataframe tbody tr th:only-of-type {\n",
       "        vertical-align: middle;\n",
       "    }\n",
       "\n",
       "    .dataframe tbody tr th {\n",
       "        vertical-align: top;\n",
       "    }\n",
       "\n",
       "    .dataframe thead th {\n",
       "        text-align: right;\n",
       "    }\n",
       "</style>\n",
       "<table border=\"1\" class=\"dataframe\">\n",
       "  <thead>\n",
       "    <tr style=\"text-align: right;\">\n",
       "      <th></th>\n",
       "      <th>var_0__variance_larger_than_standard_deviation</th>\n",
       "      <th>var_0__has_duplicate_max</th>\n",
       "      <th>var_0__has_duplicate_min</th>\n",
       "      <th>var_0__has_duplicate</th>\n",
       "      <th>var_0__sum_values</th>\n",
       "      <th>var_0__abs_energy</th>\n",
       "      <th>var_0__mean_abs_change</th>\n",
       "      <th>var_0__mean_change</th>\n",
       "      <th>var_0__mean_second_derivative_central</th>\n",
       "      <th>var_0__median</th>\n",
       "      <th>...</th>\n",
       "      <th>var_0__permutation_entropy__dimension_6__tau_1</th>\n",
       "      <th>var_0__permutation_entropy__dimension_7__tau_1</th>\n",
       "      <th>var_0__query_similarity_count__query_None__threshold_0.0</th>\n",
       "      <th>var_0__matrix_profile__feature_\"min\"__threshold_0.98</th>\n",
       "      <th>var_0__matrix_profile__feature_\"max\"__threshold_0.98</th>\n",
       "      <th>var_0__matrix_profile__feature_\"mean\"__threshold_0.98</th>\n",
       "      <th>var_0__matrix_profile__feature_\"median\"__threshold_0.98</th>\n",
       "      <th>var_0__matrix_profile__feature_\"25\"__threshold_0.98</th>\n",
       "      <th>var_0__matrix_profile__feature_\"75\"__threshold_0.98</th>\n",
       "      <th>var_0__mean_n_absolute_max__number_of_maxima_7</th>\n",
       "    </tr>\n",
       "  </thead>\n",
       "  <tbody>\n",
       "    <tr>\n",
       "      <th>0</th>\n",
       "      <td>1.0</td>\n",
       "      <td>0.0</td>\n",
       "      <td>0.0</td>\n",
       "      <td>0.0</td>\n",
       "      <td>1477.696</td>\n",
       "      <td>92362.073364</td>\n",
       "      <td>2.077826</td>\n",
       "      <td>0.024783</td>\n",
       "      <td>-0.073591</td>\n",
       "      <td>65.723</td>\n",
       "      <td>...</td>\n",
       "      <td>2.625048</td>\n",
       "      <td>2.813355</td>\n",
       "      <td>NaN</td>\n",
       "      <td>NaN</td>\n",
       "      <td>NaN</td>\n",
       "      <td>NaN</td>\n",
       "      <td>NaN</td>\n",
       "      <td>NaN</td>\n",
       "      <td>NaN</td>\n",
       "      <td>68.742857</td>\n",
       "    </tr>\n",
       "    <tr>\n",
       "      <th>1</th>\n",
       "      <td>1.0</td>\n",
       "      <td>0.0</td>\n",
       "      <td>0.0</td>\n",
       "      <td>1.0</td>\n",
       "      <td>1034.632</td>\n",
       "      <td>45115.251980</td>\n",
       "      <td>1.206522</td>\n",
       "      <td>0.167826</td>\n",
       "      <td>0.053455</td>\n",
       "      <td>45.234</td>\n",
       "      <td>...</td>\n",
       "      <td>2.698011</td>\n",
       "      <td>2.890372</td>\n",
       "      <td>NaN</td>\n",
       "      <td>NaN</td>\n",
       "      <td>NaN</td>\n",
       "      <td>NaN</td>\n",
       "      <td>NaN</td>\n",
       "      <td>NaN</td>\n",
       "      <td>NaN</td>\n",
       "      <td>47.743143</td>\n",
       "    </tr>\n",
       "  </tbody>\n",
       "</table>\n",
       "<p>2 rows × 789 columns</p>\n",
       "</div>"
      ],
      "text/plain": [
       "   var_0__variance_larger_than_standard_deviation  var_0__has_duplicate_max  \\\n",
       "0                                             1.0                       0.0   \n",
       "1                                             1.0                       0.0   \n",
       "\n",
       "   var_0__has_duplicate_min  var_0__has_duplicate  var_0__sum_values  \\\n",
       "0                       0.0                   0.0           1477.696   \n",
       "1                       0.0                   1.0           1034.632   \n",
       "\n",
       "   var_0__abs_energy  var_0__mean_abs_change  var_0__mean_change  \\\n",
       "0       92362.073364                2.077826            0.024783   \n",
       "1       45115.251980                1.206522            0.167826   \n",
       "\n",
       "   var_0__mean_second_derivative_central  var_0__median  ...  \\\n",
       "0                              -0.073591         65.723  ...   \n",
       "1                               0.053455         45.234  ...   \n",
       "\n",
       "   var_0__permutation_entropy__dimension_6__tau_1  \\\n",
       "0                                        2.625048   \n",
       "1                                        2.698011   \n",
       "\n",
       "   var_0__permutation_entropy__dimension_7__tau_1  \\\n",
       "0                                        2.813355   \n",
       "1                                        2.890372   \n",
       "\n",
       "   var_0__query_similarity_count__query_None__threshold_0.0  \\\n",
       "0                                                NaN          \n",
       "1                                                NaN          \n",
       "\n",
       "   var_0__matrix_profile__feature_\"min\"__threshold_0.98  \\\n",
       "0                                                NaN      \n",
       "1                                                NaN      \n",
       "\n",
       "   var_0__matrix_profile__feature_\"max\"__threshold_0.98  \\\n",
       "0                                                NaN      \n",
       "1                                                NaN      \n",
       "\n",
       "   var_0__matrix_profile__feature_\"mean\"__threshold_0.98  \\\n",
       "0                                                NaN       \n",
       "1                                                NaN       \n",
       "\n",
       "   var_0__matrix_profile__feature_\"median\"__threshold_0.98  \\\n",
       "0                                                NaN         \n",
       "1                                                NaN         \n",
       "\n",
       "   var_0__matrix_profile__feature_\"25\"__threshold_0.98  \\\n",
       "0                                                NaN     \n",
       "1                                                NaN     \n",
       "\n",
       "   var_0__matrix_profile__feature_\"75\"__threshold_0.98  \\\n",
       "0                                                NaN     \n",
       "1                                                NaN     \n",
       "\n",
       "   var_0__mean_n_absolute_max__number_of_maxima_7  \n",
       "0                                       68.742857  \n",
       "1                                       47.743143  \n",
       "\n",
       "[2 rows x 789 columns]"
      ]
     },
     "execution_count": 112,
     "metadata": {},
     "output_type": "execute_result"
    }
   ],
   "source": [
    "Xt_test = extract_features(\n",
    "            from_nested_to_long(df_test),\n",
    "            column_id=\"index\",\n",
    "            column_value=\"value\",\n",
    "            column_kind=\"column\",\n",
    "            column_sort=\"time_index\", )\n",
    "Xt_test.head(2)"
   ]
  },
  {
   "cell_type": "markdown",
   "metadata": {},
   "source": [
    "And so we identified 789 features. Among the signs there are values of quite different orders, as well as missing values.\n",
    "We will standardize the obtained features."
   ]
  },
  {
   "cell_type": "code",
   "execution_count": 113,
   "metadata": {},
   "outputs": [],
   "source": [
    "Xt_train = (Xt_train - Xt_train.min())/(Xt_train.max() - Xt_train.min()).astype(np.float32)\n",
    "Xt_test  = (Xt_test  - Xt_train.min())/(Xt_train.max() - Xt_train.min()).astype(np.float32)"
   ]
  },
  {
   "cell_type": "code",
   "execution_count": 114,
   "metadata": {
    "scrolled": true
   },
   "outputs": [],
   "source": [
    "Xt_train = Xt_train.dropna(axis=1)\n",
    "Xt_test  = Xt_test[Xt_train.columns]"
   ]
  },
  {
   "cell_type": "code",
   "execution_count": 115,
   "metadata": {
    "scrolled": true
   },
   "outputs": [
    {
     "data": {
      "text/plain": [
       "0.5798165137614679"
      ]
     },
     "execution_count": 115,
     "metadata": {},
     "output_type": "execute_result"
    }
   ],
   "source": [
    "clf = RandomForestClassifier(n_estimators=100)\n",
    "clf.fit(Xt_train, y_train)\n",
    "clf.score(Xt_test, y_test)"
   ]
  },
  {
   "cell_type": "markdown",
   "metadata": {},
   "source": [
    "Note that, if necessary, in the `SKTime` package, you can also find a number of transformations not considered here, feature extraction techniques and time series classification techniques."
   ]
  },
  {
   "cell_type": "code",
   "execution_count": null,
   "metadata": {},
   "outputs": [],
   "source": []
  }
 ],
 "metadata": {
  "kernelspec": {
   "display_name": "Python 3",
   "language": "python",
   "name": "python3"
  },
  "language_info": {
   "codemirror_mode": {
    "name": "ipython",
    "version": 3
   },
   "file_extension": ".py",
   "mimetype": "text/x-python",
   "name": "python",
   "nbconvert_exporter": "python",
   "pygments_lexer": "ipython3",
   "version": "3.7.0"
  },
  "toc": {
   "base_numbering": 1,
   "nav_menu": {},
   "number_sections": true,
   "sideBar": true,
   "skip_h1_title": false,
   "title_cell": "Table of Contents",
   "title_sidebar": "Contents",
   "toc_cell": false,
   "toc_position": {
    "height": "calc(100% - 180px)",
    "left": "10px",
    "top": "150px",
    "width": "192.102px"
   },
   "toc_section_display": true,
   "toc_window_display": false
  }
 },
 "nbformat": 4,
 "nbformat_minor": 4
}
