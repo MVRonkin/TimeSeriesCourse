{
 "cells": [
  {
   "cell_type": "markdown",
   "metadata": {},
   "source": [
    "# Классификация в SKTime\n"
   ]
  },
  {
   "cell_type": "markdown",
   "metadata": {},
   "source": [
    "## Импорт библиотек"
   ]
  },
  {
   "cell_type": "markdown",
   "metadata": {},
   "source": [
    "Начнем с импорта нужных библиотек"
   ]
  },
  {
   "cell_type": "code",
   "execution_count": 1,
   "metadata": {
    "scrolled": true
   },
   "outputs": [],
   "source": [
    "import pandas as pd\n",
    "import numpy as np\n",
    "import matplotlib.pyplot as plt"
   ]
  },
  {
   "cell_type": "code",
   "execution_count": 2,
   "metadata": {},
   "outputs": [],
   "source": [
    "try:\n",
    "    import aeon\n",
    "except:\n",
    "    !pip install aeon --user\n",
    "    !pip install tsfresh \n",
    "    !pip install numba\n",
    "    !pip install llvmlite\n",
    "import aeon"
   ]
  },
  {
   "cell_type": "code",
   "execution_count": 3,
   "metadata": {},
   "outputs": [],
   "source": [
    "from aeon.transformations.collection.convolution_based._minirocket import MiniRocket"
   ]
  },
  {
   "cell_type": "code",
   "execution_count": 4,
   "metadata": {},
   "outputs": [],
   "source": [
    "from aeon.datasets import load_from_tsfile\n",
    "from sklearn.preprocessing import MinMaxScaler\n",
    "from sklearn.model_selection import train_test_split"
   ]
  },
  {
   "cell_type": "markdown",
   "metadata": {},
   "source": [
    "## Импорт данных"
   ]
  },
  {
   "cell_type": "markdown",
   "metadata": {},
   "source": [
    "Теперь выберем набор данных. Для нашего урока мы воспользуемся уже имеющимся набором данных [открытые данные энергетических систем](https://open-power-system-data.org/). "
   ]
  },
  {
   "cell_type": "code",
   "execution_count": 5,
   "metadata": {},
   "outputs": [],
   "source": [
    "url = 'https://data.open-power-system-data.org/time_series/2020-10-06/'\n",
    "datafile = url + 'time_series_60min_singleindex.csv'\n",
    "df_all = pd.read_csv(datafile, index_col='utc_timestamp', parse_dates=True, low_memory=False)"
   ]
  },
  {
   "cell_type": "markdown",
   "metadata": {},
   "source": [
    "Также как и ранее выберем нужную страну, для примеров это была Германия."
   ]
  },
  {
   "cell_type": "code",
   "execution_count": 6,
   "metadata": {},
   "outputs": [],
   "source": [
    "def extract_country(df_all, country_code, year_min=None, year_max=None):\n",
    "    \"\"\"Extract data for a single country\"\"\"\n",
    "    \n",
    "    # List of columns to extract\n",
    "    columns = [col for col in df_all.columns if col.startswith(country_code)]\n",
    "    \n",
    "    # Extract columns and remove country codes from column labels\n",
    "    columns_map = {col : col[3:] for col in columns}\n",
    "    df_out = df_all[columns].rename(columns=columns_map)\n",
    "    \n",
    "    # Exclude years outside of specified range, if any\n",
    "    if year_min is not None:\n",
    "        df_out = df_out[df_out.index.year >= year_min]\n",
    "    if year_max is not None:\n",
    "        df_out = df_out[df_out.index.year <= year_max]\n",
    "        \n",
    "    return df_out\n",
    "\n",
    "def transform_dataframe(df, cols_map):\n",
    "    # Rename columns for convenience\n",
    "    df = df[list(cols_map.keys())].rename(columns=cols_map)\n",
    "    # Convert from MW to GW\n",
    "    df = df / 1000\n",
    "#     df = df.groupby(df.index.hour).mean()\n",
    "    df = df.rename_axis('Date')\n",
    "#     df.index = df.index.strftime('%Y-%m-%d-%h')\n",
    "    return df"
   ]
  },
  {
   "cell_type": "code",
   "execution_count": 7,
   "metadata": {
    "scrolled": true
   },
   "outputs": [
    {
     "data": {
      "text/html": [
       "<div>\n",
       "<style scoped>\n",
       "    .dataframe tbody tr th:only-of-type {\n",
       "        vertical-align: middle;\n",
       "    }\n",
       "\n",
       "    .dataframe tbody tr th {\n",
       "        vertical-align: top;\n",
       "    }\n",
       "\n",
       "    .dataframe thead th {\n",
       "        text-align: right;\n",
       "    }\n",
       "</style>\n",
       "<table border=\"1\" class=\"dataframe\">\n",
       "  <thead>\n",
       "    <tr style=\"text-align: right;\">\n",
       "      <th></th>\n",
       "      <th>Consumption</th>\n",
       "      <th>Wind</th>\n",
       "      <th>Solar</th>\n",
       "      <th>Wind+Solar</th>\n",
       "    </tr>\n",
       "    <tr>\n",
       "      <th>Date</th>\n",
       "      <th></th>\n",
       "      <th></th>\n",
       "      <th></th>\n",
       "      <th></th>\n",
       "    </tr>\n",
       "  </thead>\n",
       "  <tbody>\n",
       "    <tr>\n",
       "      <th>2015-01-01 07:00:00+00:00</th>\n",
       "      <td>41.133</td>\n",
       "      <td>10.208</td>\n",
       "      <td>0.071</td>\n",
       "      <td>10.279</td>\n",
       "    </tr>\n",
       "    <tr>\n",
       "      <th>2015-01-01 08:00:00+00:00</th>\n",
       "      <td>42.963</td>\n",
       "      <td>10.029</td>\n",
       "      <td>0.773</td>\n",
       "      <td>10.802</td>\n",
       "    </tr>\n",
       "    <tr>\n",
       "      <th>2015-01-01 09:00:00+00:00</th>\n",
       "      <td>45.088</td>\n",
       "      <td>10.550</td>\n",
       "      <td>2.117</td>\n",
       "      <td>12.667</td>\n",
       "    </tr>\n",
       "    <tr>\n",
       "      <th>2015-01-01 10:00:00+00:00</th>\n",
       "      <td>47.013</td>\n",
       "      <td>11.390</td>\n",
       "      <td>3.364</td>\n",
       "      <td>14.754</td>\n",
       "    </tr>\n",
       "    <tr>\n",
       "      <th>2015-01-01 11:00:00+00:00</th>\n",
       "      <td>48.159</td>\n",
       "      <td>12.103</td>\n",
       "      <td>4.198</td>\n",
       "      <td>16.301</td>\n",
       "    </tr>\n",
       "  </tbody>\n",
       "</table>\n",
       "</div>"
      ],
      "text/plain": [
       "                           Consumption    Wind  Solar  Wind+Solar\n",
       "Date                                                             \n",
       "2015-01-01 07:00:00+00:00       41.133  10.208  0.071      10.279\n",
       "2015-01-01 08:00:00+00:00       42.963  10.029  0.773      10.802\n",
       "2015-01-01 09:00:00+00:00       45.088  10.550  2.117      12.667\n",
       "2015-01-01 10:00:00+00:00       47.013  11.390  3.364      14.754\n",
       "2015-01-01 11:00:00+00:00       48.159  12.103  4.198      16.301"
      ]
     },
     "execution_count": 7,
     "metadata": {},
     "output_type": "execute_result"
    }
   ],
   "source": [
    "df_hrly = extract_country(df_all, country_code='DE', year_min=2015, year_max=2019)\n",
    "df_hrly.sample(3)\n",
    "\n",
    "cols_map = {'load_actual_entsoe_transparency' : 'Consumption',\n",
    "            'wind_generation_actual' : 'Wind',\n",
    "            'solar_generation_actual' : 'Solar'}\n",
    "df = transform_dataframe(df_hrly, cols_map).dropna()\n",
    "\n",
    "# df wind + solar generation\n",
    "df['Wind+Solar'] = df[['Wind', 'Solar']].sum(axis=1, skipna=False)\n",
    "df.to_csv('de_clf_data.csv')\n",
    "df.head()"
   ]
  },
  {
   "cell_type": "markdown",
   "metadata": {},
   "source": [
    "Однако для текущей цели - изучить классификацию временных рядов давайте сделаем набор данных с классами. Для этого предлагается поставить задачу определение по дневному потреблению сезона (зима, весна, осень, лето):\n",
    "* Разделить все данные на 4 сезона (зима, весна, осень, лето)\n",
    "* взять данные с шагом 1 час.\n",
    "* создать сегменты размером 24 часа (1 день).\n",
    "\n",
    "Данная задача полностью искусственная, однако в целом соответствует некоторым из задачи стандартных тестов классификации временных рядов, например смотрите [тут](http://www.timeseriesclassification.com/description.php?Dataset=PowerCons). \n",
    "\n",
    "Напомним, что для проведения классификации, как правило, данные следует разделять на сегменты.  Как правило, эти сегменты не должны пересекаться. В нашем случае длина сегмента будет 24 точки.\n",
    "\n",
    "Для цели создания набора данных давайте создадим 2 функции, первая `split_by_month` будет разделять наш набор данных на месяца. Вторая функция `to_segments` будет создавать сегменты по 24 часа в сутках."
   ]
  },
  {
   "cell_type": "code",
   "execution_count": 8,
   "metadata": {},
   "outputs": [],
   "source": [
    "def split_by_month(df, months):\n",
    "    df_ = pd.DataFrame()\n",
    "    for month in np.atleast_1d(months):        \n",
    "        df_ = pd.concat([df_,df.loc[df.index.month == month]])\n",
    "    return df_\n",
    "\n",
    "def to_segments(df, column, size = 24):  \n",
    "    df.index.hour[0]\n",
    "    start_idx = 24-df.index.hour[0]\n",
    "    df = df.iloc[start_idx:]\n",
    "    val = df[[column]].values\n",
    "    return val[:size*(val.size//size)].reshape(-1,size)"
   ]
  },
  {
   "cell_type": "code",
   "execution_count": 9,
   "metadata": {},
   "outputs": [
    {
     "name": "stdout",
     "output_type": "stream",
     "text": [
      "(448, 24) (458, 24) (452, 24) (458, 24)\n"
     ]
    }
   ],
   "source": [
    "winter = to_segments(split_by_month(df, [1,2, 12]), 'Consumption', size = 24)\n",
    "summer = to_segments(split_by_month(df, [6, 7, 8]), 'Consumption', size = 24)\n",
    "autumn = to_segments(split_by_month(df, [9,10,11]), 'Consumption', size = 24)\n",
    "spring = to_segments(split_by_month(df, [3, 4, 5]), 'Consumption', size = 24)\n",
    "print(winter.shape, summer.shape, autumn.shape, spring.shape)"
   ]
  },
  {
   "cell_type": "markdown",
   "metadata": {},
   "source": [
    "Теперь мы создали 4 класса. Давайте посмотрим как выглядят их примеры."
   ]
  },
  {
   "cell_type": "code",
   "execution_count": 10,
   "metadata": {
    "scrolled": true
   },
   "outputs": [
    {
     "data": {
      "image/png": "[encoded data removed]",
      "text/plain": [
       "<Figure size 640x480 with 1 Axes>"
      ]
     },
     "metadata": {},
     "output_type": "display_data"
    }
   ],
   "source": [
    "plt.figure()\n",
    "day = 10\n",
    "for i,(c,d) in enumerate(zip([winter,summer,autumn,spring],['winter','summer','autumn','spring'])):\n",
    "    plt.plot(c[day], label=\"class \" + str(d))\n",
    "plt.legend(loc=\"best\")\n",
    "plt.show()\n",
    "plt.close()"
   ]
  },
  {
   "cell_type": "markdown",
   "metadata": {},
   "source": [
    "Хотя примеры показывают  высокую степень сходства мы все же попробуем их классифицировать. Для этого создадим массив тренировочных и тестовых данных."
   ]
  },
  {
   "cell_type": "code",
   "execution_count": 11,
   "metadata": {
    "scrolled": true
   },
   "outputs": [
    {
     "name": "stdout",
     "output_type": "stream",
     "text": [
      "(1271, 24) (1271,) (545, 24) (545,)\n"
     ]
    }
   ],
   "source": [
    "X = np.concatenate((\n",
    "                    winter, \n",
    "                    summer, \n",
    "                    autumn, \n",
    "                    spring))\n",
    "y = np.concatenate((\n",
    "                    0*np.ones(winter.shape[0]),\n",
    "                    1*np.ones(summer.shape[0]),\n",
    "                    2*np.ones(autumn.shape[0]),\n",
    "                    3*np.ones(spring.shape[0])\n",
    "                   ))\n",
    "X_train, X_test, y_train, y_test = train_test_split(X, y, test_size=0.3, random_state=42)\n",
    "print(X_train.shape, y_train.shape, X_test.shape, y_test.shape)"
   ]
  },
  {
   "cell_type": "markdown",
   "metadata": {},
   "source": [
    "Современная версия `SKTime` допускает формат массивов в виде `2d ndarray (numpy)` для однопеременных временных рядов. Для многопеременных временных рядов массив может быть задан в виде `3d ndarray`. В общем случае однопеменный ряд также может быть задан как многопеременный с размерностью массива $\\text{samples} \\times \\text{variable} \\times \\text{segment}$ Также в пакете `SKTime` предусмотрены и другие форматы. В том числе специализированные. Для преобразования между форматами используются `convert` и `convert_to` из модуля `sktime.datatypes`. Например, для преобразования двухмерного массива во встроенный однопеременных формат можно воспользоваться следующим скриптом\n",
    "```python\n",
    "    df = convert_to(np.atleast_3d(X).transpose(0,2,1), to_type=\"nested_univ\") \n",
    "```\n",
    "Однако  не все функции `SKTime` поддерживают `2d ndarray` поэтому давайте создадим `nested_univ` копии данных."
   ]
  },
  {
   "cell_type": "code",
   "execution_count": 12,
   "metadata": {},
   "outputs": [],
   "source": [
    "from aeon.datatypes import convert_to\n",
    "df_train = convert_to(np.atleast_3d(X_train).transpose(0,2,1), to_type=\"nested_univ\") \n",
    "df_test  = convert_to(np.atleast_3d(X_test ).transpose(0,2,1), to_type=\"nested_univ\") "
   ]
  },
  {
   "cell_type": "markdown",
   "metadata": {},
   "source": [
    "## Классификация sklearn"
   ]
  },
  {
   "cell_type": "markdown",
   "metadata": {},
   "source": [
    "Перед тестированием специализированных методов из пакета `SKTime` давайте посмотрим на результаты стандартных подходов из `sklearn`. В анализе временных рядов среди таких стандартных подходов наиболее распространен `случайный лес`. Также давайте попробуем алгоритм `k-соседей` с евклидовым расстоянием как некоторую предварительную базовую оценку."
   ]
  },
  {
   "cell_type": "code",
   "execution_count": 13,
   "metadata": {},
   "outputs": [
    {
     "name": "stdout",
     "output_type": "stream",
     "text": [
      " test score 0.881\n"
     ]
    }
   ],
   "source": [
    "from sklearn.ensemble import RandomForestClassifier\n",
    "from sklearn.neighbors import KNeighborsClassifier\n",
    "\n",
    "clf = RandomForestClassifier(n_estimators=100)\n",
    "clf.fit(X_train, y_train)\n",
    "print(f' test score {clf.score(X_test, y_test):.3f}')\n"
   ]
  },
  {
   "cell_type": "code",
   "execution_count": 14,
   "metadata": {
    "scrolled": true
   },
   "outputs": [
    {
     "name": "stdout",
     "output_type": "stream",
     "text": [
      " test score 0.879\n"
     ]
    }
   ],
   "source": [
    "clf = KNeighborsClassifier(n_neighbors=1)\n",
    "clf.fit(X_train, y_train)\n",
    "print(f' test score {clf.score(X_test, y_test):.3f}') "
   ]
  },
  {
   "cell_type": "markdown",
   "metadata": {},
   "source": [
    "## Классификаторы на основе данных"
   ]
  },
  {
   "cell_type": "markdown",
   "metadata": {},
   "source": [
    "В теоретической части мы уже обсуждали типы алгоритмов классификации временных рядов. Теперь давайте попробуем их на практике. Ранее мы обсуждали что в качестве некоторой базовой оценки можно использовать `1-NN DTW` классификатор. Напомним, что этот подход сравнивает временные ряды \"в целом\". Расстояние `DTW` относится к эластичным мерам, стабильным к искажениям различных сегментов ряда.\n",
    "\n",
    "В пакете `SKTime` данный тип алгоритмов находится в модуле `distance_based`."
   ]
  },
  {
   "cell_type": "code",
   "execution_count": 15,
   "metadata": {},
   "outputs": [
    {
     "name": "stdout",
     "output_type": "stream",
     "text": [
      " test score 0.839\n"
     ]
    }
   ],
   "source": [
    "from aeon.classification.distance_based import KNeighborsTimeSeriesClassifier\n",
    "clf = KNeighborsTimeSeriesClassifier(n_neighbors=1, distance=\"dtw\")\n",
    "clf.fit(X_train, y_train)\n",
    "print(f' test score {clf.score(X_test, y_test):.3f}')"
   ]
  },
  {
   "cell_type": "markdown",
   "metadata": {},
   "source": [
    "Полученный результат не превзошёл результат с евклидовым расстоянием. Вероятно, это связано с близостью форм сегментов. Однако `1-NN DTW` может быть реализован и в более продвинутых формах. Одной из таких форм является расстояние разностей `ddtw`. "
   ]
  },
  {
   "cell_type": "code",
   "execution_count": 16,
   "metadata": {},
   "outputs": [
    {
     "name": "stdout",
     "output_type": "stream",
     "text": [
      " test score 0.917\n"
     ]
    }
   ],
   "source": [
    "from aeon.classification.distance_based import KNeighborsTimeSeriesClassifier\n",
    "\n",
    "clf = KNeighborsTimeSeriesClassifier(n_neighbors=1, distance=\"ddtw\")\n",
    "clf.fit(X_train, y_train)\n",
    "print(f' test score {clf.score(X_test, y_test):.3f}')"
   ]
  },
  {
   "cell_type": "markdown",
   "metadata": {},
   "source": [
    "Другим вариантом классификатора на основе данных являются шейплет классификатора. Напомним, что шейплет представляет собой участок временного ряда, обладающий наибольшей дискриминационной способностью для задачи. Другими словами, для участков шейплетов различия между классами наиболее существенны.\n",
    "\n",
    "В ракете `SKTime` шейплеты могут быть найдены в модуле `sktime.classification.shapelet_based`."
   ]
  },
  {
   "cell_type": "code",
   "execution_count": 17,
   "metadata": {
    "scrolled": true
   },
   "outputs": [
    {
     "name": "stdout",
     "output_type": "stream",
     "text": [
      " test score 0.903\n"
     ]
    }
   ],
   "source": [
    "from aeon.classification.shapelet_based import ShapeletTransformClassifier\n",
    "\n",
    "clf = ShapeletTransformClassifier(estimator=RandomForestClassifier(n_estimators=100),\n",
    "                                  n_shapelet_samples=100,\n",
    "                                  max_shapelets=100,\n",
    "                                  batch_size=20)\n",
    "\n",
    "clf.fit(X_train, y_train)\n",
    "print(f' test score {clf.score(X_test, y_test):.3f}')"
   ]
  },
  {
   "cell_type": "markdown",
   "metadata": {},
   "source": [
    "Классификаторы на основе шейплетов позволяют найти наиболее различающиеся паттерны в данных. Как обсуждалось в теоретической части в ряде случаев более полезным оказываться повторяемость такие паттернов.  В таких и подобных задачах для описания временных рядов (для их представления) могут быть использованы подходы на основе т.н. словаря (Dictionary-based). \n",
    "\n",
    "В пакете `SKTime` для работы со словарями используется модуль `sktime.classification.dictionary_based`. "
   ]
  },
  {
   "cell_type": "code",
   "execution_count": 18,
   "metadata": {},
   "outputs": [],
   "source": [
    "from aeon.classification.dictionary_based import (ContractableBOSS, \n",
    "                                                    IndividualBOSS, \n",
    "                                                    IndividualTDE, \n",
    "                                                    MUSE, WEASEL)"
   ]
  },
  {
   "cell_type": "code",
   "execution_count": 19,
   "metadata": {},
   "outputs": [
    {
     "data": {
      "text/plain": [
       "0.8146788990825689"
      ]
     },
     "execution_count": 19,
     "metadata": {},
     "output_type": "execute_result"
    }
   ],
   "source": [
    "clf = IndividualBOSS(random_state=47)\n",
    "clf.fit(X_train, y_train)\n",
    "clf.score(X_test, y_test)"
   ]
  },
  {
   "cell_type": "code",
   "execution_count": 20,
   "metadata": {},
   "outputs": [
    {
     "data": {
      "text/plain": [
       "0.8403669724770643"
      ]
     },
     "execution_count": 20,
     "metadata": {},
     "output_type": "execute_result"
    }
   ],
   "source": [
    "clf = IndividualTDE(random_state=47)\n",
    "clf.fit(X_train, y_train)\n",
    "clf.score(X_test, y_test)"
   ]
  },
  {
   "cell_type": "code",
   "execution_count": 21,
   "metadata": {},
   "outputs": [
    {
     "data": {
      "text/plain": [
       "0.963302752293578"
      ]
     },
     "execution_count": 21,
     "metadata": {},
     "output_type": "execute_result"
    }
   ],
   "source": [
    "clf = MUSE(random_state=47)\n",
    "clf.fit(X_train, y_train)\n",
    "clf.score(X_test, y_test)"
   ]
  },
  {
   "cell_type": "markdown",
   "metadata": {},
   "source": [
    "## Классификаторы на основе признаков"
   ]
  },
  {
   "cell_type": "markdown",
   "metadata": {},
   "source": [
    "Классификаторы, рассмотрены выше можно было отнести к т.н. классификаторам на основе данных. Однако как уже обсуждалось в теоретической части, часто следует отдавать предпочтения классификаторам на основе признаков. Одними из наиболее популярных подходов среди таких классификаторов являются интервальные подходы. Суть таких подходов сводится к\n",
    "* поиску или случайному выбору интервалов внутри временных рядов;\n",
    "* извлечению некоторого набора признаков для такого интервала;\n",
    "* построению некоторого классификатора, например, дерева для каждого интервала;\n",
    "* объединение результатов для всех интервалов, например, при помощи леса деревьев.\n",
    "\n",
    "В пакете `SKTime` такие методы могут быть найдены в модуле `sktime.classification.interval_based`."
   ]
  },
  {
   "cell_type": "code",
   "execution_count": 26,
   "metadata": {},
   "outputs": [],
   "source": [
    "from aeon.classification.interval_based._rstsf import RSTSF\n",
    "from aeon.classification.interval_based._stsf import SupervisedTimeSeriesForest\n",
    "from aeon.classification.interval_based._tsf import TimeSeriesForestClassifier\n",
    "from aeon.classification.interval_based._rise import RandomIntervalSpectralEnsembleClassifier"
   ]
  },
  {
   "cell_type": "code",
   "execution_count": 27,
   "metadata": {},
   "outputs": [
    {
     "name": "stdout",
     "output_type": "stream",
     "text": [
      " test score 0.930\n"
     ]
    }
   ],
   "source": [
    "clf = TimeSeriesForestClassifier(n_estimators=100,random_state=47)\n",
    "clf.fit(X_train, y_train)\n",
    "print(f' test score {clf.score(X_test, y_test):.3f}')"
   ]
  },
  {
   "cell_type": "code",
   "execution_count": 32,
   "metadata": {
    "scrolled": true
   },
   "outputs": [
    {
     "name": "stdout",
     "output_type": "stream",
     "text": [
      " test score 0.930\n"
     ]
    }
   ],
   "source": [
    "clf = RandomIntervalSpectralEnsembleClassifier(n_estimators=100, random_state=47)\n",
    "clf.fit(X_train, y_train)\n",
    "print(f' test score {clf.score(X_test, y_test):.3f}')"
   ]
  },
  {
   "cell_type": "code",
   "execution_count": 33,
   "metadata": {
    "scrolled": true
   },
   "outputs": [
    {
     "name": "stdout",
     "output_type": "stream",
     "text": [
      " test score 0.960\n"
     ]
    }
   ],
   "source": [
    "clf = SupervisedTimeSeriesForest(n_estimators=100, random_state=47)\n",
    "clf.fit(X_train, y_train)\n",
    "print(f' test score {clf.score(X_test, y_test):.3f}')"
   ]
  },
  {
   "cell_type": "markdown",
   "metadata": {},
   "source": [
    "Помимо алгоритмов на основе деревьев, популярным на сегодня является методы на основе ядерных преобразований. Одним из наиболее успешных алгоритмов в этом направлении является алгоритм `Rocket`. Суть данного алгоритма сводится к трансформации данных при помощи набора сверточных ядре со случайно выбранными параметрами. Затем авторы рекомендуются использовать  `RidgeClassifierCV`, который предоставляет собой Логистическую регрессию с `L2` регуляризацией, параметр регуляризации выбирается при помощи кросс-валидации. \n",
    "\n",
    "Мы рассмотрим ускоренную версию преобразования `MiniRocket`. "
   ]
  },
  {
   "cell_type": "code",
   "execution_count": 34,
   "metadata": {},
   "outputs": [
    {
     "name": "stdout",
     "output_type": "stream",
     "text": [
      " test score 0.912\n"
     ]
    }
   ],
   "source": [
    "from sklearn.linear_model import RidgeClassifierCV\n",
    "\n",
    "transform = MiniRocket(num_kernels=10000, n_jobs = -1)\n",
    "Xt_train = transform.fit_transform(X_train)\n",
    "Xt_test  = transform.transform(X_test)\n",
    "\n",
    "clf = RidgeClassifierCV()\n",
    "clf.fit(X_train, y_train)\n",
    "print(f' test score {clf.score(X_test, y_test):.3f}')"
   ]
  },
  {
   "cell_type": "markdown",
   "metadata": {},
   "source": [
    "Другим важным подходом на основе признаков является подход выбора признакового пространства. Таким пространством может быть лишь использование небольшого числа суммарных статистик (среднее, медиана, дисперсия и т.д.), которые должны как-то описать временной ряд. \n",
    "\n",
    "В некоторых случаях суммарных статистик может быть недостаточно. В общем случае помимо суммарных статистик могут быть и \n",
    "Временные или частотные (псевдочастотные) признаки. Давайте перечислим примеры таких признаков в виде списка:\n",
    "* суммарные статистики: среднее, медиана, дисперсия, энтропия и т.д.;\n",
    "* временные признаки: наклон, характер тренда, точки пересечения некоторых пороговых значений, значения пиков и их позиции, автокорреляционные коэффициенты и т.д. \n",
    "* частотные признаки: значения пиков спектра, коэффициенты авторегрессии, коэффициенты, например, вейвлет разложений и т.д.\n",
    "* другие признаки.\n",
    "В общем случае признаковые пространства могут быть достаточно объемными. Однако, как правило, не все признаки важны, поэтому для таких пространств следует проводить отбор признаков. Существуют и готовые решения, где из объемных пространств уже выделены некоторые наиболее значимые подпространства. Среди таких подходов популярным является `Catch22`. В данном подходе среди порядка `4500` признаков выделено `22`, имеющих большую значимость для стандартных тестов. \n",
    "\n",
    "В пакете `SKTime` описанные подходы можно найти в модуле `sktime.classification.feature_based`. Давайте протестируем 2 классификатора из этого пакета `SummaryClassifier`, представляющий описание временных рядов суммарными статистиками и `Catch22Classifier`, представляющий описание временного ряда указанным выше признаковым пространством. "
   ]
  },
  {
   "cell_type": "code",
   "execution_count": 35,
   "metadata": {},
   "outputs": [],
   "source": [
    "from aeon.classification.feature_based import SummaryClassifier, Catch22Classifier\n",
    "from sklearn.ensemble import RandomForestClassifier\n",
    "\n",
    "from aeon.transformations.collection.feature_based import Catch22"
   ]
  },
  {
   "cell_type": "code",
   "execution_count": 36,
   "metadata": {},
   "outputs": [
    {
     "name": "stdout",
     "output_type": "stream",
     "text": [
      " test score 0.637\n"
     ]
    }
   ],
   "source": [
    "clf = SummaryClassifier(estimator=RandomForestClassifier(n_estimators=100))\n",
    "clf.fit(X_train, y_train)\n",
    "print(f' test score {clf.score(df_test, y_test):.3f}')"
   ]
  },
  {
   "cell_type": "code",
   "execution_count": 37,
   "metadata": {},
   "outputs": [
    {
     "name": "stdout",
     "output_type": "stream",
     "text": [
      " test score 0.857\n"
     ]
    }
   ],
   "source": [
    "clf = Catch22Classifier(estimator=RandomForestClassifier(n_estimators=100))\n",
    "clf.fit(X_train, y_train)\n",
    "print(f' test score {clf.score(df_test, y_test):.3f}')"
   ]
  },
  {
   "cell_type": "markdown",
   "metadata": {},
   "source": [
    "Дополнительно отметим, что пакет `SKTime` также позволяет создавать пайплайны выделения признаков и классификации в ручном режиме. Например, так, как это показано ниже. Показанный пример повторяет алгоритм `TimeSeriesForestClassifier`, однако, не полностью."
   ]
  },
  {
   "cell_type": "code",
   "execution_count": 43,
   "metadata": {
    "scrolled": true
   },
   "outputs": [],
   "source": [
    "# from aeon.transformations.collection import RandomIntervalSegmenter\n",
    "# from aeon.utils.slope_and_trend import _slope\n",
    "# from sklearn.pipeline import Pipeline\n",
    "\n",
    "# steps = [(\n",
    "#         \"extract\",  RandomIntervalSegmenter(\n",
    "#             n_intervals=\"sqrt\", features=[np.mean, np.std, _slope]\n",
    "#         )),\n",
    "#     (\"clf\", RandomForestClassifier()),]\n",
    "\n",
    "# clf = Pipeline(steps)\n",
    "# clf.fit(df_train, y_train)\n",
    "# print(f' test score {clf.score(df_test, y_test):.3f}')"
   ]
  },
  {
   "cell_type": "markdown",
   "metadata": {},
   "source": [
    "Также важно отметить возможность работы с некоторыми другими библиотеками работы с признаками. Так, одной из наиболее популярных библиотек является [`tsfresh`](https://tsfresh.readthedocs.io/en/latest/text/introduction.html). Данная библиотека является достаточно популярной, хотя и не самой современной. На данный момент ведется интеграция функционала `tsfresh` в `SKTime`. По этому мы покажем возможность работы с `tsfresh` как с отдельным инструментом. \n",
    "\n",
    "В самом простом случае `tsfresh` требует формат данных в виде DataFrame, в котором все сегменты данных были бы представлены в одной колонке (для однопеременных данных). Для преобразования форматов воспользуемся встроенной функцией `sktime` `from_nested_to_long`.\n",
    "\n",
    "Для выделения признаков `tsfresh` используется метод `extract_features`. "
   ]
  },
  {
   "cell_type": "code",
   "execution_count": 44,
   "metadata": {
    "scrolled": true
   },
   "outputs": [],
   "source": [
    "from tsfresh import extract_features\n",
    "from sklearn.preprocessing import MinMaxScaler\n",
    "from aeon.datatypes._panel._convert import from_nested_to_long"
   ]
  },
  {
   "cell_type": "code",
   "execution_count": 45,
   "metadata": {},
   "outputs": [
    {
     "name": "stderr",
     "output_type": "stream",
     "text": [
      "Feature Extraction: 100%|██████████████████████████████████████████████████████████████| 10/10 [00:54<00:00,  5.41s/it]\n"
     ]
    },
    {
     "data": {
      "text/html": [
       "<div>\n",
       "<style scoped>\n",
       "    .dataframe tbody tr th:only-of-type {\n",
       "        vertical-align: middle;\n",
       "    }\n",
       "\n",
       "    .dataframe tbody tr th {\n",
       "        vertical-align: top;\n",
       "    }\n",
       "\n",
       "    .dataframe thead th {\n",
       "        text-align: right;\n",
       "    }\n",
       "</style>\n",
       "<table border=\"1\" class=\"dataframe\">\n",
       "  <thead>\n",
       "    <tr style=\"text-align: right;\">\n",
       "      <th></th>\n",
       "      <th>var_0__variance_larger_than_standard_deviation</th>\n",
       "      <th>var_0__has_duplicate_max</th>\n",
       "      <th>var_0__has_duplicate_min</th>\n",
       "      <th>var_0__has_duplicate</th>\n",
       "      <th>var_0__sum_values</th>\n",
       "      <th>var_0__abs_energy</th>\n",
       "      <th>var_0__mean_abs_change</th>\n",
       "      <th>var_0__mean_change</th>\n",
       "      <th>var_0__mean_second_derivative_central</th>\n",
       "      <th>var_0__median</th>\n",
       "      <th>...</th>\n",
       "      <th>var_0__fourier_entropy__bins_5</th>\n",
       "      <th>var_0__fourier_entropy__bins_10</th>\n",
       "      <th>var_0__fourier_entropy__bins_100</th>\n",
       "      <th>var_0__permutation_entropy__dimension_3__tau_1</th>\n",
       "      <th>var_0__permutation_entropy__dimension_4__tau_1</th>\n",
       "      <th>var_0__permutation_entropy__dimension_5__tau_1</th>\n",
       "      <th>var_0__permutation_entropy__dimension_6__tau_1</th>\n",
       "      <th>var_0__permutation_entropy__dimension_7__tau_1</th>\n",
       "      <th>var_0__query_similarity_count__query_None__threshold_0.0</th>\n",
       "      <th>var_0__mean_n_absolute_max__number_of_maxima_7</th>\n",
       "    </tr>\n",
       "  </thead>\n",
       "  <tbody>\n",
       "    <tr>\n",
       "      <th>0</th>\n",
       "      <td>1.0</td>\n",
       "      <td>0.0</td>\n",
       "      <td>0.0</td>\n",
       "      <td>0.0</td>\n",
       "      <td>1147.970</td>\n",
       "      <td>55546.291492</td>\n",
       "      <td>1.706478</td>\n",
       "      <td>0.143348</td>\n",
       "      <td>-0.034932</td>\n",
       "      <td>49.0810</td>\n",
       "      <td>...</td>\n",
       "      <td>0.937156</td>\n",
       "      <td>1.043794</td>\n",
       "      <td>1.631345</td>\n",
       "      <td>1.279100</td>\n",
       "      <td>1.898220</td>\n",
       "      <td>2.458204</td>\n",
       "      <td>2.798513</td>\n",
       "      <td>2.890372</td>\n",
       "      <td>NaN</td>\n",
       "      <td>53.385857</td>\n",
       "    </tr>\n",
       "    <tr>\n",
       "      <th>1</th>\n",
       "      <td>1.0</td>\n",
       "      <td>0.0</td>\n",
       "      <td>0.0</td>\n",
       "      <td>0.0</td>\n",
       "      <td>1196.845</td>\n",
       "      <td>60363.754601</td>\n",
       "      <td>1.768826</td>\n",
       "      <td>-0.150478</td>\n",
       "      <td>-0.048023</td>\n",
       "      <td>51.6575</td>\n",
       "      <td>...</td>\n",
       "      <td>0.687092</td>\n",
       "      <td>0.793730</td>\n",
       "      <td>1.517152</td>\n",
       "      <td>1.225239</td>\n",
       "      <td>1.674409</td>\n",
       "      <td>2.055845</td>\n",
       "      <td>2.360736</td>\n",
       "      <td>2.630253</td>\n",
       "      <td>NaN</td>\n",
       "      <td>55.839714</td>\n",
       "    </tr>\n",
       "  </tbody>\n",
       "</table>\n",
       "<p>2 rows × 783 columns</p>\n",
       "</div>"
      ],
      "text/plain": [
       "   var_0__variance_larger_than_standard_deviation  var_0__has_duplicate_max  \\\n",
       "0                                             1.0                       0.0   \n",
       "1                                             1.0                       0.0   \n",
       "\n",
       "   var_0__has_duplicate_min  var_0__has_duplicate  var_0__sum_values  \\\n",
       "0                       0.0                   0.0           1147.970   \n",
       "1                       0.0                   0.0           1196.845   \n",
       "\n",
       "   var_0__abs_energy  var_0__mean_abs_change  var_0__mean_change  \\\n",
       "0       55546.291492                1.706478            0.143348   \n",
       "1       60363.754601                1.768826           -0.150478   \n",
       "\n",
       "   var_0__mean_second_derivative_central  var_0__median  ...  \\\n",
       "0                              -0.034932        49.0810  ...   \n",
       "1                              -0.048023        51.6575  ...   \n",
       "\n",
       "   var_0__fourier_entropy__bins_5  var_0__fourier_entropy__bins_10  \\\n",
       "0                        0.937156                         1.043794   \n",
       "1                        0.687092                         0.793730   \n",
       "\n",
       "   var_0__fourier_entropy__bins_100  \\\n",
       "0                          1.631345   \n",
       "1                          1.517152   \n",
       "\n",
       "   var_0__permutation_entropy__dimension_3__tau_1  \\\n",
       "0                                        1.279100   \n",
       "1                                        1.225239   \n",
       "\n",
       "   var_0__permutation_entropy__dimension_4__tau_1  \\\n",
       "0                                        1.898220   \n",
       "1                                        1.674409   \n",
       "\n",
       "   var_0__permutation_entropy__dimension_5__tau_1  \\\n",
       "0                                        2.458204   \n",
       "1                                        2.055845   \n",
       "\n",
       "   var_0__permutation_entropy__dimension_6__tau_1  \\\n",
       "0                                        2.798513   \n",
       "1                                        2.360736   \n",
       "\n",
       "   var_0__permutation_entropy__dimension_7__tau_1  \\\n",
       "0                                        2.890372   \n",
       "1                                        2.630253   \n",
       "\n",
       "   var_0__query_similarity_count__query_None__threshold_0.0  \\\n",
       "0                                                NaN          \n",
       "1                                                NaN          \n",
       "\n",
       "   var_0__mean_n_absolute_max__number_of_maxima_7  \n",
       "0                                       53.385857  \n",
       "1                                       55.839714  \n",
       "\n",
       "[2 rows x 783 columns]"
      ]
     },
     "execution_count": 45,
     "metadata": {},
     "output_type": "execute_result"
    }
   ],
   "source": [
    "Xt_train = extract_features(\n",
    "            from_nested_to_long(df_train),\n",
    "            column_id=\"index\",\n",
    "            column_value=\"value\",\n",
    "            column_kind=\"column\",\n",
    "            column_sort=\"time_index\", )\n",
    "Xt_train.head(2)"
   ]
  },
  {
   "cell_type": "code",
   "execution_count": 46,
   "metadata": {
    "scrolled": true
   },
   "outputs": [
    {
     "name": "stderr",
     "output_type": "stream",
     "text": [
      "Feature Extraction: 100%|██████████████████████████████████████████████████████████████| 10/10 [00:25<00:00,  2.55s/it]\n"
     ]
    },
    {
     "data": {
      "text/html": [
       "<div>\n",
       "<style scoped>\n",
       "    .dataframe tbody tr th:only-of-type {\n",
       "        vertical-align: middle;\n",
       "    }\n",
       "\n",
       "    .dataframe tbody tr th {\n",
       "        vertical-align: top;\n",
       "    }\n",
       "\n",
       "    .dataframe thead th {\n",
       "        text-align: right;\n",
       "    }\n",
       "</style>\n",
       "<table border=\"1\" class=\"dataframe\">\n",
       "  <thead>\n",
       "    <tr style=\"text-align: right;\">\n",
       "      <th></th>\n",
       "      <th>var_0__variance_larger_than_standard_deviation</th>\n",
       "      <th>var_0__has_duplicate_max</th>\n",
       "      <th>var_0__has_duplicate_min</th>\n",
       "      <th>var_0__has_duplicate</th>\n",
       "      <th>var_0__sum_values</th>\n",
       "      <th>var_0__abs_energy</th>\n",
       "      <th>var_0__mean_abs_change</th>\n",
       "      <th>var_0__mean_change</th>\n",
       "      <th>var_0__mean_second_derivative_central</th>\n",
       "      <th>var_0__median</th>\n",
       "      <th>...</th>\n",
       "      <th>var_0__fourier_entropy__bins_5</th>\n",
       "      <th>var_0__fourier_entropy__bins_10</th>\n",
       "      <th>var_0__fourier_entropy__bins_100</th>\n",
       "      <th>var_0__permutation_entropy__dimension_3__tau_1</th>\n",
       "      <th>var_0__permutation_entropy__dimension_4__tau_1</th>\n",
       "      <th>var_0__permutation_entropy__dimension_5__tau_1</th>\n",
       "      <th>var_0__permutation_entropy__dimension_6__tau_1</th>\n",
       "      <th>var_0__permutation_entropy__dimension_7__tau_1</th>\n",
       "      <th>var_0__query_similarity_count__query_None__threshold_0.0</th>\n",
       "      <th>var_0__mean_n_absolute_max__number_of_maxima_7</th>\n",
       "    </tr>\n",
       "  </thead>\n",
       "  <tbody>\n",
       "    <tr>\n",
       "      <th>0</th>\n",
       "      <td>1.0</td>\n",
       "      <td>0.0</td>\n",
       "      <td>0.0</td>\n",
       "      <td>0.0</td>\n",
       "      <td>1477.696</td>\n",
       "      <td>92362.073364</td>\n",
       "      <td>2.077826</td>\n",
       "      <td>0.024783</td>\n",
       "      <td>-0.073591</td>\n",
       "      <td>65.723</td>\n",
       "      <td>...</td>\n",
       "      <td>0.535961</td>\n",
       "      <td>0.535961</td>\n",
       "      <td>1.285293</td>\n",
       "      <td>1.360200</td>\n",
       "      <td>1.908871</td>\n",
       "      <td>2.359266</td>\n",
       "      <td>2.625048</td>\n",
       "      <td>2.813355</td>\n",
       "      <td>NaN</td>\n",
       "      <td>68.742857</td>\n",
       "    </tr>\n",
       "    <tr>\n",
       "      <th>1</th>\n",
       "      <td>1.0</td>\n",
       "      <td>0.0</td>\n",
       "      <td>0.0</td>\n",
       "      <td>1.0</td>\n",
       "      <td>1034.632</td>\n",
       "      <td>45115.251980</td>\n",
       "      <td>1.206522</td>\n",
       "      <td>0.167826</td>\n",
       "      <td>0.053455</td>\n",
       "      <td>45.234</td>\n",
       "      <td>...</td>\n",
       "      <td>0.535961</td>\n",
       "      <td>0.793730</td>\n",
       "      <td>1.285293</td>\n",
       "      <td>1.209928</td>\n",
       "      <td>1.803141</td>\n",
       "      <td>2.359266</td>\n",
       "      <td>2.698011</td>\n",
       "      <td>2.890372</td>\n",
       "      <td>NaN</td>\n",
       "      <td>47.743143</td>\n",
       "    </tr>\n",
       "  </tbody>\n",
       "</table>\n",
       "<p>2 rows × 783 columns</p>\n",
       "</div>"
      ],
      "text/plain": [
       "   var_0__variance_larger_than_standard_deviation  var_0__has_duplicate_max  \\\n",
       "0                                             1.0                       0.0   \n",
       "1                                             1.0                       0.0   \n",
       "\n",
       "   var_0__has_duplicate_min  var_0__has_duplicate  var_0__sum_values  \\\n",
       "0                       0.0                   0.0           1477.696   \n",
       "1                       0.0                   1.0           1034.632   \n",
       "\n",
       "   var_0__abs_energy  var_0__mean_abs_change  var_0__mean_change  \\\n",
       "0       92362.073364                2.077826            0.024783   \n",
       "1       45115.251980                1.206522            0.167826   \n",
       "\n",
       "   var_0__mean_second_derivative_central  var_0__median  ...  \\\n",
       "0                              -0.073591         65.723  ...   \n",
       "1                               0.053455         45.234  ...   \n",
       "\n",
       "   var_0__fourier_entropy__bins_5  var_0__fourier_entropy__bins_10  \\\n",
       "0                        0.535961                         0.535961   \n",
       "1                        0.535961                         0.793730   \n",
       "\n",
       "   var_0__fourier_entropy__bins_100  \\\n",
       "0                          1.285293   \n",
       "1                          1.285293   \n",
       "\n",
       "   var_0__permutation_entropy__dimension_3__tau_1  \\\n",
       "0                                        1.360200   \n",
       "1                                        1.209928   \n",
       "\n",
       "   var_0__permutation_entropy__dimension_4__tau_1  \\\n",
       "0                                        1.908871   \n",
       "1                                        1.803141   \n",
       "\n",
       "   var_0__permutation_entropy__dimension_5__tau_1  \\\n",
       "0                                        2.359266   \n",
       "1                                        2.359266   \n",
       "\n",
       "   var_0__permutation_entropy__dimension_6__tau_1  \\\n",
       "0                                        2.625048   \n",
       "1                                        2.698011   \n",
       "\n",
       "   var_0__permutation_entropy__dimension_7__tau_1  \\\n",
       "0                                        2.813355   \n",
       "1                                        2.890372   \n",
       "\n",
       "   var_0__query_similarity_count__query_None__threshold_0.0  \\\n",
       "0                                                NaN          \n",
       "1                                                NaN          \n",
       "\n",
       "   var_0__mean_n_absolute_max__number_of_maxima_7  \n",
       "0                                       68.742857  \n",
       "1                                       47.743143  \n",
       "\n",
       "[2 rows x 783 columns]"
      ]
     },
     "execution_count": 46,
     "metadata": {},
     "output_type": "execute_result"
    }
   ],
   "source": [
    "Xt_test = extract_features(\n",
    "            from_nested_to_long(df_test),\n",
    "            column_id=\"index\",\n",
    "            column_value=\"value\",\n",
    "            column_kind=\"column\",\n",
    "            column_sort=\"time_index\", )\n",
    "Xt_test.head(2)"
   ]
  },
  {
   "cell_type": "markdown",
   "metadata": {},
   "source": [
    "И так мы выделили 789 признаков. Среди признаков есть значения достаточно разных порядков, а также отсутствующие значения.\n",
    "Проведем стандартизацию полученных признаков."
   ]
  },
  {
   "cell_type": "code",
   "execution_count": 47,
   "metadata": {},
   "outputs": [],
   "source": [
    "Xt_train = (Xt_train - Xt_train.min())/(Xt_train.max() - Xt_train.min()).astype(np.float32)\n",
    "Xt_test  = (Xt_test  - Xt_train.min())/(Xt_train.max() - Xt_train.min()).astype(np.float32)"
   ]
  },
  {
   "cell_type": "code",
   "execution_count": 48,
   "metadata": {
    "scrolled": true
   },
   "outputs": [],
   "source": [
    "Xt_train = Xt_train.dropna(axis=1)\n",
    "Xt_test  = Xt_test[Xt_train.columns]"
   ]
  },
  {
   "cell_type": "code",
   "execution_count": 49,
   "metadata": {
    "scrolled": true
   },
   "outputs": [
    {
     "data": {
      "text/plain": [
       "0.618348623853211"
      ]
     },
     "execution_count": 49,
     "metadata": {},
     "output_type": "execute_result"
    }
   ],
   "source": [
    "clf = RandomForestClassifier(n_estimators=100)\n",
    "clf.fit(Xt_train, y_train)\n",
    "clf.score(Xt_test, y_test)"
   ]
  },
  {
   "cell_type": "markdown",
   "metadata": {},
   "source": [
    "Отметим, что при необходимости в пакете `SKTime` можно найти и ряд не рассмотренных тут преобразований, техник выделения признаков и техник классификации временных рядов. "
   ]
  },
  {
   "cell_type": "code",
   "execution_count": null,
   "metadata": {},
   "outputs": [],
   "source": []
  }
 ],
 "metadata": {
  "kernelspec": {
   "display_name": "Python 3 (ipykernel)",
   "language": "python",
   "name": "python3"
  },
  "language_info": {
   "codemirror_mode": {
    "name": "ipython",
    "version": 3
   },
   "file_extension": ".py",
   "mimetype": "text/x-python",
   "name": "python",
   "nbconvert_exporter": "python",
   "pygments_lexer": "ipython3",
   "version": "3.11.5"
  },
  "toc": {
   "base_numbering": 1,
   "nav_menu": {},
   "number_sections": true,
   "sideBar": true,
   "skip_h1_title": false,
   "title_cell": "Table of Contents",
   "title_sidebar": "Contents",
   "toc_cell": false,
   "toc_position": {
    "height": "calc(100% - 180px)",
    "left": "10px",
    "top": "150px",
    "width": "192.102px"
   },
   "toc_section_display": true,
   "toc_window_display": false
  }
 },
 "nbformat": 4,
 "nbformat_minor": 4
}
