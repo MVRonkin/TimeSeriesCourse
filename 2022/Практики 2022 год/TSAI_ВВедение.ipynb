{
 "cells": [
  {
   "cell_type": "markdown",
   "metadata": {
    "id": "jb0gZGLUM3o0"
   },
   "source": [
    "# Знакомство с TSAI"
   ]
  },
  {
   "cell_type": "markdown",
   "metadata": {},
   "source": [
    "Одним из наиболее современных пакетов работы с временными рядами при помощи глубокого обучения нейронных сетей является пакет [**`TSAI`**](https://github.com/timeseriesAI/tsai), официальная документация по данному пакету может быть найдена [тут](https://timeseriesai.github.io/tsai/). \n",
    "\n",
    "Пакет `tsai` — это пакет глубокого обучения с открытым исходным кодом, созданный на основе фреймворков `Pytorch` и `fastai`, ориентированный на современные методы для задач временных рядов, таких как классификация, регрессия, прогнозирование, вменение.\n",
    "\n",
    "Для установки пакета разработчиками рекомендуется следующий скрипт:\n",
    "```python\n",
    "stable = True # Set to True for latest pip version or False for main branch in GitHub\n",
    "!pip install {\"tsai -U\" if stable else \"git+https://github.com/timeseriesAI/tsai.git\"} >> /dev/null\n",
    "```\n",
    "Теперь рассмотрим импорт пакета."
   ]
  },
  {
   "cell_type": "code",
   "execution_count": 1,
   "metadata": {},
   "outputs": [],
   "source": [
    "# stable = True # Set to True for latest pip version or False for main branch in GitHub\n",
    "# !pip install {\"tsai -U\" if stable else \"git+https://github.com/timeseriesAI/tsai.git\"} >> /dev/null\n"
   ]
  },
  {
   "cell_type": "code",
   "execution_count": 2,
   "metadata": {
    "id": "SKATsx6IM3o2",
    "outputId": "f8490da6-8f4e-434f-d5cd-c82d81733062"
   },
   "outputs": [
    {
     "name": "stdout",
     "output_type": "stream",
     "text": [
      "os             : macOS-10.16-x86_64-i386-64bit\n",
      "python         : 3.9.7\n",
      "tsai           : 0.3.1\n",
      "fastai         : 2.7.6\n",
      "fastcore       : 1.4.5\n",
      "torch          : 1.10.1\n",
      "device         : cpu\n",
      "cpu cores      : 8\n",
      "RAM            : 16.0 GB\n",
      "GPU memory     : N/A\n"
     ]
    }
   ],
   "source": [
    "from tsai.all import *\n",
    "import warnings\n",
    "\n",
    "computer_setup()"
   ]
  },
  {
   "cell_type": "code",
   "execution_count": 3,
   "metadata": {},
   "outputs": [],
   "source": [
    "from sklearn.model_selection import train_test_split"
   ]
  },
  {
   "cell_type": "code",
   "execution_count": 4,
   "metadata": {},
   "outputs": [],
   "source": [
    "import torch\n",
    "from torch import nn"
   ]
  },
  {
   "cell_type": "markdown",
   "metadata": {},
   "source": [
    "Теперь давайте выберем данные. Мы будем использовать тот же пример, что и для классификации в `SKTime` - набором данных [открытые данные энергетических систем](https://open-power-system-data.org/). "
   ]
  },
  {
   "cell_type": "code",
   "execution_count": 5,
   "metadata": {},
   "outputs": [],
   "source": [
    "def extract_country(df_all, country_code, year_min=None, year_max=None):\n",
    "    # List of columns to extract\n",
    "    columns = [col for col in df_all.columns if col.startswith(country_code)]\n",
    "    # Extract columns and remove country codes from column labels\n",
    "    columns_map = {col : col[3:] for col in columns}\n",
    "    df_out = df_all[columns].rename(columns=columns_map)\n",
    "    # Exclude years outside of specified range, if any\n",
    "    if year_min is not None:\n",
    "        df_out = df_out[df_out.index.year >= year_min]\n",
    "    if year_max is not None:\n",
    "        df_out = df_out[df_out.index.year <= year_max]\n",
    "    return df_out\n",
    "\n",
    "def transform_dataframe(df, cols_map):\n",
    "    # Rename columns for convenience\n",
    "    df = df[list(cols_map.keys())].rename(columns=cols_map)    \n",
    "    df = df / 1000 # Convert from MW to GW\n",
    "    df = df.rename_axis('Date')\n",
    "    return df\n",
    "\n",
    "def split_by_month(df, months):\n",
    "    df_ = pd.DataFrame()\n",
    "    for month in np.atleast_1d(months):\n",
    "        df_ = df_.append(df.loc[df.index.month == month])\n",
    "    return df_\n",
    "\n",
    "def to_segments(df, column, size = 24):  \n",
    "    df.index.hour[0]\n",
    "    start_idx = 24-df.index.hour[0]\n",
    "    df = df.iloc[start_idx:]\n",
    "    val = df[[column]].values\n",
    "    return val[:size*(val.size//size)].reshape(-1,size)"
   ]
  },
  {
   "cell_type": "code",
   "execution_count": 6,
   "metadata": {},
   "outputs": [
    {
     "data": {
      "text/html": [
       "<div>\n",
       "<style scoped>\n",
       "    .dataframe tbody tr th:only-of-type {\n",
       "        vertical-align: middle;\n",
       "    }\n",
       "\n",
       "    .dataframe tbody tr th {\n",
       "        vertical-align: top;\n",
       "    }\n",
       "\n",
       "    .dataframe thead th {\n",
       "        text-align: right;\n",
       "    }\n",
       "</style>\n",
       "<table border=\"1\" class=\"dataframe\">\n",
       "  <thead>\n",
       "    <tr style=\"text-align: right;\">\n",
       "      <th></th>\n",
       "      <th>Consumption</th>\n",
       "      <th>Wind</th>\n",
       "      <th>Solar</th>\n",
       "      <th>Wind+Solar</th>\n",
       "    </tr>\n",
       "    <tr>\n",
       "      <th>Date</th>\n",
       "      <th></th>\n",
       "      <th></th>\n",
       "      <th></th>\n",
       "      <th></th>\n",
       "    </tr>\n",
       "  </thead>\n",
       "  <tbody>\n",
       "    <tr>\n",
       "      <th>2015-01-01 07:00:00+00:00</th>\n",
       "      <td>41.133</td>\n",
       "      <td>10.208</td>\n",
       "      <td>0.071</td>\n",
       "      <td>10.279</td>\n",
       "    </tr>\n",
       "    <tr>\n",
       "      <th>2015-01-01 08:00:00+00:00</th>\n",
       "      <td>42.963</td>\n",
       "      <td>10.029</td>\n",
       "      <td>0.773</td>\n",
       "      <td>10.802</td>\n",
       "    </tr>\n",
       "    <tr>\n",
       "      <th>2015-01-01 09:00:00+00:00</th>\n",
       "      <td>45.088</td>\n",
       "      <td>10.550</td>\n",
       "      <td>2.117</td>\n",
       "      <td>12.667</td>\n",
       "    </tr>\n",
       "    <tr>\n",
       "      <th>2015-01-01 10:00:00+00:00</th>\n",
       "      <td>47.013</td>\n",
       "      <td>11.390</td>\n",
       "      <td>3.364</td>\n",
       "      <td>14.754</td>\n",
       "    </tr>\n",
       "    <tr>\n",
       "      <th>2015-01-01 11:00:00+00:00</th>\n",
       "      <td>48.159</td>\n",
       "      <td>12.103</td>\n",
       "      <td>4.198</td>\n",
       "      <td>16.301</td>\n",
       "    </tr>\n",
       "  </tbody>\n",
       "</table>\n",
       "</div>"
      ],
      "text/plain": [
       "                           Consumption    Wind  Solar  Wind+Solar\n",
       "Date                                                             \n",
       "2015-01-01 07:00:00+00:00       41.133  10.208  0.071      10.279\n",
       "2015-01-01 08:00:00+00:00       42.963  10.029  0.773      10.802\n",
       "2015-01-01 09:00:00+00:00       45.088  10.550  2.117      12.667\n",
       "2015-01-01 10:00:00+00:00       47.013  11.390  3.364      14.754\n",
       "2015-01-01 11:00:00+00:00       48.159  12.103  4.198      16.301"
      ]
     },
     "execution_count": 6,
     "metadata": {},
     "output_type": "execute_result"
    }
   ],
   "source": [
    "url = 'https://data.open-power-system-data.org/time_series/2020-10-06/'\n",
    "datafile = url + 'time_series_60min_singleindex.csv'\n",
    "df_all = pd.read_csv(datafile, index_col='utc_timestamp', parse_dates=True, low_memory=False)\n",
    "\n",
    "df_hrly = extract_country(df_all, country_code='DE', year_min=2015, year_max=2019)\n",
    "\n",
    "df_hrly.sample(3)\n",
    "\n",
    "cols_map = {'load_actual_entsoe_transparency' : 'Consumption',\n",
    "            'wind_generation_actual' : 'Wind',\n",
    "            'solar_generation_actual' : 'Solar'}\n",
    "df = transform_dataframe(df_hrly, cols_map).dropna()\n",
    "\n",
    "# df wind + solar generation\n",
    "df['Wind+Solar'] = df[['Wind', 'Solar']].sum(axis=1, skipna=False)\n",
    "df.to_csv('de_clf_data.csv')\n",
    "df.head()"
   ]
  },
  {
   "cell_type": "code",
   "execution_count": 7,
   "metadata": {},
   "outputs": [
    {
     "name": "stdout",
     "output_type": "stream",
     "text": [
      "(448, 24) (458, 24) (452, 24) (458, 24)\n"
     ]
    },
    {
     "data": {
      "text/plain": [
       "array([1, 1, 1, ..., 4, 4, 4])"
      ]
     },
     "execution_count": 7,
     "metadata": {},
     "output_type": "execute_result"
    }
   ],
   "source": [
    "winter = to_segments(split_by_month(df, [1,2, 12]), 'Consumption', size = 24)\n",
    "summer = to_segments(split_by_month(df, [6, 7, 8]), 'Consumption', size = 24)\n",
    "autumn = to_segments(split_by_month(df, [9,10,11]), 'Consumption', size = 24)\n",
    "spring = to_segments(split_by_month(df, [3, 4, 5]), 'Consumption', size = 24)\n",
    "print(winter.shape, summer.shape, autumn.shape, spring.shape)\n",
    "\n",
    "X = np.concatenate((\n",
    "                    winter, \n",
    "                    summer, \n",
    "                    autumn, \n",
    "                    spring))\n",
    "y = np.concatenate((\n",
    "                    1*np.ones(winter.shape[0]),\n",
    "                    2*np.ones(summer.shape[0]),\n",
    "                    3*np.ones(autumn.shape[0]),\n",
    "                    4*np.ones(spring.shape[0])\n",
    "                   ))\n",
    "\n",
    "\n",
    "X = np.atleast_3d(X).transpose(0,2,1)\n",
    "y.astype(int)"
   ]
  },
  {
   "cell_type": "markdown",
   "metadata": {},
   "source": [
    "Также давайте сопоставим названия классов и их номера для большего удобства."
   ]
  },
  {
   "cell_type": "code",
   "execution_count": 8,
   "metadata": {},
   "outputs": [],
   "source": [
    "class_map = {\n",
    "    1:'winter',   \n",
    "    2:'summer',   \n",
    "    3:'autumn',   \n",
    "    4:'spring',   \n",
    "    }\n",
    "class_map\n",
    "\n",
    "labeler = ReLabeler(class_map)\n",
    "y = labeler(y) "
   ]
  },
  {
   "cell_type": "markdown",
   "metadata": {},
   "source": [
    "Особенностью данного фреймворка (как и его основы `fastai`) является использование супер высокоуровневых API. Это делает фреймворк `tsai` практически декларативным. Для проведения экспериментом нам потребуется лишь выбор модели и набора данных. Все обучение будет происходить в `backend`.\n",
    "\n",
    "Для работы с наборами данных давайте создадим их разделение на тренировочную, валидационную и тестовую подвыборки. Для этого воспользуемся функцией `get_splits`. В рамках урока мы задаем аргумент `show_plot` чтобы визуализировать разделение данных."
   ]
  },
  {
   "cell_type": "code",
   "execution_count": 9,
   "metadata": {
    "scrolled": true
   },
   "outputs": [
    {
     "data": {
      "image/png": "[encoded data removed]",
      "text/plain": [
       "<Figure size 1152x36 with 1 Axes>"
      ]
     },
     "metadata": {
      "needs_background": "light"
     },
     "output_type": "display_data"
    },
    {
     "data": {
      "text/plain": [
       "((#1091) [1274,358,488,1233,469,725,151,1202,1173,894...],\n",
       " (#544) [1783,1159,952,1712,203,45,563,1071,1640,868...],\n",
       " (#181) [690,310,767,645,80,673,451,597,927,1404...])"
      ]
     },
     "execution_count": 9,
     "metadata": {},
     "output_type": "execute_result"
    }
   ],
   "source": [
    "splits = get_splits(y, \n",
    "                    n_splits=1, \n",
    "                    valid_size=0.3, \n",
    "                    test_size=0.1, \n",
    "                    shuffle=True, \n",
    "                    balance=False, \n",
    "                    stratify=True,\n",
    "                    random_state=42, \n",
    "                    show_plot=True, \n",
    "                    verbose=True)\n",
    "splits\n",
    "\n"
   ]
  },
  {
   "cell_type": "markdown",
   "metadata": {},
   "source": [
    "Для начала давайте создадим набор данных. Такой набор будет экземпляром класса `TSDatasets`. В наборе данных зададим разделение данных и необходимые преобразования `tfms`.\n",
    "\n",
    "Также сконфигурируем загрузчик батчей `TSDataLoaders`. Загрузим тренировочный и валидационный наборы данных."
   ]
  },
  {
   "cell_type": "code",
   "execution_count": 11,
   "metadata": {
    "scrolled": true
   },
   "outputs": [],
   "source": [
    "tfms  = [None, [Categorize()]]\n",
    "dsets = TSDatasets(X, y, tfms=tfms, splits=splits)\n",
    " \n",
    "bs = 256\n",
    "dls   = TSDataLoaders.from_dsets(dsets.train, dsets.valid, bs=[bs, bs*2])"
   ]
  },
  {
   "cell_type": "markdown",
   "metadata": {},
   "source": [
    "\n",
    "Среди анализируемых архитектур мы рассмотрим рекуррентные `RNN`, `LSTM` и `GRU` ячейки в двух вариантах обычном и плюс. Варианты несколько отличаются по архитектуре. Для обоих вариантов мы рассмотрим архитектуры с 3 и 4 слоями, как двунаправленные, так и нет.\n",
    "\n",
    "Кроме рекуррентных нейронных сетей мы также попробуем ряд стандартных сверточных архитектур, таких как `ResNet1d`, `xresnet1d`, `InceptionTime `, `XceptionTime` и `TCN`. Данные архитектуры представляют собой стандартные подходы к классификации временных рядов нейронными сетями. Последняя архитектура представляет собой использование идеи расширенной свертки. архитектуры `ResNet1d` и `xresnet1d` отличаются подходом к организации `skipconnection`. Архитектуры `InceptionTime ` и `XceptionTime` представляют собой адаптированные под временные ряды соответствующих сверточных сетей для изображений. Также, для сравнения, мы попробуем использовать смешанную архитектуру `LSTM_FCN`, полносвязную архитектуру FCN и архитектуру трансформер `TST`.\n",
    "\n",
    "Отметим, что почти все архитектуры в нашем примере мы вызываем \"из коробки\", подробней с реализациями данных архитектур можно ознакомится в рамках официальной документации. "
   ]
  },
  {
   "cell_type": "code",
   "execution_count": null,
   "metadata": {},
   "outputs": [],
   "source": [
    "archs = [\n",
    "         (RNNPlus, {'n_layers':3, 'bidirectional': True} ),\n",
    "         (LSTMPlus,{'n_layers':3, 'bidirectional': True} ),\n",
    "         (GRUPlus, {'n_layers':3, 'bidirectional': True} ),   \n",
    "         (RNNPlus, {'n_layers':4, 'bidirectional': True} ),\n",
    "         (RNNPlus, {'n_layers':4, 'bidirectional': False}),  \n",
    "         (LSTM,    {'n_layers':3, 'bidirectional': False}), \n",
    "         (RNN,     {'n_layers':3, 'bidirectional': True} ), \n",
    "         (LSTM,    {'n_layers':3, 'bidirectional': True} ),\n",
    "         (GRU,     {'n_layers':3, 'bidirectional': True} ),   \n",
    "         (ResNet, {}), \n",
    "         (xresnet1d34, {}), \n",
    "         (xresnet1d50_deeper, {}), \n",
    "         (InceptionTime, {}), \n",
    "         (XceptionTime,  {}), \n",
    "         (TCN, {}),   \n",
    "         (LSTM_FCN, {}), \n",
    "         (TST, {}),\n",
    "         (FCN, {}),   \n",
    "        ]"
   ]
  },
  {
   "cell_type": "markdown",
   "metadata": {},
   "source": [
    "Теперь попробуем запустить обучение. \n",
    "Для создания модели используем функцию `create_model`, которая для создает модель в формате совместимом с `PyTorch` для заданной архитектуры и набора гиперпараметров.\n",
    "\n",
    "В пакете `tsai` обучение проводится для объекта класса `Learner`. Таким образом этот класс описывает модель (обученную архитектуру). Мы приведем лишь самую простую конфигурацию этого класса. Конфигурация включает указание загрузчика данных, модели и метрики. В качестве метрики мы используем точность (`accuracy`). Для запуска обучения в классе `Learner` используется метод `fit_one_cycle`. Для этого метода в качестве параметров мы зададим число эпох обучения и скорость обучения. Остальные параметры оставим по умолчанию. Среди таких параметров будут функция потерь (кросс энтропия) и метод оптимизации `ADAM`. \n",
    "\n",
    "По результатам обучения каждой модели мы занесем в таблицу полученные результаты, в том числе точность для валидационного набора данных и время обучения."
   ]
  },
  {
   "cell_type": "code",
   "execution_count": 13,
   "metadata": {
    "scrolled": true
   },
   "outputs": [
    {
     "data": {
      "text/html": [
       "<div>\n",
       "<style scoped>\n",
       "    .dataframe tbody tr th:only-of-type {\n",
       "        vertical-align: middle;\n",
       "    }\n",
       "\n",
       "    .dataframe tbody tr th {\n",
       "        vertical-align: top;\n",
       "    }\n",
       "\n",
       "    .dataframe thead th {\n",
       "        text-align: right;\n",
       "    }\n",
       "</style>\n",
       "<table border=\"1\" class=\"dataframe\">\n",
       "  <thead>\n",
       "    <tr style=\"text-align: right;\">\n",
       "      <th></th>\n",
       "      <th>arch</th>\n",
       "      <th>hyperparams</th>\n",
       "      <th>total params</th>\n",
       "      <th>train loss</th>\n",
       "      <th>valid loss</th>\n",
       "      <th>accuracy</th>\n",
       "      <th>time</th>\n",
       "    </tr>\n",
       "  </thead>\n",
       "  <tbody>\n",
       "    <tr>\n",
       "      <th>0</th>\n",
       "      <td>ResNet</td>\n",
       "      <td>{}</td>\n",
       "      <td>478724</td>\n",
       "      <td>0.274329</td>\n",
       "      <td>0.150533</td>\n",
       "      <td>0.950368</td>\n",
       "      <td>51</td>\n",
       "    </tr>\n",
       "    <tr>\n",
       "      <th>1</th>\n",
       "      <td>xresnet1d34</td>\n",
       "      <td>{}</td>\n",
       "      <td>7229284</td>\n",
       "      <td>0.190927</td>\n",
       "      <td>0.140133</td>\n",
       "      <td>0.944853</td>\n",
       "      <td>167</td>\n",
       "    </tr>\n",
       "    <tr>\n",
       "      <th>2</th>\n",
       "      <td>InceptionTime</td>\n",
       "      <td>{}</td>\n",
       "      <td>388868</td>\n",
       "      <td>0.346624</td>\n",
       "      <td>0.215873</td>\n",
       "      <td>0.935662</td>\n",
       "      <td>59</td>\n",
       "    </tr>\n",
       "    <tr>\n",
       "      <th>3</th>\n",
       "      <td>xresnet1d50_deeper</td>\n",
       "      <td>{}</td>\n",
       "      <td>21224548</td>\n",
       "      <td>0.088833</td>\n",
       "      <td>0.177874</td>\n",
       "      <td>0.933824</td>\n",
       "      <td>504</td>\n",
       "    </tr>\n",
       "    <tr>\n",
       "      <th>4</th>\n",
       "      <td>XceptionTime</td>\n",
       "      <td>{}</td>\n",
       "      <td>399480</td>\n",
       "      <td>0.733458</td>\n",
       "      <td>0.646525</td>\n",
       "      <td>0.884191</td>\n",
       "      <td>84</td>\n",
       "    </tr>\n",
       "    <tr>\n",
       "      <th>5</th>\n",
       "      <td>FCN</td>\n",
       "      <td>{}</td>\n",
       "      <td>264580</td>\n",
       "      <td>0.649004</td>\n",
       "      <td>0.461543</td>\n",
       "      <td>0.882353</td>\n",
       "      <td>27</td>\n",
       "    </tr>\n",
       "    <tr>\n",
       "      <th>6</th>\n",
       "      <td>LSTM_FCN</td>\n",
       "      <td>{}</td>\n",
       "      <td>315380</td>\n",
       "      <td>0.689247</td>\n",
       "      <td>0.501032</td>\n",
       "      <td>0.860294</td>\n",
       "      <td>28</td>\n",
       "    </tr>\n",
       "    <tr>\n",
       "      <th>7</th>\n",
       "      <td>TST</td>\n",
       "      <td>{}</td>\n",
       "      <td>411524</td>\n",
       "      <td>0.606807</td>\n",
       "      <td>0.403082</td>\n",
       "      <td>0.851103</td>\n",
       "      <td>46</td>\n",
       "    </tr>\n",
       "    <tr>\n",
       "      <th>8</th>\n",
       "      <td>RNNPlus</td>\n",
       "      <td>{'n_layers': 4, 'bidirectional': False}</td>\n",
       "      <td>71304</td>\n",
       "      <td>0.742599</td>\n",
       "      <td>0.487392</td>\n",
       "      <td>0.843750</td>\n",
       "      <td>9</td>\n",
       "    </tr>\n",
       "    <tr>\n",
       "      <th>9</th>\n",
       "      <td>RNNPlus</td>\n",
       "      <td>{'n_layers': 4, 'bidirectional': True}</td>\n",
       "      <td>202604</td>\n",
       "      <td>0.778616</td>\n",
       "      <td>0.486860</td>\n",
       "      <td>0.832721</td>\n",
       "      <td>23</td>\n",
       "    </tr>\n",
       "    <tr>\n",
       "      <th>10</th>\n",
       "      <td>RNNPlus</td>\n",
       "      <td>{'n_layers': 3, 'bidirectional': True}</td>\n",
       "      <td>142204</td>\n",
       "      <td>0.872183</td>\n",
       "      <td>0.574976</td>\n",
       "      <td>0.830882</td>\n",
       "      <td>16</td>\n",
       "    </tr>\n",
       "    <tr>\n",
       "      <th>11</th>\n",
       "      <td>RNN</td>\n",
       "      <td>{'n_layers': 3, 'bidirectional': True}</td>\n",
       "      <td>142204</td>\n",
       "      <td>0.966967</td>\n",
       "      <td>0.683257</td>\n",
       "      <td>0.729779</td>\n",
       "      <td>16</td>\n",
       "    </tr>\n",
       "    <tr>\n",
       "      <th>12</th>\n",
       "      <td>GRU</td>\n",
       "      <td>{'n_layers': 3, 'bidirectional': True}</td>\n",
       "      <td>425004</td>\n",
       "      <td>1.074505</td>\n",
       "      <td>0.892749</td>\n",
       "      <td>0.632353</td>\n",
       "      <td>51</td>\n",
       "    </tr>\n",
       "    <tr>\n",
       "      <th>13</th>\n",
       "      <td>GRUPlus</td>\n",
       "      <td>{'n_layers': 3, 'bidirectional': True}</td>\n",
       "      <td>425004</td>\n",
       "      <td>1.077155</td>\n",
       "      <td>0.905379</td>\n",
       "      <td>0.626838</td>\n",
       "      <td>51</td>\n",
       "    </tr>\n",
       "    <tr>\n",
       "      <th>14</th>\n",
       "      <td>LSTMPlus</td>\n",
       "      <td>{'n_layers': 3, 'bidirectional': True}</td>\n",
       "      <td>566404</td>\n",
       "      <td>1.046785</td>\n",
       "      <td>0.869984</td>\n",
       "      <td>0.608456</td>\n",
       "      <td>68</td>\n",
       "    </tr>\n",
       "    <tr>\n",
       "      <th>15</th>\n",
       "      <td>LSTM</td>\n",
       "      <td>{'n_layers': 3, 'bidirectional': True}</td>\n",
       "      <td>566404</td>\n",
       "      <td>1.052777</td>\n",
       "      <td>0.883423</td>\n",
       "      <td>0.606618</td>\n",
       "      <td>66</td>\n",
       "    </tr>\n",
       "    <tr>\n",
       "      <th>16</th>\n",
       "      <td>LSTM</td>\n",
       "      <td>{'n_layers': 3, 'bidirectional': False}</td>\n",
       "      <td>203204</td>\n",
       "      <td>1.129518</td>\n",
       "      <td>0.982424</td>\n",
       "      <td>0.555147</td>\n",
       "      <td>27</td>\n",
       "    </tr>\n",
       "    <tr>\n",
       "      <th>17</th>\n",
       "      <td>TCN</td>\n",
       "      <td>{}</td>\n",
       "      <td>66754</td>\n",
       "      <td>1.295903</td>\n",
       "      <td>1.211236</td>\n",
       "      <td>0.547794</td>\n",
       "      <td>94</td>\n",
       "    </tr>\n",
       "  </tbody>\n",
       "</table>\n",
       "</div>"
      ],
      "text/plain": [
       "                  arch                              hyperparams total params  \\\n",
       "0               ResNet                                       {}       478724   \n",
       "1          xresnet1d34                                       {}      7229284   \n",
       "2        InceptionTime                                       {}       388868   \n",
       "3   xresnet1d50_deeper                                       {}     21224548   \n",
       "4         XceptionTime                                       {}       399480   \n",
       "5                  FCN                                       {}       264580   \n",
       "6             LSTM_FCN                                       {}       315380   \n",
       "7                  TST                                       {}       411524   \n",
       "8              RNNPlus  {'n_layers': 4, 'bidirectional': False}        71304   \n",
       "9              RNNPlus   {'n_layers': 4, 'bidirectional': True}       202604   \n",
       "10             RNNPlus   {'n_layers': 3, 'bidirectional': True}       142204   \n",
       "11                 RNN   {'n_layers': 3, 'bidirectional': True}       142204   \n",
       "12                 GRU   {'n_layers': 3, 'bidirectional': True}       425004   \n",
       "13             GRUPlus   {'n_layers': 3, 'bidirectional': True}       425004   \n",
       "14            LSTMPlus   {'n_layers': 3, 'bidirectional': True}       566404   \n",
       "15                LSTM   {'n_layers': 3, 'bidirectional': True}       566404   \n",
       "16                LSTM  {'n_layers': 3, 'bidirectional': False}       203204   \n",
       "17                 TCN                                       {}        66754   \n",
       "\n",
       "    train loss  valid loss  accuracy time  \n",
       "0     0.274329    0.150533  0.950368   51  \n",
       "1     0.190927    0.140133  0.944853  167  \n",
       "2     0.346624    0.215873  0.935662   59  \n",
       "3     0.088833    0.177874  0.933824  504  \n",
       "4     0.733458    0.646525  0.884191   84  \n",
       "5     0.649004    0.461543  0.882353   27  \n",
       "6     0.689247    0.501032  0.860294   28  \n",
       "7     0.606807    0.403082  0.851103   46  \n",
       "8     0.742599    0.487392  0.843750    9  \n",
       "9     0.778616    0.486860  0.832721   23  \n",
       "10    0.872183    0.574976  0.830882   16  \n",
       "11    0.966967    0.683257  0.729779   16  \n",
       "12    1.074505    0.892749  0.632353   51  \n",
       "13    1.077155    0.905379  0.626838   51  \n",
       "14    1.046785    0.869984  0.608456   68  \n",
       "15    1.052777    0.883423  0.606618   66  \n",
       "16    1.129518    0.982424  0.555147   27  \n",
       "17    1.295903    1.211236  0.547794   94  "
      ]
     },
     "metadata": {},
     "output_type": "display_data"
    }
   ],
   "source": [
    "from IPython.display import clear_output\n",
    "\n",
    "\n",
    "\n",
    "results = pd.DataFrame(columns=['arch', 'hyperparams', 'total params', 'train loss', 'valid loss', 'accuracy', 'time'])\n",
    "\n",
    "for i, (arch, k) in enumerate(archs):\n",
    "   \n",
    "    model = create_model(arch, dls=dls, **k)\n",
    "    \n",
    "    print(model.__class__.__name__)\n",
    "    \n",
    "    learn = Learner(dls, model,  metrics=accuracy)\n",
    "    start = time.time()\n",
    "    learn.fit_one_cycle(20, 1e-3)\n",
    "    elapsed = time.time() - start\n",
    "    vals = learn.recorder.values[-1]\n",
    "    results.loc[i] = [arch.__name__, k, count_parameters(model), vals[0], vals[1], vals[2], int(elapsed)]\n",
    "    results.sort_values(by='accuracy', ascending=False, ignore_index=True, inplace=True)\n",
    "    clear_output()\n",
    "    display(results)"
   ]
  },
  {
   "cell_type": "markdown",
   "metadata": {},
   "source": [
    "Среди полученных результатов хотелось бы выделить `RNNPlus`. Эта архитектура дала результат, оптимальный по соотношению точности и времени работы. Давайте рассмотрим эту архитектуру подробней"
   ]
  },
  {
   "cell_type": "code",
   "execution_count": 14,
   "metadata": {},
   "outputs": [],
   "source": [
    "arch = RNNPlus\n",
    "k = {'n_layers': 4, 'bidirectional': True}\n",
    "model = create_model(arch, dls=dls, **k)"
   ]
  },
  {
   "cell_type": "code",
   "execution_count": 15,
   "metadata": {},
   "outputs": [],
   "source": [
    "model = build_ts_model(RNNPlus, arch_config=k, dls=dls)"
   ]
  },
  {
   "cell_type": "markdown",
   "metadata": {},
   "source": [
    "Фреймворк `tsai` предлагает метод определения оптимальной скорости обучения на основе тестов нескольких эпох обучения. Попробуем определить лучшую скорость обучения."
   ]
  },
  {
   "cell_type": "code",
   "execution_count": 17,
   "metadata": {},
   "outputs": [
    {
     "data": {
      "text/html": [
       "\n",
       "<style>\n",
       "    /* Turns off some styling */\n",
       "    progress {\n",
       "        /* gets rid of default border in Firefox and Opera. */\n",
       "        border: none;\n",
       "        /* Needs to be in here for Safari polyfill so background images work as expected. */\n",
       "        background-size: auto;\n",
       "    }\n",
       "    .progress-bar-interrupted, .progress-bar-interrupted::-webkit-progress-bar {\n",
       "        background: #F44336;\n",
       "    }\n",
       "</style>\n"
      ],
      "text/plain": [
       "<IPython.core.display.HTML object>"
      ]
     },
     "metadata": {},
     "output_type": "display_data"
    },
    {
     "data": {
      "text/html": [],
      "text/plain": [
       "<IPython.core.display.HTML object>"
      ]
     },
     "metadata": {},
     "output_type": "display_data"
    },
    {
     "data": {
      "text/plain": [
       "SuggestedLRs(valley=9.120108734350652e-05)"
      ]
     },
     "execution_count": 17,
     "metadata": {},
     "output_type": "execute_result"
    },
    {
     "data": {
      "image/png": "[encoded data removed]",
      "text/plain": [
       "<Figure size 432x288 with 1 Axes>"
      ]
     },
     "metadata": {
      "needs_background": "light"
     },
     "output_type": "display_data"
    }
   ],
   "source": [
    "learn = ts_learner(dls, arch=model, metrics=accuracy) \n",
    "learn.lr_find()"
   ]
  },
  {
   "cell_type": "markdown",
   "metadata": {},
   "source": [
    "Теперь снова запустим обучение. В этот раз мы запустим процедуру тренировки с коллбеком, позволяющим отслеживать значения функций потерь в режиме он-лайн."
   ]
  },
  {
   "cell_type": "code",
   "execution_count": 18,
   "metadata": {},
   "outputs": [
    {
     "data": {
      "text/html": [
       "\n",
       "<style>\n",
       "    /* Turns off some styling */\n",
       "    progress {\n",
       "        /* gets rid of default border in Firefox and Opera. */\n",
       "        border: none;\n",
       "        /* Needs to be in here for Safari polyfill so background images work as expected. */\n",
       "        background-size: auto;\n",
       "    }\n",
       "    .progress-bar-interrupted, .progress-bar-interrupted::-webkit-progress-bar {\n",
       "        background: #F44336;\n",
       "    }\n",
       "</style>\n"
      ],
      "text/plain": [
       "<IPython.core.display.HTML object>"
      ]
     },
     "metadata": {},
     "output_type": "display_data"
    },
    {
     "data": {
      "text/html": [
       "<table border=\"1\" class=\"dataframe\">\n",
       "  <thead>\n",
       "    <tr style=\"text-align: left;\">\n",
       "      <th>epoch</th>\n",
       "      <th>train_loss</th>\n",
       "      <th>valid_loss</th>\n",
       "      <th>accuracy</th>\n",
       "      <th>time</th>\n",
       "    </tr>\n",
       "  </thead>\n",
       "  <tbody>\n",
       "    <tr>\n",
       "      <td>0</td>\n",
       "      <td>1.404191</td>\n",
       "      <td>1.402828</td>\n",
       "      <td>0.246324</td>\n",
       "      <td>00:01</td>\n",
       "    </tr>\n",
       "    <tr>\n",
       "      <td>1</td>\n",
       "      <td>1.402019</td>\n",
       "      <td>1.399519</td>\n",
       "      <td>0.246324</td>\n",
       "      <td>00:01</td>\n",
       "    </tr>\n",
       "    <tr>\n",
       "      <td>2</td>\n",
       "      <td>1.400239</td>\n",
       "      <td>1.395692</td>\n",
       "      <td>0.246324</td>\n",
       "      <td>00:01</td>\n",
       "    </tr>\n",
       "    <tr>\n",
       "      <td>3</td>\n",
       "      <td>1.398350</td>\n",
       "      <td>1.391369</td>\n",
       "      <td>0.246324</td>\n",
       "      <td>00:01</td>\n",
       "    </tr>\n",
       "    <tr>\n",
       "      <td>4</td>\n",
       "      <td>1.396401</td>\n",
       "      <td>1.387003</td>\n",
       "      <td>0.246324</td>\n",
       "      <td>00:01</td>\n",
       "    </tr>\n",
       "    <tr>\n",
       "      <td>5</td>\n",
       "      <td>1.394182</td>\n",
       "      <td>1.383254</td>\n",
       "      <td>0.246324</td>\n",
       "      <td>00:01</td>\n",
       "    </tr>\n",
       "    <tr>\n",
       "      <td>6</td>\n",
       "      <td>1.392209</td>\n",
       "      <td>1.381167</td>\n",
       "      <td>0.248162</td>\n",
       "      <td>00:01</td>\n",
       "    </tr>\n",
       "    <tr>\n",
       "      <td>7</td>\n",
       "      <td>1.390508</td>\n",
       "      <td>1.380507</td>\n",
       "      <td>0.268382</td>\n",
       "      <td>00:01</td>\n",
       "    </tr>\n",
       "    <tr>\n",
       "      <td>8</td>\n",
       "      <td>1.389201</td>\n",
       "      <td>1.380258</td>\n",
       "      <td>0.255515</td>\n",
       "      <td>00:01</td>\n",
       "    </tr>\n",
       "    <tr>\n",
       "      <td>9</td>\n",
       "      <td>1.388026</td>\n",
       "      <td>1.378907</td>\n",
       "      <td>0.261029</td>\n",
       "      <td>00:01</td>\n",
       "    </tr>\n",
       "    <tr>\n",
       "      <td>10</td>\n",
       "      <td>1.386943</td>\n",
       "      <td>1.375960</td>\n",
       "      <td>0.290441</td>\n",
       "      <td>00:01</td>\n",
       "    </tr>\n",
       "    <tr>\n",
       "      <td>11</td>\n",
       "      <td>1.385804</td>\n",
       "      <td>1.373010</td>\n",
       "      <td>0.376838</td>\n",
       "      <td>00:01</td>\n",
       "    </tr>\n",
       "    <tr>\n",
       "      <td>12</td>\n",
       "      <td>1.384303</td>\n",
       "      <td>1.369965</td>\n",
       "      <td>0.376838</td>\n",
       "      <td>00:01</td>\n",
       "    </tr>\n",
       "    <tr>\n",
       "      <td>13</td>\n",
       "      <td>1.382752</td>\n",
       "      <td>1.366016</td>\n",
       "      <td>0.319853</td>\n",
       "      <td>00:01</td>\n",
       "    </tr>\n",
       "    <tr>\n",
       "      <td>14</td>\n",
       "      <td>1.381033</td>\n",
       "      <td>1.361200</td>\n",
       "      <td>0.308824</td>\n",
       "      <td>00:01</td>\n",
       "    </tr>\n",
       "    <tr>\n",
       "      <td>15</td>\n",
       "      <td>1.379016</td>\n",
       "      <td>1.354800</td>\n",
       "      <td>0.382353</td>\n",
       "      <td>00:01</td>\n",
       "    </tr>\n",
       "    <tr>\n",
       "      <td>16</td>\n",
       "      <td>1.376908</td>\n",
       "      <td>1.348572</td>\n",
       "      <td>0.369485</td>\n",
       "      <td>00:01</td>\n",
       "    </tr>\n",
       "    <tr>\n",
       "      <td>17</td>\n",
       "      <td>1.374148</td>\n",
       "      <td>1.339249</td>\n",
       "      <td>0.420956</td>\n",
       "      <td>00:01</td>\n",
       "    </tr>\n",
       "    <tr>\n",
       "      <td>18</td>\n",
       "      <td>1.370833</td>\n",
       "      <td>1.328175</td>\n",
       "      <td>0.428309</td>\n",
       "      <td>00:01</td>\n",
       "    </tr>\n",
       "    <tr>\n",
       "      <td>19</td>\n",
       "      <td>1.366719</td>\n",
       "      <td>1.314708</td>\n",
       "      <td>0.354779</td>\n",
       "      <td>00:01</td>\n",
       "    </tr>\n",
       "    <tr>\n",
       "      <td>20</td>\n",
       "      <td>1.362276</td>\n",
       "      <td>1.299048</td>\n",
       "      <td>0.431985</td>\n",
       "      <td>00:01</td>\n",
       "    </tr>\n",
       "    <tr>\n",
       "      <td>21</td>\n",
       "      <td>1.356662</td>\n",
       "      <td>1.281586</td>\n",
       "      <td>0.420956</td>\n",
       "      <td>00:01</td>\n",
       "    </tr>\n",
       "    <tr>\n",
       "      <td>22</td>\n",
       "      <td>1.350314</td>\n",
       "      <td>1.262549</td>\n",
       "      <td>0.389706</td>\n",
       "      <td>00:01</td>\n",
       "    </tr>\n",
       "    <tr>\n",
       "      <td>23</td>\n",
       "      <td>1.342815</td>\n",
       "      <td>1.239603</td>\n",
       "      <td>0.511029</td>\n",
       "      <td>00:01</td>\n",
       "    </tr>\n",
       "    <tr>\n",
       "      <td>24</td>\n",
       "      <td>1.333938</td>\n",
       "      <td>1.214609</td>\n",
       "      <td>0.533088</td>\n",
       "      <td>00:01</td>\n",
       "    </tr>\n",
       "    <tr>\n",
       "      <td>25</td>\n",
       "      <td>1.323765</td>\n",
       "      <td>1.189244</td>\n",
       "      <td>0.566176</td>\n",
       "      <td>00:01</td>\n",
       "    </tr>\n",
       "    <tr>\n",
       "      <td>26</td>\n",
       "      <td>1.311721</td>\n",
       "      <td>1.146885</td>\n",
       "      <td>0.602941</td>\n",
       "      <td>00:01</td>\n",
       "    </tr>\n",
       "    <tr>\n",
       "      <td>27</td>\n",
       "      <td>1.297976</td>\n",
       "      <td>1.104399</td>\n",
       "      <td>0.650735</td>\n",
       "      <td>00:01</td>\n",
       "    </tr>\n",
       "    <tr>\n",
       "      <td>28</td>\n",
       "      <td>1.281378</td>\n",
       "      <td>1.058790</td>\n",
       "      <td>0.696691</td>\n",
       "      <td>00:01</td>\n",
       "    </tr>\n",
       "    <tr>\n",
       "      <td>29</td>\n",
       "      <td>1.261487</td>\n",
       "      <td>1.004441</td>\n",
       "      <td>0.659926</td>\n",
       "      <td>00:01</td>\n",
       "    </tr>\n",
       "    <tr>\n",
       "      <td>30</td>\n",
       "      <td>1.238777</td>\n",
       "      <td>0.941796</td>\n",
       "      <td>0.702206</td>\n",
       "      <td>00:01</td>\n",
       "    </tr>\n",
       "    <tr>\n",
       "      <td>31</td>\n",
       "      <td>1.213670</td>\n",
       "      <td>0.892903</td>\n",
       "      <td>0.680147</td>\n",
       "      <td>00:01</td>\n",
       "    </tr>\n",
       "    <tr>\n",
       "      <td>32</td>\n",
       "      <td>1.185773</td>\n",
       "      <td>0.841944</td>\n",
       "      <td>0.711397</td>\n",
       "      <td>00:01</td>\n",
       "    </tr>\n",
       "    <tr>\n",
       "      <td>33</td>\n",
       "      <td>1.157778</td>\n",
       "      <td>0.802801</td>\n",
       "      <td>0.715074</td>\n",
       "      <td>00:01</td>\n",
       "    </tr>\n",
       "    <tr>\n",
       "      <td>34</td>\n",
       "      <td>1.129277</td>\n",
       "      <td>0.765245</td>\n",
       "      <td>0.757353</td>\n",
       "      <td>00:01</td>\n",
       "    </tr>\n",
       "    <tr>\n",
       "      <td>35</td>\n",
       "      <td>1.100325</td>\n",
       "      <td>0.733952</td>\n",
       "      <td>0.779412</td>\n",
       "      <td>00:01</td>\n",
       "    </tr>\n",
       "    <tr>\n",
       "      <td>36</td>\n",
       "      <td>1.071232</td>\n",
       "      <td>0.707856</td>\n",
       "      <td>0.788603</td>\n",
       "      <td>00:01</td>\n",
       "    </tr>\n",
       "    <tr>\n",
       "      <td>37</td>\n",
       "      <td>1.043081</td>\n",
       "      <td>0.679839</td>\n",
       "      <td>0.797794</td>\n",
       "      <td>00:01</td>\n",
       "    </tr>\n",
       "    <tr>\n",
       "      <td>38</td>\n",
       "      <td>1.015609</td>\n",
       "      <td>0.661283</td>\n",
       "      <td>0.812500</td>\n",
       "      <td>00:01</td>\n",
       "    </tr>\n",
       "    <tr>\n",
       "      <td>39</td>\n",
       "      <td>0.987585</td>\n",
       "      <td>0.637000</td>\n",
       "      <td>0.801471</td>\n",
       "      <td>00:01</td>\n",
       "    </tr>\n",
       "    <tr>\n",
       "      <td>40</td>\n",
       "      <td>0.961368</td>\n",
       "      <td>0.621460</td>\n",
       "      <td>0.814338</td>\n",
       "      <td>00:01</td>\n",
       "    </tr>\n",
       "    <tr>\n",
       "      <td>41</td>\n",
       "      <td>0.935009</td>\n",
       "      <td>0.598224</td>\n",
       "      <td>0.823529</td>\n",
       "      <td>00:01</td>\n",
       "    </tr>\n",
       "    <tr>\n",
       "      <td>42</td>\n",
       "      <td>0.910033</td>\n",
       "      <td>0.589997</td>\n",
       "      <td>0.823529</td>\n",
       "      <td>00:01</td>\n",
       "    </tr>\n",
       "    <tr>\n",
       "      <td>43</td>\n",
       "      <td>0.886476</td>\n",
       "      <td>0.572549</td>\n",
       "      <td>0.834559</td>\n",
       "      <td>00:01</td>\n",
       "    </tr>\n",
       "    <tr>\n",
       "      <td>44</td>\n",
       "      <td>0.863483</td>\n",
       "      <td>0.571263</td>\n",
       "      <td>0.823529</td>\n",
       "      <td>00:01</td>\n",
       "    </tr>\n",
       "    <tr>\n",
       "      <td>45</td>\n",
       "      <td>0.841827</td>\n",
       "      <td>0.556031</td>\n",
       "      <td>0.832721</td>\n",
       "      <td>00:01</td>\n",
       "    </tr>\n",
       "    <tr>\n",
       "      <td>46</td>\n",
       "      <td>0.820774</td>\n",
       "      <td>0.547204</td>\n",
       "      <td>0.825368</td>\n",
       "      <td>00:01</td>\n",
       "    </tr>\n",
       "    <tr>\n",
       "      <td>47</td>\n",
       "      <td>0.801198</td>\n",
       "      <td>0.530478</td>\n",
       "      <td>0.838235</td>\n",
       "      <td>00:01</td>\n",
       "    </tr>\n",
       "    <tr>\n",
       "      <td>48</td>\n",
       "      <td>0.782951</td>\n",
       "      <td>0.521585</td>\n",
       "      <td>0.843750</td>\n",
       "      <td>00:01</td>\n",
       "    </tr>\n",
       "    <tr>\n",
       "      <td>49</td>\n",
       "      <td>0.765260</td>\n",
       "      <td>0.530423</td>\n",
       "      <td>0.832721</td>\n",
       "      <td>00:01</td>\n",
       "    </tr>\n",
       "    <tr>\n",
       "      <td>50</td>\n",
       "      <td>0.747995</td>\n",
       "      <td>0.505606</td>\n",
       "      <td>0.840074</td>\n",
       "      <td>00:01</td>\n",
       "    </tr>\n",
       "    <tr>\n",
       "      <td>51</td>\n",
       "      <td>0.731795</td>\n",
       "      <td>0.506356</td>\n",
       "      <td>0.840074</td>\n",
       "      <td>00:01</td>\n",
       "    </tr>\n",
       "    <tr>\n",
       "      <td>52</td>\n",
       "      <td>0.716118</td>\n",
       "      <td>0.498265</td>\n",
       "      <td>0.851103</td>\n",
       "      <td>00:01</td>\n",
       "    </tr>\n",
       "    <tr>\n",
       "      <td>53</td>\n",
       "      <td>0.700885</td>\n",
       "      <td>0.491792</td>\n",
       "      <td>0.843750</td>\n",
       "      <td>00:01</td>\n",
       "    </tr>\n",
       "    <tr>\n",
       "      <td>54</td>\n",
       "      <td>0.687410</td>\n",
       "      <td>0.483914</td>\n",
       "      <td>0.847426</td>\n",
       "      <td>00:01</td>\n",
       "    </tr>\n",
       "    <tr>\n",
       "      <td>55</td>\n",
       "      <td>0.673726</td>\n",
       "      <td>0.477786</td>\n",
       "      <td>0.849265</td>\n",
       "      <td>00:01</td>\n",
       "    </tr>\n",
       "    <tr>\n",
       "      <td>56</td>\n",
       "      <td>0.660702</td>\n",
       "      <td>0.475477</td>\n",
       "      <td>0.849265</td>\n",
       "      <td>00:01</td>\n",
       "    </tr>\n",
       "    <tr>\n",
       "      <td>57</td>\n",
       "      <td>0.647792</td>\n",
       "      <td>0.463094</td>\n",
       "      <td>0.849265</td>\n",
       "      <td>00:01</td>\n",
       "    </tr>\n",
       "    <tr>\n",
       "      <td>58</td>\n",
       "      <td>0.635260</td>\n",
       "      <td>0.458709</td>\n",
       "      <td>0.849265</td>\n",
       "      <td>00:01</td>\n",
       "    </tr>\n",
       "    <tr>\n",
       "      <td>59</td>\n",
       "      <td>0.623812</td>\n",
       "      <td>0.457600</td>\n",
       "      <td>0.851103</td>\n",
       "      <td>00:01</td>\n",
       "    </tr>\n",
       "    <tr>\n",
       "      <td>60</td>\n",
       "      <td>0.612874</td>\n",
       "      <td>0.450033</td>\n",
       "      <td>0.862132</td>\n",
       "      <td>00:01</td>\n",
       "    </tr>\n",
       "    <tr>\n",
       "      <td>61</td>\n",
       "      <td>0.602025</td>\n",
       "      <td>0.444041</td>\n",
       "      <td>0.854779</td>\n",
       "      <td>00:01</td>\n",
       "    </tr>\n",
       "    <tr>\n",
       "      <td>62</td>\n",
       "      <td>0.591895</td>\n",
       "      <td>0.447334</td>\n",
       "      <td>0.867647</td>\n",
       "      <td>00:01</td>\n",
       "    </tr>\n",
       "    <tr>\n",
       "      <td>63</td>\n",
       "      <td>0.581992</td>\n",
       "      <td>0.435566</td>\n",
       "      <td>0.854779</td>\n",
       "      <td>00:01</td>\n",
       "    </tr>\n",
       "    <tr>\n",
       "      <td>64</td>\n",
       "      <td>0.573056</td>\n",
       "      <td>0.438506</td>\n",
       "      <td>0.862132</td>\n",
       "      <td>00:01</td>\n",
       "    </tr>\n",
       "    <tr>\n",
       "      <td>65</td>\n",
       "      <td>0.564746</td>\n",
       "      <td>0.431364</td>\n",
       "      <td>0.852941</td>\n",
       "      <td>00:01</td>\n",
       "    </tr>\n",
       "    <tr>\n",
       "      <td>66</td>\n",
       "      <td>0.556778</td>\n",
       "      <td>0.428498</td>\n",
       "      <td>0.865809</td>\n",
       "      <td>00:01</td>\n",
       "    </tr>\n",
       "    <tr>\n",
       "      <td>67</td>\n",
       "      <td>0.549769</td>\n",
       "      <td>0.419511</td>\n",
       "      <td>0.871324</td>\n",
       "      <td>00:01</td>\n",
       "    </tr>\n",
       "    <tr>\n",
       "      <td>68</td>\n",
       "      <td>0.542655</td>\n",
       "      <td>0.424984</td>\n",
       "      <td>0.858456</td>\n",
       "      <td>00:01</td>\n",
       "    </tr>\n",
       "    <tr>\n",
       "      <td>69</td>\n",
       "      <td>0.535874</td>\n",
       "      <td>0.421621</td>\n",
       "      <td>0.858456</td>\n",
       "      <td>00:01</td>\n",
       "    </tr>\n",
       "    <tr>\n",
       "      <td>70</td>\n",
       "      <td>0.528230</td>\n",
       "      <td>0.415207</td>\n",
       "      <td>0.858456</td>\n",
       "      <td>00:01</td>\n",
       "    </tr>\n",
       "    <tr>\n",
       "      <td>71</td>\n",
       "      <td>0.521415</td>\n",
       "      <td>0.410731</td>\n",
       "      <td>0.871324</td>\n",
       "      <td>00:01</td>\n",
       "    </tr>\n",
       "    <tr>\n",
       "      <td>72</td>\n",
       "      <td>0.515235</td>\n",
       "      <td>0.405832</td>\n",
       "      <td>0.876838</td>\n",
       "      <td>00:01</td>\n",
       "    </tr>\n",
       "    <tr>\n",
       "      <td>73</td>\n",
       "      <td>0.509327</td>\n",
       "      <td>0.407879</td>\n",
       "      <td>0.867647</td>\n",
       "      <td>00:01</td>\n",
       "    </tr>\n",
       "    <tr>\n",
       "      <td>74</td>\n",
       "      <td>0.503396</td>\n",
       "      <td>0.411849</td>\n",
       "      <td>0.871324</td>\n",
       "      <td>00:01</td>\n",
       "    </tr>\n",
       "    <tr>\n",
       "      <td>75</td>\n",
       "      <td>0.498021</td>\n",
       "      <td>0.402296</td>\n",
       "      <td>0.875000</td>\n",
       "      <td>00:01</td>\n",
       "    </tr>\n",
       "    <tr>\n",
       "      <td>76</td>\n",
       "      <td>0.492534</td>\n",
       "      <td>0.399862</td>\n",
       "      <td>0.871324</td>\n",
       "      <td>00:01</td>\n",
       "    </tr>\n",
       "    <tr>\n",
       "      <td>77</td>\n",
       "      <td>0.487180</td>\n",
       "      <td>0.400701</td>\n",
       "      <td>0.878676</td>\n",
       "      <td>00:01</td>\n",
       "    </tr>\n",
       "    <tr>\n",
       "      <td>78</td>\n",
       "      <td>0.482573</td>\n",
       "      <td>0.398740</td>\n",
       "      <td>0.876838</td>\n",
       "      <td>00:01</td>\n",
       "    </tr>\n",
       "    <tr>\n",
       "      <td>79</td>\n",
       "      <td>0.478087</td>\n",
       "      <td>0.397664</td>\n",
       "      <td>0.871324</td>\n",
       "      <td>00:01</td>\n",
       "    </tr>\n",
       "    <tr>\n",
       "      <td>80</td>\n",
       "      <td>0.474680</td>\n",
       "      <td>0.395519</td>\n",
       "      <td>0.875000</td>\n",
       "      <td>00:01</td>\n",
       "    </tr>\n",
       "    <tr>\n",
       "      <td>81</td>\n",
       "      <td>0.470805</td>\n",
       "      <td>0.394165</td>\n",
       "      <td>0.878676</td>\n",
       "      <td>00:01</td>\n",
       "    </tr>\n",
       "    <tr>\n",
       "      <td>82</td>\n",
       "      <td>0.466710</td>\n",
       "      <td>0.393276</td>\n",
       "      <td>0.880515</td>\n",
       "      <td>00:01</td>\n",
       "    </tr>\n",
       "    <tr>\n",
       "      <td>83</td>\n",
       "      <td>0.462994</td>\n",
       "      <td>0.391910</td>\n",
       "      <td>0.880515</td>\n",
       "      <td>00:01</td>\n",
       "    </tr>\n",
       "    <tr>\n",
       "      <td>84</td>\n",
       "      <td>0.459959</td>\n",
       "      <td>0.391362</td>\n",
       "      <td>0.880515</td>\n",
       "      <td>00:01</td>\n",
       "    </tr>\n",
       "    <tr>\n",
       "      <td>85</td>\n",
       "      <td>0.455949</td>\n",
       "      <td>0.391171</td>\n",
       "      <td>0.876838</td>\n",
       "      <td>00:01</td>\n",
       "    </tr>\n",
       "    <tr>\n",
       "      <td>86</td>\n",
       "      <td>0.453204</td>\n",
       "      <td>0.391248</td>\n",
       "      <td>0.878676</td>\n",
       "      <td>00:01</td>\n",
       "    </tr>\n",
       "    <tr>\n",
       "      <td>87</td>\n",
       "      <td>0.450764</td>\n",
       "      <td>0.391308</td>\n",
       "      <td>0.878676</td>\n",
       "      <td>00:01</td>\n",
       "    </tr>\n",
       "    <tr>\n",
       "      <td>88</td>\n",
       "      <td>0.447091</td>\n",
       "      <td>0.391001</td>\n",
       "      <td>0.878676</td>\n",
       "      <td>00:01</td>\n",
       "    </tr>\n",
       "    <tr>\n",
       "      <td>89</td>\n",
       "      <td>0.445155</td>\n",
       "      <td>0.390349</td>\n",
       "      <td>0.878676</td>\n",
       "      <td>00:01</td>\n",
       "    </tr>\n",
       "    <tr>\n",
       "      <td>90</td>\n",
       "      <td>0.443392</td>\n",
       "      <td>0.389826</td>\n",
       "      <td>0.880515</td>\n",
       "      <td>00:01</td>\n",
       "    </tr>\n",
       "    <tr>\n",
       "      <td>91</td>\n",
       "      <td>0.440941</td>\n",
       "      <td>0.389396</td>\n",
       "      <td>0.880515</td>\n",
       "      <td>00:01</td>\n",
       "    </tr>\n",
       "    <tr>\n",
       "      <td>92</td>\n",
       "      <td>0.439231</td>\n",
       "      <td>0.388977</td>\n",
       "      <td>0.880515</td>\n",
       "      <td>00:01</td>\n",
       "    </tr>\n",
       "    <tr>\n",
       "      <td>93</td>\n",
       "      <td>0.437787</td>\n",
       "      <td>0.388779</td>\n",
       "      <td>0.880515</td>\n",
       "      <td>00:01</td>\n",
       "    </tr>\n",
       "    <tr>\n",
       "      <td>94</td>\n",
       "      <td>0.436461</td>\n",
       "      <td>0.388651</td>\n",
       "      <td>0.878676</td>\n",
       "      <td>00:01</td>\n",
       "    </tr>\n",
       "    <tr>\n",
       "      <td>95</td>\n",
       "      <td>0.435018</td>\n",
       "      <td>0.388582</td>\n",
       "      <td>0.878676</td>\n",
       "      <td>00:01</td>\n",
       "    </tr>\n",
       "    <tr>\n",
       "      <td>96</td>\n",
       "      <td>0.432959</td>\n",
       "      <td>0.388557</td>\n",
       "      <td>0.878676</td>\n",
       "      <td>00:01</td>\n",
       "    </tr>\n",
       "    <tr>\n",
       "      <td>97</td>\n",
       "      <td>0.431848</td>\n",
       "      <td>0.388530</td>\n",
       "      <td>0.878676</td>\n",
       "      <td>00:01</td>\n",
       "    </tr>\n",
       "    <tr>\n",
       "      <td>98</td>\n",
       "      <td>0.430819</td>\n",
       "      <td>0.388514</td>\n",
       "      <td>0.878676</td>\n",
       "      <td>00:01</td>\n",
       "    </tr>\n",
       "    <tr>\n",
       "      <td>99</td>\n",
       "      <td>0.429198</td>\n",
       "      <td>0.388512</td>\n",
       "      <td>0.878676</td>\n",
       "      <td>00:01</td>\n",
       "    </tr>\n",
       "  </tbody>\n",
       "</table>"
      ],
      "text/plain": [
       "<IPython.core.display.HTML object>"
      ]
     },
     "metadata": {},
     "output_type": "display_data"
    },
    {
     "data": {
      "image/png": "[encoded data removed]",
      "text/plain": [
       "<Figure size 432x288 with 1 Axes>"
      ]
     },
     "metadata": {},
     "output_type": "display_data"
    },
    {
     "data": {
      "image/png": "[encoded data removed]",
      "text/plain": [
       "<Figure size 1440x288 with 3 Axes>"
      ]
     },
     "metadata": {
      "needs_background": "light"
     },
     "output_type": "display_data"
    }
   ],
   "source": [
    "learn = Learner(dls, model,  metrics=accuracy)\n",
    "start = time.time()\n",
    "learn.fit_one_cycle(n_epoch = 100, lr_max = 0.00009, cbs=ShowGraph())\n",
    "\n",
    "\n"
   ]
  },
  {
   "cell_type": "code",
   "execution_count": 19,
   "metadata": {
    "scrolled": true
   },
   "outputs": [
    {
     "data": {
      "image/png": "[encoded data removed]",
      "text/plain": [
       "<Figure size 1440x288 with 3 Axes>"
      ]
     },
     "metadata": {
      "needs_background": "light"
     },
     "output_type": "display_data"
    }
   ],
   "source": [
    "learn.plot_metrics()"
   ]
  },
  {
   "cell_type": "markdown",
   "metadata": {},
   "source": [
    "Рассмотрим несколько примеров результатов для валидационного набора данных."
   ]
  },
  {
   "cell_type": "code",
   "execution_count": 20,
   "metadata": {
    "id": "OSFF4Bp3M3pE",
    "outputId": "053156af-612f-4783-b3b5-b1e0e052b52a",
    "scrolled": true
   },
   "outputs": [
    {
     "data": {
      "text/html": [
       "\n",
       "<style>\n",
       "    /* Turns off some styling */\n",
       "    progress {\n",
       "        /* gets rid of default border in Firefox and Opera. */\n",
       "        border: none;\n",
       "        /* Needs to be in here for Safari polyfill so background images work as expected. */\n",
       "        background-size: auto;\n",
       "    }\n",
       "    .progress-bar-interrupted, .progress-bar-interrupted::-webkit-progress-bar {\n",
       "        background: #F44336;\n",
       "    }\n",
       "</style>\n"
      ],
      "text/plain": [
       "<IPython.core.display.HTML object>"
      ]
     },
     "metadata": {},
     "output_type": "display_data"
    },
    {
     "data": {
      "text/html": [],
      "text/plain": [
       "<IPython.core.display.HTML object>"
      ]
     },
     "metadata": {},
     "output_type": "display_data"
    },
    {
     "data": {
      "image/png": "[encoded data removed]",
      "text/plain": [
       "<Figure size 1296x864 with 9 Axes>"
      ]
     },
     "metadata": {
      "needs_background": "light"
     },
     "output_type": "display_data"
    }
   ],
   "source": [
    "learn.show_results(sharey=True)"
   ]
  },
  {
   "cell_type": "markdown",
   "metadata": {},
   "source": [
    "Также давайте попробуем визуализировать результаты. Следующий график показывает вероятность при которой определяется класс для каждого семпла валидационной выборки."
   ]
  },
  {
   "cell_type": "code",
   "execution_count": 21,
   "metadata": {
    "id": "CBwxcVKqM3pE",
    "outputId": "88883a38-c1d1-42b5-a30a-4fed46208b3e"
   },
   "outputs": [
    {
     "data": {
      "text/html": [
       "\n",
       "<style>\n",
       "    /* Turns off some styling */\n",
       "    progress {\n",
       "        /* gets rid of default border in Firefox and Opera. */\n",
       "        border: none;\n",
       "        /* Needs to be in here for Safari polyfill so background images work as expected. */\n",
       "        background-size: auto;\n",
       "    }\n",
       "    .progress-bar-interrupted, .progress-bar-interrupted::-webkit-progress-bar {\n",
       "        background: #F44336;\n",
       "    }\n",
       "</style>\n"
      ],
      "text/plain": [
       "<IPython.core.display.HTML object>"
      ]
     },
     "metadata": {},
     "output_type": "display_data"
    },
    {
     "data": {
      "text/html": [],
      "text/plain": [
       "<IPython.core.display.HTML object>"
      ]
     },
     "metadata": {},
     "output_type": "display_data"
    },
    {
     "data": {
      "image/png": "[encoded data removed]",
      "text/plain": [
       "<Figure size 432x432 with 1 Axes>"
      ]
     },
     "metadata": {
      "needs_background": "light"
     },
     "output_type": "display_data"
    }
   ],
   "source": [
    "learn.show_probas()"
   ]
  },
  {
   "cell_type": "markdown",
   "metadata": {},
   "source": [
    "Также для анализа ошибок давайте посмотрим на матрицу ошибок."
   ]
  },
  {
   "cell_type": "code",
   "execution_count": 22,
   "metadata": {
    "id": "SuS_Cwk5M3pF",
    "outputId": "a2b39744-1b3d-4b7c-f1e9-05dd51c08b0c",
    "scrolled": true
   },
   "outputs": [
    {
     "data": {
      "text/html": [
       "\n",
       "<style>\n",
       "    /* Turns off some styling */\n",
       "    progress {\n",
       "        /* gets rid of default border in Firefox and Opera. */\n",
       "        border: none;\n",
       "        /* Needs to be in here for Safari polyfill so background images work as expected. */\n",
       "        background-size: auto;\n",
       "    }\n",
       "    .progress-bar-interrupted, .progress-bar-interrupted::-webkit-progress-bar {\n",
       "        background: #F44336;\n",
       "    }\n",
       "</style>\n"
      ],
      "text/plain": [
       "<IPython.core.display.HTML object>"
      ]
     },
     "metadata": {},
     "output_type": "display_data"
    },
    {
     "data": {
      "text/html": [],
      "text/plain": [
       "<IPython.core.display.HTML object>"
      ]
     },
     "metadata": {},
     "output_type": "display_data"
    },
    {
     "data": {
      "text/html": [
       "\n",
       "<style>\n",
       "    /* Turns off some styling */\n",
       "    progress {\n",
       "        /* gets rid of default border in Firefox and Opera. */\n",
       "        border: none;\n",
       "        /* Needs to be in here for Safari polyfill so background images work as expected. */\n",
       "        background-size: auto;\n",
       "    }\n",
       "    .progress-bar-interrupted, .progress-bar-interrupted::-webkit-progress-bar {\n",
       "        background: #F44336;\n",
       "    }\n",
       "</style>\n"
      ],
      "text/plain": [
       "<IPython.core.display.HTML object>"
      ]
     },
     "metadata": {},
     "output_type": "display_data"
    },
    {
     "data": {
      "text/html": [],
      "text/plain": [
       "<IPython.core.display.HTML object>"
      ]
     },
     "metadata": {},
     "output_type": "display_data"
    },
    {
     "data": {
      "image/png": "[encoded data removed]",
      "text/plain": [
       "<Figure size 432x288 with 1 Axes>"
      ]
     },
     "metadata": {
      "needs_background": "light"
     },
     "output_type": "display_data"
    }
   ],
   "source": [
    "interp = ClassificationInterpretation.from_learner(learn)\n",
    "interp.plot_confusion_matrix()"
   ]
  },
  {
   "cell_type": "markdown",
   "metadata": {},
   "source": [
    "Выберем из матрицы наиболее ошибочные случаи."
   ]
  },
  {
   "cell_type": "code",
   "execution_count": 23,
   "metadata": {
    "id": "VpY08vVpM3pF",
    "outputId": "8ece88b2-791c-4c0a-a2ad-ba00951e9e36"
   },
   "outputs": [
    {
     "data": {
      "text/html": [
       "\n",
       "<style>\n",
       "    /* Turns off some styling */\n",
       "    progress {\n",
       "        /* gets rid of default border in Firefox and Opera. */\n",
       "        border: none;\n",
       "        /* Needs to be in here for Safari polyfill so background images work as expected. */\n",
       "        background-size: auto;\n",
       "    }\n",
       "    .progress-bar-interrupted, .progress-bar-interrupted::-webkit-progress-bar {\n",
       "        background: #F44336;\n",
       "    }\n",
       "</style>\n"
      ],
      "text/plain": [
       "<IPython.core.display.HTML object>"
      ]
     },
     "metadata": {},
     "output_type": "display_data"
    },
    {
     "data": {
      "text/html": [],
      "text/plain": [
       "<IPython.core.display.HTML object>"
      ]
     },
     "metadata": {},
     "output_type": "display_data"
    },
    {
     "data": {
      "text/plain": [
       "[('spring', 'winter', 17),\n",
       " ('autumn', 'spring', 12),\n",
       " ('winter', 'autumn', 12),\n",
       " ('autumn', 'winter', 11),\n",
       " ('winter', 'spring', 6),\n",
       " ('spring', 'summer', 3),\n",
       " ('summer', 'spring', 3)]"
      ]
     },
     "execution_count": 23,
     "metadata": {},
     "output_type": "execute_result"
    }
   ],
   "source": [
    "interp.most_confused(min_val=3)"
   ]
  },
  {
   "cell_type": "markdown",
   "metadata": {},
   "source": [
    "Помимо прочего попробуем сделать предсказания для тестового набора данных."
   ]
  },
  {
   "cell_type": "code",
   "execution_count": 24,
   "metadata": {
    "scrolled": true
   },
   "outputs": [
    {
     "data": {
      "text/html": [
       "\n",
       "<style>\n",
       "    /* Turns off some styling */\n",
       "    progress {\n",
       "        /* gets rid of default border in Firefox and Opera. */\n",
       "        border: none;\n",
       "        /* Needs to be in here for Safari polyfill so background images work as expected. */\n",
       "        background-size: auto;\n",
       "    }\n",
       "    .progress-bar-interrupted, .progress-bar-interrupted::-webkit-progress-bar {\n",
       "        background: #F44336;\n",
       "    }\n",
       "</style>\n"
      ],
      "text/plain": [
       "<IPython.core.display.HTML object>"
      ]
     },
     "metadata": {},
     "output_type": "display_data"
    },
    {
     "data": {
      "text/html": [],
      "text/plain": [
       "<IPython.core.display.HTML object>"
      ]
     },
     "metadata": {},
     "output_type": "display_data"
    },
    {
     "data": {
      "text/plain": [
       "(\"['summer', 'winter', 'summer', 'summer', 'winter']\",\n",
       " array(['summer', 'winter', 'summer', 'summer', 'winter'], dtype='<U6'))"
      ]
     },
     "execution_count": 24,
     "metadata": {},
     "output_type": "execute_result"
    }
   ],
   "source": [
    "probas, _, preds = learn.get_X_preds(X[splits[2][:5]])\n",
    "preds, y[splits[2][:5]]"
   ]
  },
  {
   "cell_type": "markdown",
   "metadata": {},
   "source": [
    "Оценим точность на тестовом наборе данных"
   ]
  },
  {
   "cell_type": "code",
   "execution_count": 89,
   "metadata": {},
   "outputs": [
    {
     "data": {
      "text/html": [
       "\n",
       "<style>\n",
       "    /* Turns off some styling */\n",
       "    progress {\n",
       "        /* gets rid of default border in Firefox and Opera. */\n",
       "        border: none;\n",
       "        /* Needs to be in here for Safari polyfill so background images work as expected. */\n",
       "        background-size: auto;\n",
       "    }\n",
       "    .progress-bar-interrupted, .progress-bar-interrupted::-webkit-progress-bar {\n",
       "        background: #F44336;\n",
       "    }\n",
       "</style>\n"
      ],
      "text/plain": [
       "<IPython.core.display.HTML object>"
      ]
     },
     "metadata": {},
     "output_type": "display_data"
    },
    {
     "data": {
      "text/html": [],
      "text/plain": [
       "<IPython.core.display.HTML object>"
      ]
     },
     "metadata": {},
     "output_type": "display_data"
    }
   ],
   "source": [
    "probas, _, preds = learn.get_X_preds(X[splits[2]])"
   ]
  },
  {
   "cell_type": "code",
   "execution_count": 90,
   "metadata": {},
   "outputs": [],
   "source": [
    "class_map = {\n",
    "    'winter':3,   \n",
    "    'summer':2,   \n",
    "    'autumn':0,   \n",
    "    'spring':1,  \n",
    "    }\n",
    "class_map\n",
    "\n",
    "labeler = ReLabeler(class_map)"
   ]
  },
  {
   "cell_type": "code",
   "execution_count": 96,
   "metadata": {},
   "outputs": [
    {
     "data": {
      "text/plain": [
       "0.8674033149171271"
      ]
     },
     "execution_count": 96,
     "metadata": {},
     "output_type": "execute_result"
    }
   ],
   "source": [
    "from sklearn.metrics import accuracy_score\n",
    "\n",
    "accuracy_score(np.argmax(probas,axis=-1), labeler(y[splits[2]]))\n"
   ]
  },
  {
   "cell_type": "markdown",
   "metadata": {},
   "source": [
    "также покажем возможность сохранить и загрузить наборы данных при помощи `tsai`."
   ]
  },
  {
   "cell_type": "code",
   "execution_count": 97,
   "metadata": {},
   "outputs": [],
   "source": [
    "learn.save_all(path='export', dls_fname='dls', model_fname='model', learner_fname='learner')"
   ]
  },
  {
   "cell_type": "code",
   "execution_count": 99,
   "metadata": {},
   "outputs": [],
   "source": [
    "learn = load_learner_all(path='export', dls_fname='dls', model_fname='model', learner_fname='learner')\n",
    "dls = learn.dls"
   ]
  },
  {
   "cell_type": "markdown",
   "metadata": {},
   "source": [
    "Отдельно выгрузить и загрузить модель для работы (не для тренировки) можно при помощи следующего скрипта. "
   ]
  },
  {
   "cell_type": "code",
   "execution_count": 100,
   "metadata": {
    "id": "QLehBSn5M3pE"
   },
   "outputs": [],
   "source": [
    "PATH = Path('./models/RNNn.pkl')\n",
    "PATH.parent.mkdir(parents=True, exist_ok=True)\n",
    "learn.export(PATH)"
   ]
  },
  {
   "cell_type": "code",
   "execution_count": 102,
   "metadata": {},
   "outputs": [],
   "source": [
    "learn = load_learner(PATH)"
   ]
  },
  {
   "cell_type": "code",
   "execution_count": 103,
   "metadata": {},
   "outputs": [
    {
     "data": {
      "text/html": [
       "\n",
       "<style>\n",
       "    /* Turns off some styling */\n",
       "    progress {\n",
       "        /* gets rid of default border in Firefox and Opera. */\n",
       "        border: none;\n",
       "        /* Needs to be in here for Safari polyfill so background images work as expected. */\n",
       "        background-size: auto;\n",
       "    }\n",
       "    .progress-bar-interrupted, .progress-bar-interrupted::-webkit-progress-bar {\n",
       "        background: #F44336;\n",
       "    }\n",
       "</style>\n"
      ],
      "text/plain": [
       "<IPython.core.display.HTML object>"
      ]
     },
     "metadata": {},
     "output_type": "display_data"
    },
    {
     "data": {
      "text/html": [],
      "text/plain": [
       "<IPython.core.display.HTML object>"
      ]
     },
     "metadata": {},
     "output_type": "display_data"
    },
    {
     "data": {
      "text/plain": [
       "(\"['summer', 'winter', 'summer', 'summer', 'winter']\",\n",
       " array(['summer', 'winter', 'summer', 'summer', 'winter'], dtype='<U6'))"
      ]
     },
     "execution_count": 103,
     "metadata": {},
     "output_type": "execute_result"
    }
   ],
   "source": [
    "probas, _, preds = learn.get_X_preds(X[splits[2][:5]])\n",
    "preds, y[splits[2][:5]]"
   ]
  },
  {
   "cell_type": "markdown",
   "metadata": {},
   "source": [
    "Больше информации по работе с фреймворком `tsai` можно получить в разделе уроки в рамках [официального репозитория](https://github.com/timeseriesAI/tsai/tree/main/tutorial_nbs) или [документации](https://timeseriesai.github.io/tsai/tutorials.html)."
   ]
  },
  {
   "cell_type": "code",
   "execution_count": null,
   "metadata": {},
   "outputs": [],
   "source": []
  }
 ],
 "metadata": {
  "colab": {
   "name": "01a_MultiClass_MultiLabel_TSClassification.ipynb",
   "provenance": []
  },
  "kernelspec": {
   "display_name": "Python 3",
   "language": "python",
   "name": "python3"
  },
  "language_info": {
   "codemirror_mode": {
    "name": "ipython",
    "version": 3
   },
   "file_extension": ".py",
   "mimetype": "text/x-python",
   "name": "python",
   "nbconvert_exporter": "python",
   "pygments_lexer": "ipython3",
   "version": "3.7.0"
  },
  "toc": {
   "base_numbering": 1,
   "nav_menu": {},
   "number_sections": true,
   "sideBar": true,
   "skip_h1_title": false,
   "title_cell": "Table of Contents",
   "title_sidebar": "Contents",
   "toc_cell": false,
   "toc_position": {},
   "toc_section_display": true,
   "toc_window_display": false
  }
 },
 "nbformat": 4,
 "nbformat_minor": 4
}
